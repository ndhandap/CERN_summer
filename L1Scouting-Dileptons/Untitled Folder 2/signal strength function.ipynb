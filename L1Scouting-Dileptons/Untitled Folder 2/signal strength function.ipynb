{
 "cells": [
  {
   "cell_type": "code",
   "execution_count": 1,
   "id": "865670a6",
   "metadata": {},
   "outputs": [
    {
     "name": "stdout",
     "output_type": "stream",
     "text": [
      "Welcome to JupyROOT 6.28/00\n"
     ]
    }
   ],
   "source": [
    "import ROOT, os, sys, glob\n",
    "import numpy as np\n",
    "from math import *\n",
    "from matplotlib import pyplot as plt\n",
    "from ROOT import kBlack, kBlue, kRed\n",
    "\n",
    "ROOT.EnableImplicitMT(4);"
   ]
  },
  {
   "cell_type": "code",
   "execution_count": 2,
   "id": "a931e38e",
   "metadata": {},
   "outputs": [
    {
     "data": {
      "text/plain": [
       "['/eos/cms/store/cmst3/group/l1tr/gpetrucc/dilep-scout/l1MuNano_HAHM_ZdToMuMu_M10_PU200.125X_v0.1.root',\n",
       " '/eos/cms/store/cmst3/group/l1tr/gpetrucc/dilep-scout/l1MuNano_HAHM_ZdToMuMu_M12_PU200.125X_v0.1.root',\n",
       " '/eos/cms/store/cmst3/group/l1tr/gpetrucc/dilep-scout/l1MuNano_HAHM_ZdToMuMu_M15_PU200.125X_v0.1.root',\n",
       " '/eos/cms/store/cmst3/group/l1tr/gpetrucc/dilep-scout/l1MuNano_HAHM_ZdToMuMu_M25_PU200.125X_v0.1.root',\n",
       " '/eos/cms/store/cmst3/group/l1tr/gpetrucc/dilep-scout/l1MuNano_HAHM_ZdToMuMu_M2_PU200.125X_v0.1.root',\n",
       " '/eos/cms/store/cmst3/group/l1tr/gpetrucc/dilep-scout/l1MuNano_HAHM_ZdToMuMu_M3p5_PU200.125X_v0.1.root',\n",
       " '/eos/cms/store/cmst3/group/l1tr/gpetrucc/dilep-scout/l1MuNano_HAHM_ZdToMuMu_M40_PU200.125X_v0.1.root',\n",
       " '/eos/cms/store/cmst3/group/l1tr/gpetrucc/dilep-scout/l1MuNano_HAHM_ZdToMuMu_M4_PU200.125X_v0.1.root',\n",
       " '/eos/cms/store/cmst3/group/l1tr/gpetrucc/dilep-scout/l1MuNano_HAHM_ZdToMuMu_M5_PU200.125X_v0.1.root',\n",
       " '/eos/cms/store/cmst3/group/l1tr/gpetrucc/dilep-scout/l1MuNano_HAHM_ZdToMuMu_M7_PU200.125X_v0.1.root',\n",
       " '/eos/cms/store/cmst3/group/l1tr/gpetrucc/dilep-scout/l1MuNano_SingleNeutrino_big_PU200.125X_v0.1.root']"
      ]
     },
     "execution_count": 2,
     "metadata": {},
     "output_type": "execute_result"
    }
   ],
   "source": [
    "list(glob.glob(\"/eos/cms/store/cmst3/group/l1tr/gpetrucc/dilep-scout/*125X_v0.1.root\"))"
   ]
  },
  {
   "cell_type": "code",
   "execution_count": 3,
   "id": "27335bad",
   "metadata": {},
   "outputs": [
    {
     "data": {
      "text/plain": [
       "['/eos/cms/store/cmst3/group/l1tr/gpetrucc/dilep-scout/l1MuNano_BsToMuMu_PU200.125X_v0.0.root',\n",
       " '/eos/cms/store/cmst3/group/l1tr/gpetrucc/dilep-scout/l1MuNano_DYToLL_M-10To50_PU200.125X_v0.0.root',\n",
       " '/eos/cms/store/cmst3/group/l1tr/gpetrucc/dilep-scout/l1MuNano_DYToLL_M-50_PU200.125X_v0.0.root',\n",
       " '/eos/cms/store/cmst3/group/l1tr/gpetrucc/dilep-scout/l1MuNano_HAHM_ZdToMuMu_M15_PU200.125X_v0.0.root',\n",
       " '/eos/cms/store/cmst3/group/l1tr/gpetrucc/dilep-scout/l1MuNano_HAHM_ZdToMuMu_M2_PU200.125X_v0.0.root',\n",
       " '/eos/cms/store/cmst3/group/l1tr/gpetrucc/dilep-scout/l1MuNano_HAHM_ZdToMuMu_M5_PU200.125X_v0.0.root',\n",
       " '/eos/cms/store/cmst3/group/l1tr/gpetrucc/dilep-scout/l1MuNano_JPsiToMuMu_PU200.125X_v0.0.root',\n",
       " '/eos/cms/store/cmst3/group/l1tr/gpetrucc/dilep-scout/l1MuNano_SingleNeutrino_PU200.125X_v0.0.root']"
      ]
     },
     "execution_count": 3,
     "metadata": {},
     "output_type": "execute_result"
    }
   ],
   "source": [
    "list(glob.glob(\"/eos/cms/store/cmst3/group/l1tr/gpetrucc/dilep-scout/*125X_v0.0.root\"))"
   ]
  },
  {
   "cell_type": "code",
   "execution_count": 4,
   "id": "7963d688",
   "metadata": {},
   "outputs": [],
   "source": [
    "def Efficiency_plotter(file_name):\n",
    "    rdf = ROOT.RDataFrame(\"Events\",f\"/eos/cms/store/cmst3/group/l1tr/gpetrucc/dilep-scout/{file_name}\")\n",
    "    def makeDimuonPairs(name, rdf):\n",
    "        ## define 4-vectors in cartesian coordinates, for easier \n",
    "        rdf = rdf.Define(f\"{name}Mu_p4\", f\"ROOT::VecOps::Construct<ROOT::Math::XYZTVector>(ROOT::VecOps::Construct<ROOT::Math::PtEtaPhiMVector>({name}Mu_pt,{name}Mu_eta,{name}Mu_phi,{name}Mu_mass))\")\n",
    "        ## make indices of all the pairs\n",
    "        rdf = rdf.Define(f\"{name}DiMu_indices\", f\"\"\"\n",
    "            ROOT::VecOps::RVec<std::pair<int,int>> ret; \n",
    "            for (int i = 0, n = n{name}Mu; i < n; ++i) \n",
    "                for (int i2 = i+1; i2 < n; ++i2) \n",
    "                    ret.emplace_back(i,i2);\n",
    "            return ret;\"\"\")\n",
    "\n",
    "        #Let us impose a selection criteria here\n",
    "\n",
    "\n",
    "        ## Make the number of dimuons, for convenience later\n",
    "        rdf = rdf.Define(f\"n{name}DiMu\", f\"{name}DiMu_indices.size()\")\n",
    "        ## compute the mass, charge\n",
    "        rdf = rdf.Define(f\"{name}DiMu_mass\", f\"\"\"\n",
    "            ROOT::RVecF ret; \n",
    "            for (const auto & pair : {name}DiMu_indices) \n",
    "                ret.emplace_back(({name}Mu_p4[pair.first]+{name}Mu_p4[pair.second]).M());\n",
    "            return ret;\"\"\")\n",
    "\n",
    "\n",
    "        rdf = rdf.Define(f\"{name}DiMu_charge\", f\"\"\"\n",
    "            ROOT::RVecI ret; \n",
    "            for (const auto & pair : {name}DiMu_indices) \n",
    "                ret.emplace_back({name}Mu_charge[pair.first]+{name}Mu_charge[pair.second]);\n",
    "            return ret;\"\"\")\n",
    "\n",
    "\n",
    "\n",
    "        rdf = rdf.Define(f\"{name}DiMu_minIdx\", f\"\"\"\n",
    "            ROOT::RVecI ret;\n",
    "            for (const auto & pair : {name}DiMu_indices) \n",
    "                ret.emplace_back(std::min(TkMu_GenMuIdx[pair.first],TkMu_GenMuIdx[pair.second]));\n",
    "            return ret;\"\"\")\n",
    "\n",
    "\n",
    "        rdf = rdf.Define(f\"{name}DiMu_eta\", f\"\"\"\n",
    "            ROOT::RVecF ret;\n",
    "            for (const auto & pair : {name}DiMu_indices) \n",
    "                ret.emplace_back(std::max(abs({name}Mu_eta[pair.first]),abs({name}Mu_eta[pair.second])));\n",
    "            return ret;\"\"\")\n",
    "        \n",
    "        rdf=rdf.Define(f\"{name}DiMu_dz\",f\"\"\"\n",
    "            ROOT::RVecF ret;\n",
    "            for(const auto & pair : {name}DiMu_indices)\n",
    "                ret.emplace_back(({name}Mu_vz[pair.first]-{name}Mu_vz[pair.second]));\n",
    "            return ret;\"\"\")\n",
    "        #min pT of thw two\n",
    "        rdf = rdf.Define(f\"{name}Mu_minPT\",f\"\"\"\n",
    "            ROOT::RVecF ret;\n",
    "            for(const auto & pair : {name}DiMu_indices)\n",
    "                ret.emplace_back(std::min({name}Mu_pt[pair.first],{name}Mu_pt[pair.second]));\n",
    "            return ret;\"\"\") #\n",
    "\n",
    "        return rdf;\n",
    "    \n",
    "    entries_no_pair = rdf.Count().GetValue()\n",
    "    \n",
    "####################################################################################################################################################################    \n",
    "    def makeTk_DiMuonPairs(rdf):\n",
    "    \n",
    "        #this is to defne DiMuon pairs for different properties\n",
    "        rdf = rdf.Define(f\"TkDiMu_hwIsoSum\", f\"\"\"\n",
    "            ROOT::RVecI ret; \n",
    "            for (const auto & pair : TkDiMu_indices) \n",
    "                ret.emplace_back(0.03125*(std::max(TkMu_hwIsoSum[pair.first],TkMu_hwIsoSum[pair.second])));\n",
    "            return ret;\"\"\")\n",
    "\n",
    "        rdf = rdf.Define(f\"TkDiMu_hwIsoSumAp\", f\"\"\"\n",
    "            ROOT::RVecI ret; \n",
    "            for (const auto & pair : TkDiMu_indices) \n",
    "                ret.emplace_back(0.03125*(std::max(TkMu_hwIsoSumAp[pair.first],TkMu_hwIsoSumAp[pair.second])));\n",
    "            return ret;\"\"\")\n",
    "\n",
    "        rdf = rdf.Define(f\"TkDiMu_hwQual\", f\"\"\"\n",
    "            ROOT::RVecI ret; \n",
    "            for (const auto & pair : TkDiMu_indices) \n",
    "                ret.emplace_back(std::min(TkMu_hwQual[pair.first],TkMu_hwQual[pair.second]));\n",
    "            return ret;\"\"\")\n",
    "\n",
    "        return rdf;\n",
    "    rdf_Tkdimu_one = makeDimuonPairs(\"Tk\",rdf) \n",
    "    rdf_Tkdimu = makeTk_DiMuonPairs(rdf_Tkdimu_one)\n",
    "    h_TkDiMu_mass = rdf_Tkdimu.Histo1D((\"\",\"\",50,20,30),\"TkDiMu_mass\")\n",
    "    \n",
    "    entries_Tk_pair = rdf_Tkdimu.Count().GetValue()\n",
    "    \n",
    "####################################################################################################################################################################\n",
    "    \n",
    "    rdf_genDiMu = makeDimuonPairs(\"Gen\",rdf_Tkdimu)\n",
    "    \n",
    "    entries_gen_pair = rdf_genDiMu.Count().GetValue()\n",
    "    \n",
    "    def select_ind(name, rdf):\n",
    "    \n",
    "        #Let us impose a selection criteria here\n",
    "        #rdf = rdf.Define(f\"{name}DiMu_selind\",f\"{name}DiMu_indices\")\n",
    "        rdf = rdf.Define(f\"{name}DiMu_good\", f\"({name}DiMu_charge<0.1 && {name}DiMu_charge>-0.1) &&({name}DiMu_dz<1 && ({name}DiMu_dz>-1))&&({name}Mu_minPT>2.) && (TkDiMu_hwQual>75) && ({name}DiMu_eta <= 2) && (TkDiMu_hwIsoSumAp<=1.5) && (TkDiMu_hwIsoSum<=1.5)\")                    \n",
    "        rdf = rdf.Define(f\"Good{name}DiMu_indices\", f\"{name}DiMu_indices[{name}DiMu_good]\")\n",
    "        rdf = rdf.Filter(f\"Sum({name}DiMu_good)  >= 1\")\n",
    "        rdf = rdf.Define(f\"n{name}DiMu_sel\",f\"Good{name}DiMu_indices.size()\")\n",
    "        rdf = rdf.Define(f\"{name}DiMu_selMass\",f\"{name}DiMu_mass[{name}DiMu_good]\")\n",
    "        rdf = rdf.Define(f\"{name}DiMu_selCharge\",f\"{name}DiMu_charge[{name}DiMu_good]\")\n",
    "        rdf = rdf.Define(f\"{name}DiMu_seldz\",f\"{name}DiMu_dz[{name}DiMu_good]\")\n",
    "        rdf = rdf.Define(f\"{name}DiMu_selMinPt\",f\"{name}Mu_minPT[{name}DiMu_good]\")\n",
    "        rdf = rdf.Define(f\"{name}DiMu_selEta\",f\"{name}DiMu_eta[{name}DiMu_good]\")\n",
    "        rdf = rdf.Define(f\"GoodTkDiMu_hwQual\",f\"TkDiMu_hwQual[{name}DiMu_good]\")\n",
    "        rdf = rdf.Define(f\"GoodTkDiMu_hwIsoSum\",f\"TkDiMu_hwIsoSum[{name}DiMu_good]\")\n",
    "        rdf = rdf.Define(f\"GoodTkDiMu_hwIsoSumAp\",f\"TkDiMu_hwIsoSumAp[{name}DiMu_good]\")\n",
    "        #rdf = rdf.Define(f\"TkDiMu_selEta\",f\"TkDiMu_eta[{name}DiMu_good]\")\n",
    "\n",
    "        #rdf = rdf.Define(f\"GoodTkDiMu_minIdx_{name}\",f\"TkDiMu_minIdx[{name}DiMu_good]\")\n",
    "        return rdf;\n",
    "\n",
    "    #rdf_selFeat = select_ind(\"Gen\",rdf_idxSel)\n",
    "    rdf_Tk_selFeat = select_ind(\"Tk\", rdf_Tkdimu)\n",
    "    h_TkDiMu_selMass = rdf_Tk_selFeat.Histo1D((\"\",\"\",50,20,30),\"TkDiMu_selMass\")\n",
    "    \n",
    "####################################################################################################################################################################    \n",
    "    \n",
    "    def indexSelect(rdf):\n",
    "        rdf = rdf.Define(\"TkDiMu_indMatch\",\"(TkDiMu_minIdx!=-1)\" )\n",
    "        rdf = rdf.Define(f\"IdxDiMu_indices\", f\"TkDiMu_indices[TkDiMu_indMatch]\")\n",
    "        rdf = rdf.Filter(f\"Sum(TkDiMu_indMatch)  >= 1\")\n",
    "        rdf = rdf.Define(f\"nTkDiMu_Idx\",f\"IdxDiMu_indices.size()\")\n",
    "        rdf = rdf.Define(f\"TkDiMu_IdxMass\",f\"TkDiMu_mass[TkDiMu_indMatch]\")\n",
    "        rdf = rdf.Define(f\"TkDiMu_IdxCharge\",f\"TkDiMu_charge[TkDiMu_indMatch]\")\n",
    "        rdf = rdf.Define(f\"TkDiMu_Idxdz\",f\"TkDiMu_dz[TkDiMu_indMatch]\")\n",
    "        rdf = rdf.Define(f\"TkDiMu_IdxMinPt\",f\"TkMu_minPT[TkDiMu_indMatch]\")\n",
    "        rdf = rdf.Define(f\"TkDiMu_IdxhwIsoSum\",f\"TkDiMu_hwIsoSum[TkDiMu_indMatch]\")\n",
    "        rdf = rdf.Define(f\"TkDiMu_IdxhwIsoSumAp\",f\"TkDiMu_hwIsoSumAp[TkDiMu_indMatch]\")\n",
    "        rdf = rdf.Define(f\"TkDiMu_IdxhwQual\",f\"TkDiMu_hwQual[TkDiMu_indMatch]\")\n",
    "        rdf = rdf.Define(\"TkDiMu_IdxEta\",\"TkDiMu_eta[TkDiMu_indMatch]\")\n",
    "        return rdf;\n",
    "\n",
    "    rdf_idxSel = indexSelect(rdf_Tk_selFeat)\n",
    "    \n",
    "    entries_idx_pair = rdf_idxSel.Count().GetValue()\n",
    "    \n",
    "####################################################################################################################################################################\n",
    "    \n",
    "    hIdxTkPairMass = rdf_idxSel.Histo1D((\"Tk_Mass_Idx\",\"Idx m(#mu#mu)_{Tk};m (GeV);Pairs\",50,20,30), \"TkDiMu_IdxMass\")\n",
    "\n",
    "   \n",
    "    \n",
    "    \n",
    "    def select_idx_tk(rdf):\n",
    "\n",
    "        #Let us impose a selection criteria here\n",
    "        #rdf = rdf.Define(f\"{name}DiMu_selind\",f\"{name}DiMu_indices\")\n",
    "        rdf = rdf.Define(f\"TkDiMu_Idx_good\", f\"(TkDiMu_IdxCharge <0.1 && TkDiMu_IdxCharge > -0.1) &&(TkDiMu_Idxdz <1 && (TkDiMu_Idxdz > -1))&&(TkDiMu_IdxMinPt > 2.) && (TkDiMu_IdxhwQual>75) && (TkDiMu_IdxEta <= 2) && (TkDiMu_IdxhwIsoSum<=1.5) && (TkDiMu_IdxhwIsoSumAp<=1.5)\")                    \n",
    "        rdf = rdf.Define(f\"TkDiMu_sel_Idx_indices\", f\"IdxDiMu_indices[TkDiMu_Idx_good]\")\n",
    "        rdf = rdf.Filter(f\"Sum(TkDiMu_Idx_good)  >= 1\")\n",
    "        rdf = rdf.Define(f\"nTkDiMu_IdxSel\",f\"TkDiMu_sel_Idx_indices.size()\")\n",
    "        rdf = rdf.Define(f\"TkDiMu_IdxselMass\",f\"TkDiMu_IdxMass[TkDiMu_Idx_good]\")\n",
    "        rdf = rdf.Define(f\"TkDiMu_IdxselCharge\",f\"TkDiMu_IdxCharge[TkDiMu_Idx_good]\")\n",
    "        rdf = rdf.Define(f\"TkDiMu_Idxseldz\",f\"TkDiMu_Idxdz[TkDiMu_Idx_good]\")\n",
    "        rdf = rdf.Define(f\"TkDiMu_IdxselMinPt\",f\"TkDiMu_IdxMinPt[TkDiMu_Idx_good]\")\n",
    "        rdf = rdf.Define(f\"TkDiMu_IdxselhwQual\",f\"TkDiMu_IdxhwQual[TkDiMu_Idx_good]\")\n",
    "        rdf = rdf.Define(f\"TkDiMu_IdxselhwIsoSum\",f\"TkDiMu_IdxhwIsoSum[TkDiMu_Idx_good]\")\n",
    "        rdf = rdf.Define(f\"TkDiMu_IdxselhwIsoSumAp\",f\"TkDiMu_IdxhwIsoSumAp[TkDiMu_Idx_good]\")\n",
    "        rdf = rdf.Define(f\"GoodTkDiMu_minIdx\",f\"TkDiMu_minIdx[TkDiMu_Idx_good]\")\n",
    "\n",
    "        return rdf;\n",
    "    rdf_Tk_IdxselFeat = select_idx_tk(rdf_idxSel)\n",
    "    \n",
    "    #rdf_Tk_IdxselFeat = select_idx_tk(rdf_Tk_selFeat)\n",
    "    \n",
    "    entries_selIdx_pair = rdf_Tk_IdxselFeat.Count().GetValue()\n",
    "    \n",
    "####################################################################################################################################################################    \n",
    "    hGoodIdxTkPairMass = rdf_Tk_IdxselFeat.Histo1D((\"Good Tk_Mass\",\"Good m(#mu#mu)_{Tk};m (GeV);Pairs\",50,20,30), \"TkDiMu_IdxselMass\")\n",
    "    \n",
    "    h1 = hGoodIdxTkPairMass.GetPtr()\n",
    "    h1.SetLineColor(kBlue+1)\n",
    "    h1.SetLineWidth(2)\n",
    "    h1.SetMaximum(4000)\n",
    "    h2 = hIdxTkPairMass.GetPtr()\n",
    "    h2.SetLineColor(kRed)\n",
    "    h2.SetLineWidth(2)\n",
    "    h2.SetMaximum(4000)\n",
    "    \n",
    "    def createRatio(h1, h2):\n",
    "        h3 = h1.Clone(\"h3\")\n",
    "        h3.SetLineColor(kBlack)\n",
    "        h3.SetMarkerStyle(21)\n",
    "        h3.SetTitle(\"\")\n",
    "        h3.SetMinimum(0)\n",
    "        h3.SetMaximum(1.2)\n",
    "        # Set up plot for markers and errors\n",
    "        h3.Sumw2() #what is this used for (removal of zeros is the rough idea I have)\n",
    "        h3.SetStats(0)\n",
    "        h3.Divide(h2)\n",
    "\n",
    "    #     # Adjust y-axis settings\n",
    "        y = h3.GetYaxis()\n",
    "        y.SetTitle(\"ratio h1/h2 \")\n",
    "        y.SetNdivisions(505)\n",
    "        y.SetTitleSize(20)\n",
    "        y.SetTitleFont(43)\n",
    "        y.SetTitleOffset(1.55)\n",
    "        y.SetLabelFont(43)\n",
    "        y.SetLabelSize(15)\n",
    "\n",
    "    #     # Adjust x-axis settings\n",
    "        x = h3.GetXaxis()\n",
    "        x.SetTitleSize(20)\n",
    "        x.SetTitleFont(43)\n",
    "        x.SetTitleOffset(4.0)\n",
    "        x.SetLabelFont(43)\n",
    "        x.SetLabelSize(15)\n",
    "\n",
    "        return h3;\n",
    "    \n",
    "    \n",
    "    h3 = createRatio(h1, h2)\n",
    "    \n",
    "    e1 = entries_selIdx_pair/entries_no_pair\n",
    "    e2 = entries_selIdx_pair/entries_idx_pair\n",
    "    \n",
    "    \n",
    "    return dict(h1=h1, h2=h2, h3=h3, e1=e1, e2=e2, entries_idx_pair=entries_idx_pair,entries_Tk_pair=entries_Tk_pair, h_TkDiMu_mass=h_TkDiMu_mass, h_TkDiMu_selMass=h_TkDiMu_selMass);"
   ]
  },
  {
   "cell_type": "code",
   "execution_count": 5,
   "id": "a8a01345",
   "metadata": {},
   "outputs": [
    {
     "name": "stderr",
     "output_type": "stream",
     "text": [
      "Warning in <TClass::Init>: no dictionary for class edm::Hash<1> is available\n",
      "Warning in <TClass::Init>: no dictionary for class edm::ProcessHistory is available\n",
      "Warning in <TClass::Init>: no dictionary for class edm::ProcessConfiguration is available\n",
      "Warning in <TClass::Init>: no dictionary for class edm::ParameterSetBlob is available\n",
      "Warning in <TClass::Init>: no dictionary for class pair<edm::Hash<1>,edm::ParameterSetBlob> is available\n"
     ]
    }
   ],
   "source": [
    "#for single neutrino background you only need h_TkDiMu_mass, h_TkDiMu_selMass\n",
    "data_bg = Efficiency_plotter(\"l1MuNano_DYToLL_M-10To50_PU200.125X_v0.0.root\")"
   ]
  },
  {
   "cell_type": "code",
   "execution_count": 6,
   "id": "bb6f4e80",
   "metadata": {},
   "outputs": [
    {
     "data": {
      "image/png": "[encoded data removed]",
      "text/plain": [
       "<IPython.core.display.Image object>"
      ]
     },
     "metadata": {},
     "output_type": "display_data"
    }
   ],
   "source": [
    "c = ROOT.TCanvas()\n",
    "c.cd()\n",
    "data_bg['h_TkDiMu_selMass'].Draw()\n",
    "c.Draw()"
   ]
  },
  {
   "cell_type": "code",
   "execution_count": 8,
   "id": "0be0e90d",
   "metadata": {},
   "outputs": [],
   "source": [
    "# m = \"3\"\n",
    "# data_{m}=20\n",
    "# print(data_3)"
   ]
  },
  {
   "cell_type": "code",
   "execution_count": 43,
   "id": "c5b3eb63",
   "metadata": {},
   "outputs": [
    {
     "data": {
      "image/png": "[encoded data removed]",
      "text/plain": [
       "<IPython.core.display.Image object>"
      ]
     },
     "metadata": {},
     "output_type": "display_data"
    }
   ],
   "source": [
    "#scaling for single neutrino background/ signal where Freq = cross section and T = L\n",
    "def dY_Number(h, Freq, T, entries):\n",
    "    h_final = h.Clone()\n",
    "    h_final.Scale((Freq*T)/entries)\n",
    "    return h_final;\n",
    "\n",
    "h5_bg = dY_Number(data_bg['h_TkDiMu_selMass'].GetPtr(), (21.3*(10**6)), 400,data_bg['entries_Tk_pair']) #for single neutrino\n",
    "c = ROOT.TCanvas()\n",
    "c.cd()\n",
    "h5_bg.Draw(\"hist\")\n",
    "c.Draw()"
   ]
  },
  {
   "cell_type": "code",
   "execution_count": 37,
   "id": "a2001959",
   "metadata": {},
   "outputs": [
    {
     "name": "stdout",
     "output_type": "stream",
     "text": [
      "10289855.072463766\n"
     ]
    }
   ],
   "source": [
    "i=h5_bg.GetXaxis().FindBin(25)\n",
    "N_b_by_m=(h5_bg.GetBinContent(i)/h5_bg.GetXaxis().GetBinWidth(i))\n",
    "print(N_b_by_m)"
   ]
  },
  {
   "cell_type": "code",
   "execution_count": 38,
   "id": "8afafea9",
   "metadata": {},
   "outputs": [],
   "source": [
    "#h.Integral(0, h.GetNbinsX()+1)\n",
    "\n",
    "data_sig = Efficiency_plotter(\"l1MuNano_HAHM_ZdToMuMu_M25_PU200.125X_v0.1.root\")"
   ]
  },
  {
   "cell_type": "code",
   "execution_count": 39,
   "id": "5225b22e",
   "metadata": {},
   "outputs": [
    {
     "data": {
      "image/png": "[encoded data removed]",
      "text/plain": [
       "<IPython.core.display.Image object>"
      ]
     },
     "metadata": {},
     "output_type": "display_data"
    }
   ],
   "source": [
    "h4_sig = data_sig['h1'].Clone()\n",
    "h4_sig.Scale((((21.53*(10**3))*(3e-6/(0.02**2)))*400)/data_sig['entries_idx_pair'])\n",
    "y = h4_sig.GetYaxis()\n",
    "y.SetTitle(\"Total Number of dark phtotn events with mass = 25 per year\")\n",
    "c1 = ROOT.TCanvas()\n",
    "c1.cd()\n",
    "h4_sig.Draw(\"hist c plc\")\n",
    "c1.Draw()"
   ]
  },
  {
   "cell_type": "code",
   "execution_count": 40,
   "id": "82fa5da8",
   "metadata": {},
   "outputs": [
    {
     "name": "stdout",
     "output_type": "stream",
     "text": [
      "Standard Deviation = 0.2407181608459536\n",
      " FCN=484.941 FROM MIGRAD    STATUS=CONVERGED     274 CALLS         275 TOTAL\n",
      "                     EDM=1.30857e-07    STRATEGY= 1      ERROR MATRIX ACCURATE \n",
      "  EXT PARAMETER                                   STEP         FIRST   \n",
      "  NO.   NAME      VALUE            ERROR          SIZE      DERIVATIVE \n",
      "   1  p0           1.84347e+04   3.81505e+02   2.97058e+00  -5.83250e-07\n",
      "   2  p1           2.50114e+01   3.64303e-03   3.88268e-05  -1.34143e-01\n",
      "   3  p2           2.40718e-01   3.43557e-03   2.66356e-05  -1.21170e-02\n"
     ]
    },
    {
     "data": {
      "image/png": "[encoded data removed]",
      "text/plain": [
       "<IPython.core.display.Image object>"
      ]
     },
     "metadata": {},
     "output_type": "display_data"
    }
   ],
   "source": [
    "h5 = h4_sig.Clone()\n",
    "# h4.Copy(h5)\n",
    "# data = h5.GetValue()\n",
    "c = ROOT.TCanvas(\"c\",\"c\",750,400)\n",
    "\n",
    "fit = ROOT.TF1(\"fit\", \"[0]*exp(-0.5*((x-[1])/[2])^2)\", 20, 30)\n",
    "fit.SetParameter(1, 24.68)\n",
    "fit.SetParameter(2, 0.69071)\n",
    "# for i in range(3):\n",
    "#     fit.SetParameter(i, fit.GetParameter(i))\n",
    "\n",
    "fit.SetLineColor(2)\n",
    "fit.SetLineStyle(1)\n",
    "fit.SetLineWidth(2)\n",
    "h5.Draw()\n",
    "h5.Fit(\"fit\", \"0\", \"\", 20, 30)\n",
    "std = fit.GetParameter(2)\n",
    "fit.Draw(\"SAME\")\n",
    "c.Draw()\n",
    "print(f\"Standard Deviation = {std}\")"
   ]
  },
  {
   "cell_type": "code",
   "execution_count": 41,
   "id": "9b6cba4c",
   "metadata": {},
   "outputs": [
    {
     "name": "stdout",
     "output_type": "stream",
     "text": [
      "62979.930434782626\n"
     ]
    }
   ],
   "source": [
    "N_s = h4_sig.Integral(0,h4_sig.GetNbinsX()+1)\n",
    "print(N_s)"
   ]
  },
  {
   "cell_type": "code",
   "execution_count": 42,
   "id": "19196365",
   "metadata": {},
   "outputs": [
    {
     "name": "stdout",
     "output_type": "stream",
     "text": [
      "28.296200326909315\n"
     ]
    }
   ],
   "source": [
    "#Calculating signal strength\n",
    "strength = N_s/((N_b_by_m*(2*std))**0.5)\n",
    "print(strength)"
   ]
  },
  {
   "cell_type": "code",
   "execution_count": null,
   "id": "c0566759",
   "metadata": {},
   "outputs": [],
   "source": []
  }
 ],
 "metadata": {
  "@webio": {
   "lastCommId": null,
   "lastKernelId": null
  },
  "kernelspec": {
   "display_name": "Python 3",
   "language": "python",
   "name": "python3"
  },
  "language_info": {
   "codemirror_mode": {
    "name": "ipython",
    "version": 3
   },
   "file_extension": ".py",
   "mimetype": "text/x-python",
   "name": "python",
   "nbconvert_exporter": "python",
   "pygments_lexer": "ipython3",
   "version": "3.9.12"
  }
 },
 "nbformat": 4,
 "nbformat_minor": 5
}
