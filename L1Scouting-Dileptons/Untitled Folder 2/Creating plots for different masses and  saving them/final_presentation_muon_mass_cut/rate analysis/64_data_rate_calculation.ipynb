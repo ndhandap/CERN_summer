{
 "cells": [
  {
   "cell_type": "code",
   "execution_count": 1,
   "id": "de547bdf",
   "metadata": {},
   "outputs": [
    {
     "name": "stdout",
     "output_type": "stream",
     "text": [
      "Welcome to JupyROOT 6.28/00\n"
     ]
    }
   ],
   "source": [
    "import ROOT, os, sys, glob\n",
    "import numpy as np\n",
    "import math\n",
    "import array as ar\n",
    "from matplotlib import pyplot as plt\n",
    "from ROOT import kBlack, kBlue, kRed\n",
    "from array import array\n",
    "\n",
    "#ROOT.EnableImplicitMT(4); "
   ]
  },
  {
   "cell_type": "code",
   "execution_count": 2,
   "id": "cb0cab3b",
   "metadata": {},
   "outputs": [
    {
     "data": {
      "text/plain": [
       "['/eos/cms/store/cmst3/group/l1tr/gpetrucc/dilep-scout/l1MuNano_BsToMuMu_PU200.125X_v0.2.root',\n",
       " '/eos/cms/store/cmst3/group/l1tr/gpetrucc/dilep-scout/l1MuNano_DYToLL_M-10To50_PU200.125X_v0.2.root',\n",
       " '/eos/cms/store/cmst3/group/l1tr/gpetrucc/dilep-scout/l1MuNano_DYToLL_M-1To10_TuneCP5_14TeV-pythia8_PU200.125X_v0.2.root',\n",
       " '/eos/cms/store/cmst3/group/l1tr/gpetrucc/dilep-scout/l1MuNano_DYToLL_M-50_PU200.125X_v0.2.root',\n",
       " '/eos/cms/store/cmst3/group/l1tr/gpetrucc/dilep-scout/l1MuNano_HAHM_ZdToMuMu_M10_PU200.125X_v0.2.root',\n",
       " '/eos/cms/store/cmst3/group/l1tr/gpetrucc/dilep-scout/l1MuNano_HAHM_ZdToMuMu_M12_PU200.125X_v0.2.root',\n",
       " '/eos/cms/store/cmst3/group/l1tr/gpetrucc/dilep-scout/l1MuNano_HAHM_ZdToMuMu_M15_PU200.125X_v0.2.root',\n",
       " '/eos/cms/store/cmst3/group/l1tr/gpetrucc/dilep-scout/l1MuNano_HAHM_ZdToMuMu_M1p1_filtered_PU200.125X_v0.2.root',\n",
       " '/eos/cms/store/cmst3/group/l1tr/gpetrucc/dilep-scout/l1MuNano_HAHM_ZdToMuMu_M1p4_filtered_PU200.125X_v0.2.root',\n",
       " '/eos/cms/store/cmst3/group/l1tr/gpetrucc/dilep-scout/l1MuNano_HAHM_ZdToMuMu_M1p7_filtered_PU200.125X_v0.2.root',\n",
       " '/eos/cms/store/cmst3/group/l1tr/gpetrucc/dilep-scout/l1MuNano_HAHM_ZdToMuMu_M25_PU200.125X_v0.2.root',\n",
       " '/eos/cms/store/cmst3/group/l1tr/gpetrucc/dilep-scout/l1MuNano_HAHM_ZdToMuMu_M2_PU200.125X_v0.2.root',\n",
       " '/eos/cms/store/cmst3/group/l1tr/gpetrucc/dilep-scout/l1MuNano_HAHM_ZdToMuMu_M2_filtered_PU200.125X_v0.2.root',\n",
       " '/eos/cms/store/cmst3/group/l1tr/gpetrucc/dilep-scout/l1MuNano_HAHM_ZdToMuMu_M2p5_filtered_PU200.125X_v0.2.root',\n",
       " '/eos/cms/store/cmst3/group/l1tr/gpetrucc/dilep-scout/l1MuNano_HAHM_ZdToMuMu_M3p5_PU200.125X_v0.2.root',\n",
       " '/eos/cms/store/cmst3/group/l1tr/gpetrucc/dilep-scout/l1MuNano_HAHM_ZdToMuMu_M40_PU200.125X_v0.2.root',\n",
       " '/eos/cms/store/cmst3/group/l1tr/gpetrucc/dilep-scout/l1MuNano_HAHM_ZdToMuMu_M4_PU200.125X_v0.2.root',\n",
       " '/eos/cms/store/cmst3/group/l1tr/gpetrucc/dilep-scout/l1MuNano_HAHM_ZdToMuMu_M4_filtered_PU200.125X_v0.2.root',\n",
       " '/eos/cms/store/cmst3/group/l1tr/gpetrucc/dilep-scout/l1MuNano_HAHM_ZdToMuMu_M5_PU200.125X_v0.2.root',\n",
       " '/eos/cms/store/cmst3/group/l1tr/gpetrucc/dilep-scout/l1MuNano_HAHM_ZdToMuMu_M7_PU200.125X_v0.2.root',\n",
       " '/eos/cms/store/cmst3/group/l1tr/gpetrucc/dilep-scout/l1MuNano_JPsiToMuMu_PU200.125X_v0.2.root',\n",
       " '/eos/cms/store/cmst3/group/l1tr/gpetrucc/dilep-scout/l1MuNano_SingleNeutrino_big_PU200.125X_v0.2.root']"
      ]
     },
     "execution_count": 2,
     "metadata": {},
     "output_type": "execute_result"
    }
   ],
   "source": [
    "list(glob.glob(\"/eos/cms/store/cmst3/group/l1tr/gpetrucc/dilep-scout/*125X_v0.2.root\"))"
   ]
  },
  {
   "cell_type": "code",
   "execution_count": 3,
   "id": "9582cba5",
   "metadata": {},
   "outputs": [],
   "source": [
    "rdf = ROOT.RDataFrame(\"Events\",\"/eos/cms/store/cmst3/group/l1tr/gpetrucc/dilep-scout/l1MuNano_SingleNeutrino_big_PU200.125X_v0.2.root\")"
   ]
  },
  {
   "cell_type": "code",
   "execution_count": 4,
   "id": "160876f7",
   "metadata": {},
   "outputs": [
    {
     "data": {
      "text/plain": [
       "Dataframe from TChain Events in file /eos/cms/store/cmst3/group/l1tr/gpetrucc/dilep-scout/l1MuNano_SingleNeutrino_big_PU200.125X_v0.2.root\n",
       "\n",
       "Property                Value\n",
       "--------                -----\n",
       "Columns in total           34\n",
       "Columns from defines        0\n",
       "Event loops run             0\n",
       "Processing slots            1\n",
       "\n",
       "Column          Type                            Origin\n",
       "------          ----                            ------\n",
       "GenMu_charge    ROOT::VecOps::RVec<Int_t>       Dataset\n",
       "GenMu_d0        ROOT::VecOps::RVec<Float_t>     Dataset\n",
       "GenMu_eta       ROOT::VecOps::RVec<Float_t>     Dataset\n",
       "GenMu_isFromTau ROOT::VecOps::RVec<Int_t>       Dataset\n",
       "GenMu_isPrompt  ROOT::VecOps::RVec<Int_t>       Dataset\n",
       "GenMu_mass      ROOT::VecOps::RVec<Float_t>     Dataset\n",
       "GenMu_phi       ROOT::VecOps::RVec<Float_t>     Dataset\n",
       "GenMu_pt        ROOT::VecOps::RVec<Float_t>     Dataset\n",
       "GenMu_vz        ROOT::VecOps::RVec<Float_t>     Dataset\n",
       "TkMu_GenMuFlav  ROOT::VecOps::RVec<UChar_t>     Dataset\n",
       "TkMu_GenMuIdx   ROOT::VecOps::RVec<Int_t>       Dataset\n",
       "TkMu_charge     ROOT::VecOps::RVec<Int_t>       Dataset\n",
       "TkMu_d0         ROOT::VecOps::RVec<Float_t>     Dataset\n",
       "TkMu_eta        ROOT::VecOps::RVec<Float_t>     Dataset\n",
       "TkMu_hwCharge   ROOT::VecOps::RVec<Int_t>       Dataset\n",
       "TkMu_hwD0       ROOT::VecOps::RVec<Int_t>       Dataset\n",
       "TkMu_hwEta      ROOT::VecOps::RVec<Int_t>       Dataset\n",
       "TkMu_hwIsoSum   ROOT::VecOps::RVec<Int_t>       Dataset\n",
       "TkMu_hwIsoSumAp ROOT::VecOps::RVec<Int_t>       Dataset\n",
       "TkMu_hwPhi      ROOT::VecOps::RVec<Int_t>       Dataset\n",
       "TkMu_hwPt       ROOT::VecOps::RVec<Int_t>       Dataset\n",
       "TkMu_hwQual     ROOT::VecOps::RVec<Int_t>       Dataset\n",
       "TkMu_hwZ0       ROOT::VecOps::RVec<Int_t>       Dataset\n",
       "TkMu_mass       ROOT::VecOps::RVec<Float_t>     Dataset\n",
       "TkMu_phi        ROOT::VecOps::RVec<Float_t>     Dataset\n",
       "TkMu_pt         ROOT::VecOps::RVec<Float_t>     Dataset\n",
       "TkMu_quality    ROOT::VecOps::RVec<Int_t>       Dataset\n",
       "TkMu_vz         ROOT::VecOps::RVec<Float_t>     Dataset\n",
       "bunchCrossing   UInt_t                          Dataset\n",
       "event           ULong64_t                       Dataset\n",
       "luminosityBlock UInt_t                          Dataset\n",
       "nGenMu          UInt_t                          Dataset\n",
       "nTkMu           UInt_t                          Dataset\n",
       "run             UInt_t                          Dataset"
      ]
     },
     "execution_count": 4,
     "metadata": {},
     "output_type": "execute_result"
    },
    {
     "name": "stderr",
     "output_type": "stream",
     "text": [
      "Error in <TNetXNGFile::Open>: [ERROR] Server responded with an error: [3010] Unable to give access - user access restricted - unauthorized identity used ; Permission denied\n",
      "\n",
      "Warning in <TClass::Init>: no dictionary for class edm::Hash<1> is available\n",
      "Warning in <TClass::Init>: no dictionary for class edm::ProcessHistory is available\n",
      "Warning in <TClass::Init>: no dictionary for class edm::ProcessConfiguration is available\n",
      "Warning in <TClass::Init>: no dictionary for class edm::ParameterSetBlob is available\n",
      "Warning in <TClass::Init>: no dictionary for class pair<edm::Hash<1>,edm::ParameterSetBlob> is available\n"
     ]
    }
   ],
   "source": [
    "rdf.Describe()"
   ]
  },
  {
   "cell_type": "code",
   "execution_count": 5,
   "id": "9916c184",
   "metadata": {},
   "outputs": [
    {
     "name": "stdout",
     "output_type": "stream",
     "text": [
      "+-----+-------+\n",
      "| Row | nTkMu | \n",
      "+-----+-------+\n",
      "| 0   | 2     | \n",
      "+-----+-------+\n",
      "| 1   | 1     | \n",
      "+-----+-------+\n",
      "| 2   | 1     | \n",
      "+-----+-------+\n",
      "| 3   | 0     | \n",
      "+-----+-------+\n",
      "| 4   | 0     | \n",
      "+-----+-------+\n",
      "| 5   | 3     | \n",
      "+-----+-------+\n",
      "| 6   | 1     | \n",
      "+-----+-------+\n",
      "| 7   | 0     | \n",
      "+-----+-------+\n",
      "| 8   | 1     | \n",
      "+-----+-------+\n",
      "| 9   | 2     | \n",
      "+-----+-------+\n",
      "| 10  | 1     | \n",
      "+-----+-------+\n",
      "| 11  | 1     | \n",
      "+-----+-------+\n",
      "| 12  | 2     | \n",
      "+-----+-------+\n",
      "| 13  | 0     | \n",
      "+-----+-------+\n",
      "| 14  | 0     | \n",
      "+-----+-------+\n",
      "| 15  | 2     | \n",
      "+-----+-------+\n",
      "| 16  | 1     | \n",
      "+-----+-------+\n",
      "| 17  | 2     | \n",
      "+-----+-------+\n",
      "| 18  | 1     | \n",
      "+-----+-------+\n",
      "| 19  | 0     | \n",
      "+-----+-------+\n",
      "| 20  | 0     | \n",
      "+-----+-------+\n",
      "| 21  | 0     | \n",
      "+-----+-------+\n",
      "| 22  | 5     | \n",
      "+-----+-------+\n",
      "| 23  | 0     | \n",
      "+-----+-------+\n",
      "| 24  | 0     | \n",
      "+-----+-------+\n",
      "| 25  | 0     | \n",
      "+-----+-------+\n",
      "| 26  | 2     | \n",
      "+-----+-------+\n",
      "| 27  | 1     | \n",
      "+-----+-------+\n",
      "| 28  | 0     | \n",
      "+-----+-------+\n",
      "| 29  | 1     | \n",
      "+-----+-------+\n",
      "| 30  | 1     | \n",
      "+-----+-------+\n",
      "| 31  | 1     | \n",
      "+-----+-------+\n",
      "| 32  | 3     | \n",
      "+-----+-------+\n",
      "| 33  | 0     | \n",
      "+-----+-------+\n",
      "| 34  | 0     | \n",
      "+-----+-------+\n",
      "| 35  | 0     | \n",
      "+-----+-------+\n",
      "| 36  | 0     | \n",
      "+-----+-------+\n",
      "| 37  | 0     | \n",
      "+-----+-------+\n",
      "| 38  | 0     | \n",
      "+-----+-------+\n",
      "| 39  | 3     | \n",
      "+-----+-------+\n",
      "| 40  | 0     | \n",
      "+-----+-------+\n",
      "| 41  | 0     | \n",
      "+-----+-------+\n",
      "| 42  | 2     | \n",
      "+-----+-------+\n",
      "| 43  | 0     | \n",
      "+-----+-------+\n",
      "| 44  | 0     | \n",
      "+-----+-------+\n",
      "| 45  | 0     | \n",
      "+-----+-------+\n",
      "| 46  | 0     | \n",
      "+-----+-------+\n",
      "| 47  | 1     | \n",
      "+-----+-------+\n",
      "| 48  | 3     | \n",
      "+-----+-------+\n",
      "| 49  | 0     | \n",
      "+-----+-------+\n",
      "| 50  | 5     | \n",
      "+-----+-------+\n",
      "| 51  | 0     | \n",
      "+-----+-------+\n",
      "| 52  | 2     | \n",
      "+-----+-------+\n",
      "| 53  | 2     | \n",
      "+-----+-------+\n",
      "| 54  | 0     | \n",
      "+-----+-------+\n",
      "| 55  | 1     | \n",
      "+-----+-------+\n",
      "| 56  | 2     | \n",
      "+-----+-------+\n",
      "| 57  | 2     | \n",
      "+-----+-------+\n",
      "| 58  | 1     | \n",
      "+-----+-------+\n",
      "| 59  | 5     | \n",
      "+-----+-------+\n",
      "| 60  | 2     | \n",
      "+-----+-------+\n",
      "| 61  | 0     | \n",
      "+-----+-------+\n",
      "| 62  | 1     | \n",
      "+-----+-------+\n",
      "| 63  | 1     | \n",
      "+-----+-------+\n",
      "| 64  | 0     | \n",
      "+-----+-------+\n",
      "| 65  | 0     | \n",
      "+-----+-------+\n",
      "| 66  | 8     | \n",
      "+-----+-------+\n",
      "| 67  | 0     | \n",
      "+-----+-------+\n",
      "| 68  | 0     | \n",
      "+-----+-------+\n",
      "| 69  | 1     | \n",
      "+-----+-------+\n",
      "| 70  | 2     | \n",
      "+-----+-------+\n",
      "| 71  | 0     | \n",
      "+-----+-------+\n",
      "| 72  | 0     | \n",
      "+-----+-------+\n",
      "| 73  | 2     | \n",
      "+-----+-------+\n",
      "| 74  | 3     | \n",
      "+-----+-------+\n",
      "| 75  | 5     | \n",
      "+-----+-------+\n",
      "| 76  | 3     | \n",
      "+-----+-------+\n",
      "| 77  | 0     | \n",
      "+-----+-------+\n",
      "| 78  | 6     | \n",
      "+-----+-------+\n",
      "| 79  | 1     | \n",
      "+-----+-------+\n",
      "| 80  | 0     | \n",
      "+-----+-------+\n",
      "| 81  | 1     | \n",
      "+-----+-------+\n",
      "| 82  | 1     | \n",
      "+-----+-------+\n",
      "| 83  | 1     | \n",
      "+-----+-------+\n",
      "| 84  | 4     | \n",
      "+-----+-------+\n",
      "| 85  | 1     | \n",
      "+-----+-------+\n",
      "| 86  | 2     | \n",
      "+-----+-------+\n",
      "| 87  | 0     | \n",
      "+-----+-------+\n",
      "| 88  | 2     | \n",
      "+-----+-------+\n",
      "| 89  | 0     | \n",
      "+-----+-------+\n",
      "| 90  | 1     | \n",
      "+-----+-------+\n",
      "| 91  | 0     | \n",
      "+-----+-------+\n",
      "| 92  | 0     | \n",
      "+-----+-------+\n",
      "| 93  | 1     | \n",
      "+-----+-------+\n",
      "| 94  | 4     | \n",
      "+-----+-------+\n",
      "| 95  | 0     | \n",
      "+-----+-------+\n",
      "| 96  | 1     | \n",
      "+-----+-------+\n",
      "| 97  | 0     | \n",
      "+-----+-------+\n",
      "| 98  | 0     | \n",
      "+-----+-------+\n",
      "| 99  | 0     | \n",
      "+-----+-------+\n"
     ]
    }
   ],
   "source": [
    "rdf.Display(['nTkMu'],100).Print()"
   ]
  },
  {
   "cell_type": "code",
   "execution_count": 6,
   "id": "0fc4a942",
   "metadata": {},
   "outputs": [],
   "source": [
    "rdf = rdf.Define(\"TkMu_rate_40\",\"(96*40*nTkMu) + (64*40)\")\n",
    "rdf = rdf.Define(\"TkMu_rate_35\",\"(96*35*nTkMu)+(64*35)\")"
   ]
  },
  {
   "cell_type": "code",
   "execution_count": 7,
   "id": "4d6e8479",
   "metadata": {},
   "outputs": [
    {
     "data": {
      "text/plain": [
       "Dataframe from TChain Events in file /eos/cms/store/cmst3/group/l1tr/gpetrucc/dilep-scout/l1MuNano_SingleNeutrino_big_PU200.125X_v0.2.root\n",
       "\n",
       "Property                Value\n",
       "--------                -----\n",
       "Columns in total           36\n",
       "Columns from defines        2\n",
       "Event loops run             1\n",
       "Processing slots            1\n",
       "\n",
       "Column          Type                            Origin\n",
       "------          ----                            ------\n",
       "GenMu_charge    ROOT::VecOps::RVec<Int_t>       Dataset\n",
       "GenMu_d0        ROOT::VecOps::RVec<Float_t>     Dataset\n",
       "GenMu_eta       ROOT::VecOps::RVec<Float_t>     Dataset\n",
       "GenMu_isFromTau ROOT::VecOps::RVec<Int_t>       Dataset\n",
       "GenMu_isPrompt  ROOT::VecOps::RVec<Int_t>       Dataset\n",
       "GenMu_mass      ROOT::VecOps::RVec<Float_t>     Dataset\n",
       "GenMu_phi       ROOT::VecOps::RVec<Float_t>     Dataset\n",
       "GenMu_pt        ROOT::VecOps::RVec<Float_t>     Dataset\n",
       "GenMu_vz        ROOT::VecOps::RVec<Float_t>     Dataset\n",
       "TkMu_GenMuFlav  ROOT::VecOps::RVec<UChar_t>     Dataset\n",
       "TkMu_GenMuIdx   ROOT::VecOps::RVec<Int_t>       Dataset\n",
       "TkMu_charge     ROOT::VecOps::RVec<Int_t>       Dataset\n",
       "TkMu_d0         ROOT::VecOps::RVec<Float_t>     Dataset\n",
       "TkMu_eta        ROOT::VecOps::RVec<Float_t>     Dataset\n",
       "TkMu_hwCharge   ROOT::VecOps::RVec<Int_t>       Dataset\n",
       "TkMu_hwD0       ROOT::VecOps::RVec<Int_t>       Dataset\n",
       "TkMu_hwEta      ROOT::VecOps::RVec<Int_t>       Dataset\n",
       "TkMu_hwIsoSum   ROOT::VecOps::RVec<Int_t>       Dataset\n",
       "TkMu_hwIsoSumAp ROOT::VecOps::RVec<Int_t>       Dataset\n",
       "TkMu_hwPhi      ROOT::VecOps::RVec<Int_t>       Dataset\n",
       "TkMu_hwPt       ROOT::VecOps::RVec<Int_t>       Dataset\n",
       "TkMu_hwQual     ROOT::VecOps::RVec<Int_t>       Dataset\n",
       "TkMu_hwZ0       ROOT::VecOps::RVec<Int_t>       Dataset\n",
       "TkMu_mass       ROOT::VecOps::RVec<Float_t>     Dataset\n",
       "TkMu_phi        ROOT::VecOps::RVec<Float_t>     Dataset\n",
       "TkMu_pt         ROOT::VecOps::RVec<Float_t>     Dataset\n",
       "TkMu_quality    ROOT::VecOps::RVec<Int_t>       Dataset\n",
       "TkMu_rate_35    unsigned int                    Define\n",
       "TkMu_rate_40    unsigned int                    Define\n",
       "TkMu_vz         ROOT::VecOps::RVec<Float_t>     Dataset\n",
       "bunchCrossing   UInt_t                          Dataset\n",
       "event           ULong64_t                       Dataset\n",
       "luminosityBlock UInt_t                          Dataset\n",
       "nGenMu          UInt_t                          Dataset\n",
       "nTkMu           UInt_t                          Dataset\n",
       "run             UInt_t                          Dataset"
      ]
     },
     "execution_count": 7,
     "metadata": {},
     "output_type": "execute_result"
    }
   ],
   "source": [
    "rdf.Describe()"
   ]
  },
  {
   "cell_type": "code",
   "execution_count": 8,
   "id": "d958b34b",
   "metadata": {},
   "outputs": [
    {
     "name": "stdout",
     "output_type": "stream",
     "text": [
      "+-----+--------------+\n",
      "| Row | TkMu_rate_40 | \n",
      "+-----+--------------+\n",
      "| 0   | 10240        | \n",
      "+-----+--------------+\n",
      "| 1   | 6400         | \n",
      "+-----+--------------+\n",
      "| 2   | 6400         | \n",
      "+-----+--------------+\n",
      "| 3   | 2560         | \n",
      "+-----+--------------+\n",
      "| 4   | 2560         | \n",
      "+-----+--------------+\n",
      "| 5   | 14080        | \n",
      "+-----+--------------+\n",
      "| 6   | 6400         | \n",
      "+-----+--------------+\n",
      "| 7   | 2560         | \n",
      "+-----+--------------+\n",
      "| 8   | 6400         | \n",
      "+-----+--------------+\n",
      "| 9   | 10240        | \n",
      "+-----+--------------+\n",
      "| 10  | 6400         | \n",
      "+-----+--------------+\n",
      "| 11  | 6400         | \n",
      "+-----+--------------+\n",
      "| 12  | 10240        | \n",
      "+-----+--------------+\n",
      "| 13  | 2560         | \n",
      "+-----+--------------+\n",
      "| 14  | 2560         | \n",
      "+-----+--------------+\n",
      "| 15  | 10240        | \n",
      "+-----+--------------+\n",
      "| 16  | 6400         | \n",
      "+-----+--------------+\n",
      "| 17  | 10240        | \n",
      "+-----+--------------+\n",
      "| 18  | 6400         | \n",
      "+-----+--------------+\n",
      "| 19  | 2560         | \n",
      "+-----+--------------+\n",
      "| 20  | 2560         | \n",
      "+-----+--------------+\n",
      "| 21  | 2560         | \n",
      "+-----+--------------+\n",
      "| 22  | 21760        | \n",
      "+-----+--------------+\n",
      "| 23  | 2560         | \n",
      "+-----+--------------+\n",
      "| 24  | 2560         | \n",
      "+-----+--------------+\n",
      "| 25  | 2560         | \n",
      "+-----+--------------+\n",
      "| 26  | 10240        | \n",
      "+-----+--------------+\n",
      "| 27  | 6400         | \n",
      "+-----+--------------+\n",
      "| 28  | 2560         | \n",
      "+-----+--------------+\n",
      "| 29  | 6400         | \n",
      "+-----+--------------+\n",
      "| 30  | 6400         | \n",
      "+-----+--------------+\n",
      "| 31  | 6400         | \n",
      "+-----+--------------+\n",
      "| 32  | 14080        | \n",
      "+-----+--------------+\n",
      "| 33  | 2560         | \n",
      "+-----+--------------+\n",
      "| 34  | 2560         | \n",
      "+-----+--------------+\n",
      "| 35  | 2560         | \n",
      "+-----+--------------+\n",
      "| 36  | 2560         | \n",
      "+-----+--------------+\n",
      "| 37  | 2560         | \n",
      "+-----+--------------+\n",
      "| 38  | 2560         | \n",
      "+-----+--------------+\n",
      "| 39  | 14080        | \n",
      "+-----+--------------+\n",
      "| 40  | 2560         | \n",
      "+-----+--------------+\n",
      "| 41  | 2560         | \n",
      "+-----+--------------+\n",
      "| 42  | 10240        | \n",
      "+-----+--------------+\n",
      "| 43  | 2560         | \n",
      "+-----+--------------+\n",
      "| 44  | 2560         | \n",
      "+-----+--------------+\n",
      "| 45  | 2560         | \n",
      "+-----+--------------+\n",
      "| 46  | 2560         | \n",
      "+-----+--------------+\n",
      "| 47  | 6400         | \n",
      "+-----+--------------+\n",
      "| 48  | 14080        | \n",
      "+-----+--------------+\n",
      "| 49  | 2560         | \n",
      "+-----+--------------+\n",
      "| 50  | 21760        | \n",
      "+-----+--------------+\n",
      "| 51  | 2560         | \n",
      "+-----+--------------+\n",
      "| 52  | 10240        | \n",
      "+-----+--------------+\n",
      "| 53  | 10240        | \n",
      "+-----+--------------+\n",
      "| 54  | 2560         | \n",
      "+-----+--------------+\n",
      "| 55  | 6400         | \n",
      "+-----+--------------+\n",
      "| 56  | 10240        | \n",
      "+-----+--------------+\n",
      "| 57  | 10240        | \n",
      "+-----+--------------+\n",
      "| 58  | 6400         | \n",
      "+-----+--------------+\n",
      "| 59  | 21760        | \n",
      "+-----+--------------+\n",
      "| 60  | 10240        | \n",
      "+-----+--------------+\n",
      "| 61  | 2560         | \n",
      "+-----+--------------+\n",
      "| 62  | 6400         | \n",
      "+-----+--------------+\n",
      "| 63  | 6400         | \n",
      "+-----+--------------+\n",
      "| 64  | 2560         | \n",
      "+-----+--------------+\n",
      "| 65  | 2560         | \n",
      "+-----+--------------+\n",
      "| 66  | 33280        | \n",
      "+-----+--------------+\n",
      "| 67  | 2560         | \n",
      "+-----+--------------+\n",
      "| 68  | 2560         | \n",
      "+-----+--------------+\n",
      "| 69  | 6400         | \n",
      "+-----+--------------+\n",
      "| 70  | 10240        | \n",
      "+-----+--------------+\n",
      "| 71  | 2560         | \n",
      "+-----+--------------+\n",
      "| 72  | 2560         | \n",
      "+-----+--------------+\n",
      "| 73  | 10240        | \n",
      "+-----+--------------+\n",
      "| 74  | 14080        | \n",
      "+-----+--------------+\n",
      "| 75  | 21760        | \n",
      "+-----+--------------+\n",
      "| 76  | 14080        | \n",
      "+-----+--------------+\n",
      "| 77  | 2560         | \n",
      "+-----+--------------+\n",
      "| 78  | 25600        | \n",
      "+-----+--------------+\n",
      "| 79  | 6400         | \n",
      "+-----+--------------+\n",
      "| 80  | 2560         | \n",
      "+-----+--------------+\n",
      "| 81  | 6400         | \n",
      "+-----+--------------+\n",
      "| 82  | 6400         | \n",
      "+-----+--------------+\n",
      "| 83  | 6400         | \n",
      "+-----+--------------+\n",
      "| 84  | 17920        | \n",
      "+-----+--------------+\n",
      "| 85  | 6400         | \n",
      "+-----+--------------+\n",
      "| 86  | 10240        | \n",
      "+-----+--------------+\n",
      "| 87  | 2560         | \n",
      "+-----+--------------+\n",
      "| 88  | 10240        | \n",
      "+-----+--------------+\n",
      "| 89  | 2560         | \n",
      "+-----+--------------+\n",
      "| 90  | 6400         | \n",
      "+-----+--------------+\n",
      "| 91  | 2560         | \n",
      "+-----+--------------+\n",
      "| 92  | 2560         | \n",
      "+-----+--------------+\n",
      "| 93  | 6400         | \n",
      "+-----+--------------+\n",
      "| 94  | 17920        | \n",
      "+-----+--------------+\n",
      "| 95  | 2560         | \n",
      "+-----+--------------+\n",
      "| 96  | 6400         | \n",
      "+-----+--------------+\n",
      "| 97  | 2560         | \n",
      "+-----+--------------+\n",
      "| 98  | 2560         | \n",
      "+-----+--------------+\n",
      "| 99  | 2560         | \n",
      "+-----+--------------+\n"
     ]
    }
   ],
   "source": [
    "rdf.Display(['TkMu_rate_40'],100).Print()"
   ]
  },
  {
   "cell_type": "code",
   "execution_count": 9,
   "id": "c628744e",
   "metadata": {
    "scrolled": true
   },
   "outputs": [
    {
     "name": "stdout",
     "output_type": "stream",
     "text": [
      "48640.0 and 46080\n"
     ]
    }
   ],
   "source": [
    "max_rate_40 = rdf.Max(\"TkMu_rate_40\").GetValue()\n",
    "print(f\"{max_rate_40} and\",12*40*96)"
   ]
  },
  {
   "cell_type": "code",
   "execution_count": 10,
   "id": "a53b982f",
   "metadata": {},
   "outputs": [
    {
     "name": "stdout",
     "output_type": "stream",
     "text": [
      "1.2953818178071748\n"
     ]
    }
   ],
   "source": [
    "print(rdf.Mean(\"nTkMu\").GetValue())"
   ]
  },
  {
   "cell_type": "code",
   "execution_count": 11,
   "id": "d69a4f8f",
   "metadata": {},
   "outputs": [],
   "source": [
    "# max_rate_Gbps = ((max_rate*10e6)/1024.0**3)\n",
    "# print(max_rate_Gbps)\n",
    "\n",
    "def GBps_con(bit_rate):\n",
    "    bit_rate_Gbps = (((bit_rate/8)*1e6)/1024.0**3)\n",
    "    return bit_rate_Gbps;"
   ]
  },
  {
   "cell_type": "code",
   "execution_count": 12,
   "id": "2e4cc6ec",
   "metadata": {},
   "outputs": [
    {
     "name": "stdout",
     "output_type": "stream",
     "text": [
      "5.662441253662109\n"
     ]
    }
   ],
   "source": [
    "max_rate_Gbps = GBps_con(max_rate_40)\n",
    "print(max_rate_Gbps)"
   ]
  },
  {
   "cell_type": "code",
   "execution_count": 13,
   "id": "2cf0a0a5",
   "metadata": {},
   "outputs": [
    {
     "name": "stdout",
     "output_type": "stream",
     "text": [
      "7534.266180379551\n",
      "0.8771040221186763\n"
     ]
    }
   ],
   "source": [
    "avg_bits_40 = rdf.Mean(\"TkMu_rate_40\").GetValue()\n",
    "print(avg_bits_40)\n",
    "print(GBps_con(avg_bits_40))"
   ]
  },
  {
   "cell_type": "code",
   "execution_count": 14,
   "id": "d27b7be9",
   "metadata": {},
   "outputs": [
    {
     "name": "stdout",
     "output_type": "stream",
     "text": [
      "6592.482907832107\n",
      "0.7674660193538418\n"
     ]
    }
   ],
   "source": [
    "avg_bits_35 = rdf.Mean(\"TkMu_rate_35\").GetValue()\n",
    "print(avg_bits_35)\n",
    "print(GBps_con(avg_bits_35))"
   ]
  },
  {
   "cell_type": "code",
   "execution_count": 15,
   "id": "c82c0424",
   "metadata": {},
   "outputs": [
    {
     "name": "stdout",
     "output_type": "stream",
     "text": [
      "0.04263700107521343 0.04872800122881535 0.314580069647895\n",
      "Max data rate in Gbps per node at 40MHz is 2.51664055718316\n",
      "Max data rate in Gbps in DTH at 40MHz is 45.299530029296875\n",
      "Average data rate in Gbps per node at 35MHz is 0.34109600860170747\n",
      "Average data rate in Gbps in DTH at 35MHz is 6.139728154830735\n"
     ]
    }
   ],
   "source": [
    "avg_DTH_35 = GBps_con(avg_bits_35)\n",
    "avg_DTH_40 = GBps_con(avg_bits_40)\n",
    "max_DTH_40 =  GBps_con(max_rate_40)\n",
    "\n",
    "avg_DTH_35_Gbps = GBps_con(avg_bits_35)*8\n",
    "avg_DTH_40_Gbps = GBps_con(avg_bits_40)*8\n",
    "max_DTH_40_Gbps =  GBps_con(max_rate_40)*8\n",
    "\n",
    "avg_node_35 = GBps_con(avg_bits_35)/18\n",
    "avg_node_40 = GBps_con(avg_bits_40)/18\n",
    "max_node_40 =  GBps_con(max_rate_40)/18\n",
    "\n",
    "avg_node_35_Gbps = avg_node_35*8\n",
    "avg_node_40_Gbps = avg_node_40*8\n",
    "max_node_40_Gbps = max_node_40*8\n",
    "\n",
    "\n",
    "print(avg_node_35,avg_node_40,max_node_40)\n",
    "\n",
    "print(f\"Max data rate in Gbps per node at 40MHz is {max_node_40_Gbps}\")\n",
    "print(f\"Max data rate in Gbps in DTH at 40MHz is {max_DTH_40_Gbps}\")\n",
    "print(f\"Average data rate in Gbps per node at 35MHz is {avg_node_35_Gbps}\")\n",
    "print(f\"Average data rate in Gbps in DTH at 35MHz is {avg_DTH_35_Gbps}\")\n",
    "\n",
    "\n",
    "\n"
   ]
  },
  {
   "cell_type": "code",
   "execution_count": 16,
   "id": "e53c6acc",
   "metadata": {},
   "outputs": [
    {
     "name": "stdout",
     "output_type": "stream",
     "text": [
      "Average data rate per year in DTH at 35MHz is 3.9157325778418097 PB\n",
      "The data received by each node on average at 35Mhz is 0.2175406987689894 PB\n",
      "The data received by each node on average at 40Mhz is 0.2486179414502736 PB\n",
      "The maximum data received by each node at 40Mhz is 1.6050370908892042 PB\n"
     ]
    }
   ],
   "source": [
    "def per_year(Gbyte_sec):\n",
    "    Gbyte_year = Gbyte_sec*5.35*(10**6)\n",
    "    return Gbyte_year;\n",
    "\n",
    "avg_node_Pb_year_35 = (per_year(avg_node_35)/1024**2)\n",
    "avg_node_Pb_year_40 = (per_year(avg_node_40)/1024**2)\n",
    "max_node_Pb_year_40 = (per_year(max_node_40)/1024**2)\n",
    "avg_DTH_Pb_year_35 = (per_year(avg_DTH_35)/1024**2)\n",
    "\n",
    "print(f\"Average data rate per year in DTH at 35MHz is {avg_DTH_Pb_year_35} PB\")\n",
    "\n",
    "print(f\"The data received by each node on average at 35Mhz is {avg_node_Pb_year_35} PB\")\n",
    "\n",
    "print(f\"The data received by each node on average at 40Mhz is {avg_node_Pb_year_40} PB\")\n",
    "\n",
    "print(f\"The maximum data received by each node at 40Mhz is {max_node_Pb_year_40} PB\")"
   ]
  },
  {
   "cell_type": "code",
   "execution_count": 17,
   "id": "7cc0b9b5",
   "metadata": {},
   "outputs": [
    {
     "name": "stdout",
     "output_type": "stream",
     "text": [
      "The average size for one orbit (3564 events) is 83912.88958397724 bytes\n",
      "1.2953818178071748\n"
     ]
    }
   ],
   "source": [
    "mean_mu = rdf.Mean(\"nTkMu\").GetValue()\n",
    "avg_bytes_orbit = (3564 *((mean_mu* 96)+64)) / 8\n",
    "print(f\"The average size for one orbit (3564 events) is {avg_bytes_orbit} bytes\")\n",
    "print(mean_mu)"
   ]
  },
  {
   "cell_type": "code",
   "execution_count": 18,
   "id": "4bd5fb6b",
   "metadata": {},
   "outputs": [
    {
     "name": "stdout",
     "output_type": "stream",
     "text": [
      "4.526253939523212\n"
     ]
    }
   ],
   "source": [
    "print((per_year((GBps_con(2*96*40))))/1028**2)"
   ]
  },
  {
   "cell_type": "code",
   "execution_count": 20,
   "id": "4c9478ad",
   "metadata": {},
   "outputs": [
    {
     "name": "stdout",
     "output_type": "stream",
     "text": [
      "65924.82907832107\n"
     ]
    }
   ],
   "source": [
    "real_bytes_orbit = (2800 *((mean_mu* 96)+64)) / 8\n",
    "print(real_bytes_orbit)"
   ]
  },
  {
   "cell_type": "code",
   "execution_count": null,
   "id": "ec911a8b",
   "metadata": {},
   "outputs": [],
   "source": []
  }
 ],
 "metadata": {
  "@webio": {
   "lastCommId": null,
   "lastKernelId": null
  },
  "kernelspec": {
   "display_name": "Python 3",
   "language": "python",
   "name": "python3"
  },
  "language_info": {
   "codemirror_mode": {
    "name": "ipython",
    "version": 3
   },
   "file_extension": ".py",
   "mimetype": "text/x-python",
   "name": "python",
   "nbconvert_exporter": "python",
   "pygments_lexer": "ipython3",
   "version": "3.9.12"
  }
 },
 "nbformat": 4,
 "nbformat_minor": 5
}
