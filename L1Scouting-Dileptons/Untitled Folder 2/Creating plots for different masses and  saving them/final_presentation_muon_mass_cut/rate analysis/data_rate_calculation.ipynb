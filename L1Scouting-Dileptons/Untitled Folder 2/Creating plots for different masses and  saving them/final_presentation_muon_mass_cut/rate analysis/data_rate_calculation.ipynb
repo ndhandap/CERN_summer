{
 "cells": [
  {
   "cell_type": "code",
   "execution_count": 1,
   "id": "de547bdf",
   "metadata": {},
   "outputs": [
    {
     "name": "stdout",
     "output_type": "stream",
     "text": [
      "Welcome to JupyROOT 6.28/00\n"
     ]
    }
   ],
   "source": [
    "import ROOT, os, sys, glob\n",
    "import numpy as np\n",
    "import math\n",
    "import array as ar\n",
    "from matplotlib import pyplot as plt\n",
    "from ROOT import kBlack, kBlue, kRed\n",
    "from array import array\n",
    "\n",
    "#ROOT.EnableImplicitMT(4); "
   ]
  },
  {
   "cell_type": "code",
   "execution_count": 2,
   "id": "cb0cab3b",
   "metadata": {},
   "outputs": [
    {
     "data": {
      "text/plain": [
       "['/eos/cms/store/cmst3/group/l1tr/gpetrucc/dilep-scout/l1MuNano_BsToMuMu_PU200.125X_v0.2.root',\n",
       " '/eos/cms/store/cmst3/group/l1tr/gpetrucc/dilep-scout/l1MuNano_DYToLL_M-10To50_PU200.125X_v0.2.root',\n",
       " '/eos/cms/store/cmst3/group/l1tr/gpetrucc/dilep-scout/l1MuNano_DYToLL_M-1To10_TuneCP5_14TeV-pythia8_PU200.125X_v0.2.root',\n",
       " '/eos/cms/store/cmst3/group/l1tr/gpetrucc/dilep-scout/l1MuNano_DYToLL_M-50_PU200.125X_v0.2.root',\n",
       " '/eos/cms/store/cmst3/group/l1tr/gpetrucc/dilep-scout/l1MuNano_HAHM_ZdToMuMu_M10_PU200.125X_v0.2.root',\n",
       " '/eos/cms/store/cmst3/group/l1tr/gpetrucc/dilep-scout/l1MuNano_HAHM_ZdToMuMu_M12_PU200.125X_v0.2.root',\n",
       " '/eos/cms/store/cmst3/group/l1tr/gpetrucc/dilep-scout/l1MuNano_HAHM_ZdToMuMu_M15_PU200.125X_v0.2.root',\n",
       " '/eos/cms/store/cmst3/group/l1tr/gpetrucc/dilep-scout/l1MuNano_HAHM_ZdToMuMu_M1p1_filtered_PU200.125X_v0.2.root',\n",
       " '/eos/cms/store/cmst3/group/l1tr/gpetrucc/dilep-scout/l1MuNano_HAHM_ZdToMuMu_M1p4_filtered_PU200.125X_v0.2.root',\n",
       " '/eos/cms/store/cmst3/group/l1tr/gpetrucc/dilep-scout/l1MuNano_HAHM_ZdToMuMu_M1p7_filtered_PU200.125X_v0.2.root',\n",
       " '/eos/cms/store/cmst3/group/l1tr/gpetrucc/dilep-scout/l1MuNano_HAHM_ZdToMuMu_M25_PU200.125X_v0.2.root',\n",
       " '/eos/cms/store/cmst3/group/l1tr/gpetrucc/dilep-scout/l1MuNano_HAHM_ZdToMuMu_M2_PU200.125X_v0.2.root',\n",
       " '/eos/cms/store/cmst3/group/l1tr/gpetrucc/dilep-scout/l1MuNano_HAHM_ZdToMuMu_M2_filtered_PU200.125X_v0.2.root',\n",
       " '/eos/cms/store/cmst3/group/l1tr/gpetrucc/dilep-scout/l1MuNano_HAHM_ZdToMuMu_M2p5_filtered_PU200.125X_v0.2.root',\n",
       " '/eos/cms/store/cmst3/group/l1tr/gpetrucc/dilep-scout/l1MuNano_HAHM_ZdToMuMu_M3p5_PU200.125X_v0.2.root',\n",
       " '/eos/cms/store/cmst3/group/l1tr/gpetrucc/dilep-scout/l1MuNano_HAHM_ZdToMuMu_M40_PU200.125X_v0.2.root',\n",
       " '/eos/cms/store/cmst3/group/l1tr/gpetrucc/dilep-scout/l1MuNano_HAHM_ZdToMuMu_M4_PU200.125X_v0.2.root',\n",
       " '/eos/cms/store/cmst3/group/l1tr/gpetrucc/dilep-scout/l1MuNano_HAHM_ZdToMuMu_M4_filtered_PU200.125X_v0.2.root',\n",
       " '/eos/cms/store/cmst3/group/l1tr/gpetrucc/dilep-scout/l1MuNano_HAHM_ZdToMuMu_M5_PU200.125X_v0.2.root',\n",
       " '/eos/cms/store/cmst3/group/l1tr/gpetrucc/dilep-scout/l1MuNano_HAHM_ZdToMuMu_M7_PU200.125X_v0.2.root',\n",
       " '/eos/cms/store/cmst3/group/l1tr/gpetrucc/dilep-scout/l1MuNano_JPsiToMuMu_PU200.125X_v0.2.root',\n",
       " '/eos/cms/store/cmst3/group/l1tr/gpetrucc/dilep-scout/l1MuNano_SingleNeutrino_big_PU200.125X_v0.2.root']"
      ]
     },
     "execution_count": 2,
     "metadata": {},
     "output_type": "execute_result"
    }
   ],
   "source": [
    "list(glob.glob(\"/eos/cms/store/cmst3/group/l1tr/gpetrucc/dilep-scout/*125X_v0.2.root\"))"
   ]
  },
  {
   "cell_type": "code",
   "execution_count": 3,
   "id": "9582cba5",
   "metadata": {},
   "outputs": [],
   "source": [
    "rdf = ROOT.RDataFrame(\"Events\",\"/eos/cms/store/cmst3/group/l1tr/gpetrucc/dilep-scout/l1MuNano_SingleNeutrino_big_PU200.125X_v0.2.root\")"
   ]
  },
  {
   "cell_type": "code",
   "execution_count": 4,
   "id": "160876f7",
   "metadata": {},
   "outputs": [
    {
     "data": {
      "text/plain": [
       "Dataframe from TChain Events in file /eos/cms/store/cmst3/group/l1tr/gpetrucc/dilep-scout/l1MuNano_SingleNeutrino_big_PU200.125X_v0.2.root\n",
       "\n",
       "Property                Value\n",
       "--------                -----\n",
       "Columns in total           34\n",
       "Columns from defines        0\n",
       "Event loops run             0\n",
       "Processing slots            1\n",
       "\n",
       "Column          Type                            Origin\n",
       "------          ----                            ------\n",
       "GenMu_charge    ROOT::VecOps::RVec<Int_t>       Dataset\n",
       "GenMu_d0        ROOT::VecOps::RVec<Float_t>     Dataset\n",
       "GenMu_eta       ROOT::VecOps::RVec<Float_t>     Dataset\n",
       "GenMu_isFromTau ROOT::VecOps::RVec<Int_t>       Dataset\n",
       "GenMu_isPrompt  ROOT::VecOps::RVec<Int_t>       Dataset\n",
       "GenMu_mass      ROOT::VecOps::RVec<Float_t>     Dataset\n",
       "GenMu_phi       ROOT::VecOps::RVec<Float_t>     Dataset\n",
       "GenMu_pt        ROOT::VecOps::RVec<Float_t>     Dataset\n",
       "GenMu_vz        ROOT::VecOps::RVec<Float_t>     Dataset\n",
       "TkMu_GenMuFlav  ROOT::VecOps::RVec<UChar_t>     Dataset\n",
       "TkMu_GenMuIdx   ROOT::VecOps::RVec<Int_t>       Dataset\n",
       "TkMu_charge     ROOT::VecOps::RVec<Int_t>       Dataset\n",
       "TkMu_d0         ROOT::VecOps::RVec<Float_t>     Dataset\n",
       "TkMu_eta        ROOT::VecOps::RVec<Float_t>     Dataset\n",
       "TkMu_hwCharge   ROOT::VecOps::RVec<Int_t>       Dataset\n",
       "TkMu_hwD0       ROOT::VecOps::RVec<Int_t>       Dataset\n",
       "TkMu_hwEta      ROOT::VecOps::RVec<Int_t>       Dataset\n",
       "TkMu_hwIsoSum   ROOT::VecOps::RVec<Int_t>       Dataset\n",
       "TkMu_hwIsoSumAp ROOT::VecOps::RVec<Int_t>       Dataset\n",
       "TkMu_hwPhi      ROOT::VecOps::RVec<Int_t>       Dataset\n",
       "TkMu_hwPt       ROOT::VecOps::RVec<Int_t>       Dataset\n",
       "TkMu_hwQual     ROOT::VecOps::RVec<Int_t>       Dataset\n",
       "TkMu_hwZ0       ROOT::VecOps::RVec<Int_t>       Dataset\n",
       "TkMu_mass       ROOT::VecOps::RVec<Float_t>     Dataset\n",
       "TkMu_phi        ROOT::VecOps::RVec<Float_t>     Dataset\n",
       "TkMu_pt         ROOT::VecOps::RVec<Float_t>     Dataset\n",
       "TkMu_quality    ROOT::VecOps::RVec<Int_t>       Dataset\n",
       "TkMu_vz         ROOT::VecOps::RVec<Float_t>     Dataset\n",
       "bunchCrossing   UInt_t                          Dataset\n",
       "event           ULong64_t                       Dataset\n",
       "luminosityBlock UInt_t                          Dataset\n",
       "nGenMu          UInt_t                          Dataset\n",
       "nTkMu           UInt_t                          Dataset\n",
       "run             UInt_t                          Dataset"
      ]
     },
     "execution_count": 4,
     "metadata": {},
     "output_type": "execute_result"
    },
    {
     "name": "stderr",
     "output_type": "stream",
     "text": [
      "Warning in <TClass::Init>: no dictionary for class edm::Hash<1> is available\n",
      "Warning in <TClass::Init>: no dictionary for class edm::ProcessHistory is available\n",
      "Warning in <TClass::Init>: no dictionary for class edm::ProcessConfiguration is available\n",
      "Warning in <TClass::Init>: no dictionary for class edm::ParameterSetBlob is available\n",
      "Warning in <TClass::Init>: no dictionary for class pair<edm::Hash<1>,edm::ParameterSetBlob> is available\n"
     ]
    }
   ],
   "source": [
    "rdf.Describe()"
   ]
  },
  {
   "cell_type": "code",
   "execution_count": 5,
   "id": "9916c184",
   "metadata": {},
   "outputs": [
    {
     "name": "stdout",
     "output_type": "stream",
     "text": [
      "+-----+-------+\n",
      "| Row | nTkMu | \n",
      "+-----+-------+\n",
      "| 0   | 2     | \n",
      "+-----+-------+\n",
      "| 1   | 1     | \n",
      "+-----+-------+\n",
      "| 2   | 1     | \n",
      "+-----+-------+\n",
      "| 3   | 0     | \n",
      "+-----+-------+\n",
      "| 4   | 0     | \n",
      "+-----+-------+\n",
      "| 5   | 3     | \n",
      "+-----+-------+\n",
      "| 6   | 1     | \n",
      "+-----+-------+\n",
      "| 7   | 0     | \n",
      "+-----+-------+\n",
      "| 8   | 1     | \n",
      "+-----+-------+\n",
      "| 9   | 2     | \n",
      "+-----+-------+\n",
      "| 10  | 1     | \n",
      "+-----+-------+\n",
      "| 11  | 1     | \n",
      "+-----+-------+\n",
      "| 12  | 2     | \n",
      "+-----+-------+\n",
      "| 13  | 0     | \n",
      "+-----+-------+\n",
      "| 14  | 0     | \n",
      "+-----+-------+\n",
      "| 15  | 2     | \n",
      "+-----+-------+\n",
      "| 16  | 1     | \n",
      "+-----+-------+\n",
      "| 17  | 2     | \n",
      "+-----+-------+\n",
      "| 18  | 1     | \n",
      "+-----+-------+\n",
      "| 19  | 0     | \n",
      "+-----+-------+\n",
      "| 20  | 0     | \n",
      "+-----+-------+\n",
      "| 21  | 0     | \n",
      "+-----+-------+\n",
      "| 22  | 5     | \n",
      "+-----+-------+\n",
      "| 23  | 0     | \n",
      "+-----+-------+\n",
      "| 24  | 0     | \n",
      "+-----+-------+\n",
      "| 25  | 0     | \n",
      "+-----+-------+\n",
      "| 26  | 2     | \n",
      "+-----+-------+\n",
      "| 27  | 1     | \n",
      "+-----+-------+\n",
      "| 28  | 0     | \n",
      "+-----+-------+\n",
      "| 29  | 1     | \n",
      "+-----+-------+\n",
      "| 30  | 1     | \n",
      "+-----+-------+\n",
      "| 31  | 1     | \n",
      "+-----+-------+\n",
      "| 32  | 3     | \n",
      "+-----+-------+\n",
      "| 33  | 0     | \n",
      "+-----+-------+\n",
      "| 34  | 0     | \n",
      "+-----+-------+\n",
      "| 35  | 0     | \n",
      "+-----+-------+\n",
      "| 36  | 0     | \n",
      "+-----+-------+\n",
      "| 37  | 0     | \n",
      "+-----+-------+\n",
      "| 38  | 0     | \n",
      "+-----+-------+\n",
      "| 39  | 3     | \n",
      "+-----+-------+\n",
      "| 40  | 0     | \n",
      "+-----+-------+\n",
      "| 41  | 0     | \n",
      "+-----+-------+\n",
      "| 42  | 2     | \n",
      "+-----+-------+\n",
      "| 43  | 0     | \n",
      "+-----+-------+\n",
      "| 44  | 0     | \n",
      "+-----+-------+\n",
      "| 45  | 0     | \n",
      "+-----+-------+\n",
      "| 46  | 0     | \n",
      "+-----+-------+\n",
      "| 47  | 1     | \n",
      "+-----+-------+\n",
      "| 48  | 3     | \n",
      "+-----+-------+\n",
      "| 49  | 0     | \n",
      "+-----+-------+\n",
      "| 50  | 5     | \n",
      "+-----+-------+\n",
      "| 51  | 0     | \n",
      "+-----+-------+\n",
      "| 52  | 2     | \n",
      "+-----+-------+\n",
      "| 53  | 2     | \n",
      "+-----+-------+\n",
      "| 54  | 0     | \n",
      "+-----+-------+\n",
      "| 55  | 1     | \n",
      "+-----+-------+\n",
      "| 56  | 2     | \n",
      "+-----+-------+\n",
      "| 57  | 2     | \n",
      "+-----+-------+\n",
      "| 58  | 1     | \n",
      "+-----+-------+\n",
      "| 59  | 5     | \n",
      "+-----+-------+\n",
      "| 60  | 2     | \n",
      "+-----+-------+\n",
      "| 61  | 0     | \n",
      "+-----+-------+\n",
      "| 62  | 1     | \n",
      "+-----+-------+\n",
      "| 63  | 1     | \n",
      "+-----+-------+\n",
      "| 64  | 0     | \n",
      "+-----+-------+\n",
      "| 65  | 0     | \n",
      "+-----+-------+\n",
      "| 66  | 8     | \n",
      "+-----+-------+\n",
      "| 67  | 0     | \n",
      "+-----+-------+\n",
      "| 68  | 0     | \n",
      "+-----+-------+\n",
      "| 69  | 1     | \n",
      "+-----+-------+\n",
      "| 70  | 2     | \n",
      "+-----+-------+\n",
      "| 71  | 0     | \n",
      "+-----+-------+\n",
      "| 72  | 0     | \n",
      "+-----+-------+\n",
      "| 73  | 2     | \n",
      "+-----+-------+\n",
      "| 74  | 3     | \n",
      "+-----+-------+\n",
      "| 75  | 5     | \n",
      "+-----+-------+\n",
      "| 76  | 3     | \n",
      "+-----+-------+\n",
      "| 77  | 0     | \n",
      "+-----+-------+\n",
      "| 78  | 6     | \n",
      "+-----+-------+\n",
      "| 79  | 1     | \n",
      "+-----+-------+\n",
      "| 80  | 0     | \n",
      "+-----+-------+\n",
      "| 81  | 1     | \n",
      "+-----+-------+\n",
      "| 82  | 1     | \n",
      "+-----+-------+\n",
      "| 83  | 1     | \n",
      "+-----+-------+\n",
      "| 84  | 4     | \n",
      "+-----+-------+\n",
      "| 85  | 1     | \n",
      "+-----+-------+\n",
      "| 86  | 2     | \n",
      "+-----+-------+\n",
      "| 87  | 0     | \n",
      "+-----+-------+\n",
      "| 88  | 2     | \n",
      "+-----+-------+\n",
      "| 89  | 0     | \n",
      "+-----+-------+\n",
      "| 90  | 1     | \n",
      "+-----+-------+\n",
      "| 91  | 0     | \n",
      "+-----+-------+\n",
      "| 92  | 0     | \n",
      "+-----+-------+\n",
      "| 93  | 1     | \n",
      "+-----+-------+\n",
      "| 94  | 4     | \n",
      "+-----+-------+\n",
      "| 95  | 0     | \n",
      "+-----+-------+\n",
      "| 96  | 1     | \n",
      "+-----+-------+\n",
      "| 97  | 0     | \n",
      "+-----+-------+\n",
      "| 98  | 0     | \n",
      "+-----+-------+\n",
      "| 99  | 0     | \n",
      "+-----+-------+\n"
     ]
    }
   ],
   "source": [
    "rdf.Display(['nTkMu'],100).Print()"
   ]
  },
  {
   "cell_type": "code",
   "execution_count": 6,
   "id": "0fc4a942",
   "metadata": {},
   "outputs": [],
   "source": [
    "rdf = rdf.Define(\"TkMu_rate_40\",\"96*40*nTkMu\")\n",
    "rdf = rdf.Define(\"TkMu_rate_35\",\"96*35*nTkMu\")"
   ]
  },
  {
   "cell_type": "code",
   "execution_count": 7,
   "id": "4d6e8479",
   "metadata": {},
   "outputs": [
    {
     "data": {
      "text/plain": [
       "Dataframe from TChain Events in file /eos/cms/store/cmst3/group/l1tr/gpetrucc/dilep-scout/l1MuNano_SingleNeutrino_big_PU200.125X_v0.2.root\n",
       "\n",
       "Property                Value\n",
       "--------                -----\n",
       "Columns in total           36\n",
       "Columns from defines        2\n",
       "Event loops run             1\n",
       "Processing slots            1\n",
       "\n",
       "Column          Type                            Origin\n",
       "------          ----                            ------\n",
       "GenMu_charge    ROOT::VecOps::RVec<Int_t>       Dataset\n",
       "GenMu_d0        ROOT::VecOps::RVec<Float_t>     Dataset\n",
       "GenMu_eta       ROOT::VecOps::RVec<Float_t>     Dataset\n",
       "GenMu_isFromTau ROOT::VecOps::RVec<Int_t>       Dataset\n",
       "GenMu_isPrompt  ROOT::VecOps::RVec<Int_t>       Dataset\n",
       "GenMu_mass      ROOT::VecOps::RVec<Float_t>     Dataset\n",
       "GenMu_phi       ROOT::VecOps::RVec<Float_t>     Dataset\n",
       "GenMu_pt        ROOT::VecOps::RVec<Float_t>     Dataset\n",
       "GenMu_vz        ROOT::VecOps::RVec<Float_t>     Dataset\n",
       "TkMu_GenMuFlav  ROOT::VecOps::RVec<UChar_t>     Dataset\n",
       "TkMu_GenMuIdx   ROOT::VecOps::RVec<Int_t>       Dataset\n",
       "TkMu_charge     ROOT::VecOps::RVec<Int_t>       Dataset\n",
       "TkMu_d0         ROOT::VecOps::RVec<Float_t>     Dataset\n",
       "TkMu_eta        ROOT::VecOps::RVec<Float_t>     Dataset\n",
       "TkMu_hwCharge   ROOT::VecOps::RVec<Int_t>       Dataset\n",
       "TkMu_hwD0       ROOT::VecOps::RVec<Int_t>       Dataset\n",
       "TkMu_hwEta      ROOT::VecOps::RVec<Int_t>       Dataset\n",
       "TkMu_hwIsoSum   ROOT::VecOps::RVec<Int_t>       Dataset\n",
       "TkMu_hwIsoSumAp ROOT::VecOps::RVec<Int_t>       Dataset\n",
       "TkMu_hwPhi      ROOT::VecOps::RVec<Int_t>       Dataset\n",
       "TkMu_hwPt       ROOT::VecOps::RVec<Int_t>       Dataset\n",
       "TkMu_hwQual     ROOT::VecOps::RVec<Int_t>       Dataset\n",
       "TkMu_hwZ0       ROOT::VecOps::RVec<Int_t>       Dataset\n",
       "TkMu_mass       ROOT::VecOps::RVec<Float_t>     Dataset\n",
       "TkMu_phi        ROOT::VecOps::RVec<Float_t>     Dataset\n",
       "TkMu_pt         ROOT::VecOps::RVec<Float_t>     Dataset\n",
       "TkMu_quality    ROOT::VecOps::RVec<Int_t>       Dataset\n",
       "TkMu_rate_35    unsigned int                    Define\n",
       "TkMu_rate_40    unsigned int                    Define\n",
       "TkMu_vz         ROOT::VecOps::RVec<Float_t>     Dataset\n",
       "bunchCrossing   UInt_t                          Dataset\n",
       "event           ULong64_t                       Dataset\n",
       "luminosityBlock UInt_t                          Dataset\n",
       "nGenMu          UInt_t                          Dataset\n",
       "nTkMu           UInt_t                          Dataset\n",
       "run             UInt_t                          Dataset"
      ]
     },
     "execution_count": 7,
     "metadata": {},
     "output_type": "execute_result"
    }
   ],
   "source": [
    "rdf.Describe()"
   ]
  },
  {
   "cell_type": "code",
   "execution_count": 8,
   "id": "d958b34b",
   "metadata": {},
   "outputs": [
    {
     "name": "stdout",
     "output_type": "stream",
     "text": [
      "+-----+--------------+\n",
      "| Row | TkMu_rate_40 | \n",
      "+-----+--------------+\n",
      "| 0   | 7680         | \n",
      "+-----+--------------+\n",
      "| 1   | 3840         | \n",
      "+-----+--------------+\n",
      "| 2   | 3840         | \n",
      "+-----+--------------+\n",
      "| 3   | 0            | \n",
      "+-----+--------------+\n",
      "| 4   | 0            | \n",
      "+-----+--------------+\n",
      "| 5   | 11520        | \n",
      "+-----+--------------+\n",
      "| 6   | 3840         | \n",
      "+-----+--------------+\n",
      "| 7   | 0            | \n",
      "+-----+--------------+\n",
      "| 8   | 3840         | \n",
      "+-----+--------------+\n",
      "| 9   | 7680         | \n",
      "+-----+--------------+\n",
      "| 10  | 3840         | \n",
      "+-----+--------------+\n",
      "| 11  | 3840         | \n",
      "+-----+--------------+\n",
      "| 12  | 7680         | \n",
      "+-----+--------------+\n",
      "| 13  | 0            | \n",
      "+-----+--------------+\n",
      "| 14  | 0            | \n",
      "+-----+--------------+\n",
      "| 15  | 7680         | \n",
      "+-----+--------------+\n",
      "| 16  | 3840         | \n",
      "+-----+--------------+\n",
      "| 17  | 7680         | \n",
      "+-----+--------------+\n",
      "| 18  | 3840         | \n",
      "+-----+--------------+\n",
      "| 19  | 0            | \n",
      "+-----+--------------+\n",
      "| 20  | 0            | \n",
      "+-----+--------------+\n",
      "| 21  | 0            | \n",
      "+-----+--------------+\n",
      "| 22  | 19200        | \n",
      "+-----+--------------+\n",
      "| 23  | 0            | \n",
      "+-----+--------------+\n",
      "| 24  | 0            | \n",
      "+-----+--------------+\n",
      "| 25  | 0            | \n",
      "+-----+--------------+\n",
      "| 26  | 7680         | \n",
      "+-----+--------------+\n",
      "| 27  | 3840         | \n",
      "+-----+--------------+\n",
      "| 28  | 0            | \n",
      "+-----+--------------+\n",
      "| 29  | 3840         | \n",
      "+-----+--------------+\n",
      "| 30  | 3840         | \n",
      "+-----+--------------+\n",
      "| 31  | 3840         | \n",
      "+-----+--------------+\n",
      "| 32  | 11520        | \n",
      "+-----+--------------+\n",
      "| 33  | 0            | \n",
      "+-----+--------------+\n",
      "| 34  | 0            | \n",
      "+-----+--------------+\n",
      "| 35  | 0            | \n",
      "+-----+--------------+\n",
      "| 36  | 0            | \n",
      "+-----+--------------+\n",
      "| 37  | 0            | \n",
      "+-----+--------------+\n",
      "| 38  | 0            | \n",
      "+-----+--------------+\n",
      "| 39  | 11520        | \n",
      "+-----+--------------+\n",
      "| 40  | 0            | \n",
      "+-----+--------------+\n",
      "| 41  | 0            | \n",
      "+-----+--------------+\n",
      "| 42  | 7680         | \n",
      "+-----+--------------+\n",
      "| 43  | 0            | \n",
      "+-----+--------------+\n",
      "| 44  | 0            | \n",
      "+-----+--------------+\n",
      "| 45  | 0            | \n",
      "+-----+--------------+\n",
      "| 46  | 0            | \n",
      "+-----+--------------+\n",
      "| 47  | 3840         | \n",
      "+-----+--------------+\n",
      "| 48  | 11520        | \n",
      "+-----+--------------+\n",
      "| 49  | 0            | \n",
      "+-----+--------------+\n",
      "| 50  | 19200        | \n",
      "+-----+--------------+\n",
      "| 51  | 0            | \n",
      "+-----+--------------+\n",
      "| 52  | 7680         | \n",
      "+-----+--------------+\n",
      "| 53  | 7680         | \n",
      "+-----+--------------+\n",
      "| 54  | 0            | \n",
      "+-----+--------------+\n",
      "| 55  | 3840         | \n",
      "+-----+--------------+\n",
      "| 56  | 7680         | \n",
      "+-----+--------------+\n",
      "| 57  | 7680         | \n",
      "+-----+--------------+\n",
      "| 58  | 3840         | \n",
      "+-----+--------------+\n",
      "| 59  | 19200        | \n",
      "+-----+--------------+\n",
      "| 60  | 7680         | \n",
      "+-----+--------------+\n",
      "| 61  | 0            | \n",
      "+-----+--------------+\n",
      "| 62  | 3840         | \n",
      "+-----+--------------+\n",
      "| 63  | 3840         | \n",
      "+-----+--------------+\n",
      "| 64  | 0            | \n",
      "+-----+--------------+\n",
      "| 65  | 0            | \n",
      "+-----+--------------+\n",
      "| 66  | 30720        | \n",
      "+-----+--------------+\n",
      "| 67  | 0            | \n",
      "+-----+--------------+\n",
      "| 68  | 0            | \n",
      "+-----+--------------+\n",
      "| 69  | 3840         | \n",
      "+-----+--------------+\n",
      "| 70  | 7680         | \n",
      "+-----+--------------+\n",
      "| 71  | 0            | \n",
      "+-----+--------------+\n",
      "| 72  | 0            | \n",
      "+-----+--------------+\n",
      "| 73  | 7680         | \n",
      "+-----+--------------+\n",
      "| 74  | 11520        | \n",
      "+-----+--------------+\n",
      "| 75  | 19200        | \n",
      "+-----+--------------+\n",
      "| 76  | 11520        | \n",
      "+-----+--------------+\n",
      "| 77  | 0            | \n",
      "+-----+--------------+\n",
      "| 78  | 23040        | \n",
      "+-----+--------------+\n",
      "| 79  | 3840         | \n",
      "+-----+--------------+\n",
      "| 80  | 0            | \n",
      "+-----+--------------+\n",
      "| 81  | 3840         | \n",
      "+-----+--------------+\n",
      "| 82  | 3840         | \n",
      "+-----+--------------+\n",
      "| 83  | 3840         | \n",
      "+-----+--------------+\n",
      "| 84  | 15360        | \n",
      "+-----+--------------+\n",
      "| 85  | 3840         | \n",
      "+-----+--------------+\n",
      "| 86  | 7680         | \n",
      "+-----+--------------+\n",
      "| 87  | 0            | \n",
      "+-----+--------------+\n",
      "| 88  | 7680         | \n",
      "+-----+--------------+\n",
      "| 89  | 0            | \n",
      "+-----+--------------+\n",
      "| 90  | 3840         | \n",
      "+-----+--------------+\n",
      "| 91  | 0            | \n",
      "+-----+--------------+\n",
      "| 92  | 0            | \n",
      "+-----+--------------+\n",
      "| 93  | 3840         | \n",
      "+-----+--------------+\n",
      "| 94  | 15360        | \n",
      "+-----+--------------+\n",
      "| 95  | 0            | \n",
      "+-----+--------------+\n",
      "| 96  | 3840         | \n",
      "+-----+--------------+\n",
      "| 97  | 0            | \n",
      "+-----+--------------+\n",
      "| 98  | 0            | \n",
      "+-----+--------------+\n",
      "| 99  | 0            | \n",
      "+-----+--------------+\n"
     ]
    }
   ],
   "source": [
    "rdf.Display(['TkMu_rate_40'],100).Print()"
   ]
  },
  {
   "cell_type": "code",
   "execution_count": 9,
   "id": "c628744e",
   "metadata": {
    "scrolled": true
   },
   "outputs": [
    {
     "name": "stdout",
     "output_type": "stream",
     "text": [
      "46080.0 and 46080\n"
     ]
    }
   ],
   "source": [
    "max_rate_40 = rdf.Max(\"TkMu_rate_40\").GetValue()\n",
    "print(f\"{max_rate_40} and\",12*40*96)"
   ]
  },
  {
   "cell_type": "code",
   "execution_count": 10,
   "id": "a53b982f",
   "metadata": {},
   "outputs": [
    {
     "name": "stdout",
     "output_type": "stream",
     "text": [
      "1.2953818178071748\n"
     ]
    }
   ],
   "source": [
    "print(rdf.Mean(\"nTkMu\").GetValue())"
   ]
  },
  {
   "cell_type": "code",
   "execution_count": 11,
   "id": "d69a4f8f",
   "metadata": {},
   "outputs": [],
   "source": [
    "# max_rate_Gbps = ((max_rate*10e6)/1024.0**3)\n",
    "# print(max_rate_Gbps)\n",
    "\n",
    "def GBps_con(bit_rate):\n",
    "    bit_rate_Gbps = (((bit_rate/8)*1e6)/1024.0**3)\n",
    "    return bit_rate_Gbps;"
   ]
  },
  {
   "cell_type": "code",
   "execution_count": 12,
   "id": "2e4cc6ec",
   "metadata": {},
   "outputs": [
    {
     "name": "stdout",
     "output_type": "stream",
     "text": [
      "5.364418029785156\n"
     ]
    }
   ],
   "source": [
    "max_rate_Gbps = GBps_con(max_rate_40)\n",
    "print(max_rate_Gbps)"
   ]
  },
  {
   "cell_type": "code",
   "execution_count": 13,
   "id": "2cf0a0a5",
   "metadata": {},
   "outputs": [
    {
     "name": "stdout",
     "output_type": "stream",
     "text": [
      "4974.266180379551\n",
      "0.5790807982417232\n"
     ]
    }
   ],
   "source": [
    "avg_bits_40 = rdf.Mean(\"TkMu_rate_40\").GetValue()\n",
    "print(avg_bits_40)\n",
    "print(GBps_con(avg_bits_40))"
   ]
  },
  {
   "cell_type": "code",
   "execution_count": 14,
   "id": "d27b7be9",
   "metadata": {},
   "outputs": [
    {
     "name": "stdout",
     "output_type": "stream",
     "text": [
      "4352.482907832107\n",
      "0.5066956984615079\n"
     ]
    }
   ],
   "source": [
    "avg_bits_35 = rdf.Mean(\"TkMu_rate_35\").GetValue()\n",
    "print(avg_bits_35)\n",
    "print(GBps_con(avg_bits_35))"
   ]
  },
  {
   "cell_type": "code",
   "execution_count": 30,
   "id": "c82c0424",
   "metadata": {},
   "outputs": [
    {
     "name": "stdout",
     "output_type": "stream",
     "text": [
      "0.028149761025639326 0.03217115545787351 0.2980232238769531\n",
      "Max data rate in Gbps per node at 40MHz is 2.384185791015625\n",
      "Max data rate in Gbps in DTH at 40MHz is 42.91534423828125\n",
      "Average data rate in Gbps per node at 35MHz is 0.2251980882051146\n",
      "Average data rate in Gbps in DTH at 35MHz is 4.053565587692063\n"
     ]
    }
   ],
   "source": [
    "avg_DTH_35 = GBps_con(avg_bits_35)\n",
    "avg_DTH_40 = GBps_con(avg_bits_40)\n",
    "max_DTH_40 =  GBps_con(max_rate_40)\n",
    "\n",
    "avg_DTH_35_Gbps = GBps_con(avg_bits_35)*8\n",
    "avg_DTH_40_Gbps = GBps_con(avg_bits_40)*8\n",
    "max_DTH_40_Gbps =  GBps_con(max_rate_40)*8\n",
    "\n",
    "avg_node_35 = GBps_con(avg_bits_35)/18\n",
    "avg_node_40 = GBps_con(avg_bits_40)/18\n",
    "max_node_40 =  GBps_con(max_rate_40)/18\n",
    "\n",
    "avg_node_35_Gbps = avg_node_35*8\n",
    "avg_node_40_Gbps = avg_node_40*8\n",
    "max_node_40_Gbps = max_node_40*8\n",
    "\n",
    "\n",
    "print(avg_node_35,avg_node_40,max_node_40)\n",
    "\n",
    "print(f\"Max data rate in Gbps per node at 40MHz is {max_node_40_Gbps}\")\n",
    "print(f\"Max data rate in Gbps in DTH at 40MHz is {max_DTH_40_Gbps}\")\n",
    "print(f\"Average data rate in Gbps per node at 35MHz is {avg_node_35_Gbps}\")\n",
    "print(f\"Average data rate in Gbps in DTH at 35MHz is {avg_DTH_35_Gbps}\")\n",
    "\n",
    "\n",
    "\n"
   ]
  },
  {
   "cell_type": "code",
   "execution_count": 31,
   "id": "e53c6acc",
   "metadata": {},
   "outputs": [
    {
     "name": "stdout",
     "output_type": "stream",
     "text": [
      "Average data rate per year in DTH at 35MHz is 2.5852413051310226 PB\n",
      "The data received by each node on average at 35Mhz is 0.14362451695172349 PB\n",
      "The data received by each node on average at 40Mhz is 0.16414230508768393 PB\n",
      "The maximum data received by each node at 40Mhz is 1.5205614545266144 PB\n"
     ]
    }
   ],
   "source": [
    "def per_year(Gbyte_sec):\n",
    "    Gbyte_year = Gbyte_sec*5.35*(10**6)\n",
    "    return Gbyte_year;\n",
    "\n",
    "avg_node_Pb_year_35 = (per_year(avg_node_35)/1024**2)\n",
    "avg_node_Pb_year_40 = (per_year(avg_node_40)/1024**2)\n",
    "max_node_Pb_year_40 = (per_year(max_node_40)/1024**2)\n",
    "avg_DTH_Pb_year_35 = (per_year(avg_DTH_35)/1024**2)\n",
    "\n",
    "print(f\"Average data rate per year in DTH at 35MHz is {avg_DTH_Pb_year_35} PB\")\n",
    "\n",
    "print(f\"The data received by each node on average at 35Mhz is {avg_node_Pb_year_35} PB\")\n",
    "\n",
    "print(f\"The data received by each node on average at 40Mhz is {avg_node_Pb_year_40} PB\")\n",
    "\n",
    "print(f\"The maximum data received by each node at 40Mhz is {max_node_Pb_year_40} PB\")"
   ]
  },
  {
   "cell_type": "code",
   "execution_count": 27,
   "id": "7cc0b9b5",
   "metadata": {},
   "outputs": [
    {
     "name": "stdout",
     "output_type": "stream",
     "text": [
      "The average size for one orbit (3564 events) is 55400.889583977245 bytes\n",
      "1.2953818178071748\n"
     ]
    }
   ],
   "source": [
    "mean_mu = rdf.Mean(\"nTkMu\").GetValue()\n",
    "avg_bytes_orbit = (3564 *mean_mu* 96) / 8\n",
    "print(f\"The average size for one orbit (3564 events) is {avg_bytes_orbit} bytes\")\n",
    "print(mean_mu)"
   ]
  },
  {
   "cell_type": "code",
   "execution_count": 18,
   "id": "4bd5fb6b",
   "metadata": {},
   "outputs": [
    {
     "name": "stdout",
     "output_type": "stream",
     "text": [
      "4.385813163081931\n"
     ]
    }
   ],
   "source": [
    "print((per_year((GBps_con(2*96*40))))/1028**2)"
   ]
  },
  {
   "cell_type": "code",
   "execution_count": null,
   "id": "4c9478ad",
   "metadata": {},
   "outputs": [],
   "source": []
  }
 ],
 "metadata": {
  "@webio": {
   "lastCommId": null,
   "lastKernelId": null
  },
  "kernelspec": {
   "display_name": "Python 3",
   "language": "python",
   "name": "python3"
  },
  "language_info": {
   "codemirror_mode": {
    "name": "ipython",
    "version": 3
   },
   "file_extension": ".py",
   "mimetype": "text/x-python",
   "name": "python",
   "nbconvert_exporter": "python",
   "pygments_lexer": "ipython3",
   "version": "3.9.12"
  }
 },
 "nbformat": 4,
 "nbformat_minor": 5
}
