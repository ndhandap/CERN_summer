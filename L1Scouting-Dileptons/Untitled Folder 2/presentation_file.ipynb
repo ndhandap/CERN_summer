{
 "cells": [
  {
   "cell_type": "code",
   "execution_count": 1,
   "id": "6108182a",
   "metadata": {},
   "outputs": [
    {
     "name": "stdout",
     "output_type": "stream",
     "text": [
      "Welcome to JupyROOT 6.28/00\n"
     ]
    }
   ],
   "source": [
    "import ROOT, os, sys, glob\n",
    "import numpy as np\n",
    "import math\n",
    "from matplotlib import pyplot as plt\n",
    "from ROOT import kBlack, kBlue, kRed\n",
    "from array import array\n",
    "\n",
    "ROOT.EnableImplicitMT(4); "
   ]
  },
  {
   "cell_type": "code",
   "execution_count": 2,
   "id": "7b44c226",
   "metadata": {},
   "outputs": [
    {
     "data": {
      "text/plain": [
       "['/eos/cms/store/cmst3/group/l1tr/gpetrucc/dilep-scout/l1MuNano_HAHM_ZdToMuMu_M10_PU200.125X_v0.1.root',\n",
       " '/eos/cms/store/cmst3/group/l1tr/gpetrucc/dilep-scout/l1MuNano_HAHM_ZdToMuMu_M12_PU200.125X_v0.1.root',\n",
       " '/eos/cms/store/cmst3/group/l1tr/gpetrucc/dilep-scout/l1MuNano_HAHM_ZdToMuMu_M15_PU200.125X_v0.1.root',\n",
       " '/eos/cms/store/cmst3/group/l1tr/gpetrucc/dilep-scout/l1MuNano_HAHM_ZdToMuMu_M25_PU200.125X_v0.1.root',\n",
       " '/eos/cms/store/cmst3/group/l1tr/gpetrucc/dilep-scout/l1MuNano_HAHM_ZdToMuMu_M2_PU200.125X_v0.1.root',\n",
       " '/eos/cms/store/cmst3/group/l1tr/gpetrucc/dilep-scout/l1MuNano_HAHM_ZdToMuMu_M3p5_PU200.125X_v0.1.root',\n",
       " '/eos/cms/store/cmst3/group/l1tr/gpetrucc/dilep-scout/l1MuNano_HAHM_ZdToMuMu_M40_PU200.125X_v0.1.root',\n",
       " '/eos/cms/store/cmst3/group/l1tr/gpetrucc/dilep-scout/l1MuNano_HAHM_ZdToMuMu_M4_PU200.125X_v0.1.root',\n",
       " '/eos/cms/store/cmst3/group/l1tr/gpetrucc/dilep-scout/l1MuNano_HAHM_ZdToMuMu_M5_PU200.125X_v0.1.root',\n",
       " '/eos/cms/store/cmst3/group/l1tr/gpetrucc/dilep-scout/l1MuNano_HAHM_ZdToMuMu_M7_PU200.125X_v0.1.root',\n",
       " '/eos/cms/store/cmst3/group/l1tr/gpetrucc/dilep-scout/l1MuNano_SingleNeutrino_big_PU200.125X_v0.1.root']"
      ]
     },
     "execution_count": 2,
     "metadata": {},
     "output_type": "execute_result"
    }
   ],
   "source": [
    "list(glob.glob(\"/eos/cms/store/cmst3/group/l1tr/gpetrucc/dilep-scout/*125X_v0.1.root\"))"
   ]
  },
  {
   "cell_type": "code",
   "execution_count": 3,
   "id": "97a1210c",
   "metadata": {},
   "outputs": [
    {
     "data": {
      "text/plain": [
       "['/eos/cms/store/cmst3/group/l1tr/gpetrucc/dilep-scout/l1MuNano_BsToMuMu_PU200.125X_v0.0.root',\n",
       " '/eos/cms/store/cmst3/group/l1tr/gpetrucc/dilep-scout/l1MuNano_DYToLL_M-10To50_PU200.125X_v0.0.root',\n",
       " '/eos/cms/store/cmst3/group/l1tr/gpetrucc/dilep-scout/l1MuNano_DYToLL_M-1To10_TuneCP5_14TeV-pythia8_PU200.125X_v0.0.root',\n",
       " '/eos/cms/store/cmst3/group/l1tr/gpetrucc/dilep-scout/l1MuNano_DYToLL_M-50_PU200.125X_v0.0.root',\n",
       " '/eos/cms/store/cmst3/group/l1tr/gpetrucc/dilep-scout/l1MuNano_HAHM_ZdToMuMu_M15_PU200.125X_v0.0.root',\n",
       " '/eos/cms/store/cmst3/group/l1tr/gpetrucc/dilep-scout/l1MuNano_HAHM_ZdToMuMu_M2_PU200.125X_v0.0.root',\n",
       " '/eos/cms/store/cmst3/group/l1tr/gpetrucc/dilep-scout/l1MuNano_HAHM_ZdToMuMu_M5_PU200.125X_v0.0.root',\n",
       " '/eos/cms/store/cmst3/group/l1tr/gpetrucc/dilep-scout/l1MuNano_JPsiToMuMu_PU200.125X_v0.0.root',\n",
       " '/eos/cms/store/cmst3/group/l1tr/gpetrucc/dilep-scout/l1MuNano_SingleNeutrino_PU200.125X_v0.0.root']"
      ]
     },
     "execution_count": 3,
     "metadata": {},
     "output_type": "execute_result"
    }
   ],
   "source": [
    "list(glob.glob(\"/eos/cms/store/cmst3/group/l1tr/gpetrucc/dilep-scout/*125X_v0.0.root\"))"
   ]
  },
  {
   "cell_type": "code",
   "execution_count": 4,
   "id": "2d1bf8e6",
   "metadata": {},
   "outputs": [],
   "source": [
    "def Normal_h(h1,h2):\n",
    "    h_p = h1.Clone()\n",
    "    h_p.Scale(1./h2.Integral())\n",
    "    return h_p;"
   ]
  },
  {
   "cell_type": "code",
   "execution_count": 5,
   "id": "51846f59",
   "metadata": {},
   "outputs": [],
   "source": [
    "def Efficiency_plotter(file_name):\n",
    "    rdf = ROOT.RDataFrame(\"Events\",f\"/eos/cms/store/cmst3/group/l1tr/gpetrucc/dilep-scout/{file_name}\")\n",
    "    def makeDimuonPairs(name, rdf):\n",
    "        ## define 4-vectors in cartesian coordinates, for easier \n",
    "        rdf = rdf.Define(f\"{name}Mu_p4\", f\"ROOT::VecOps::Construct<ROOT::Math::XYZTVector>(ROOT::VecOps::Construct<ROOT::Math::PtEtaPhiMVector>({name}Mu_pt,{name}Mu_eta,{name}Mu_phi,{name}Mu_mass))\")\n",
    "        ## make indices of all the pairs\n",
    "        rdf = rdf.Define(f\"{name}DiMu_indices\", f\"\"\"\n",
    "            ROOT::VecOps::RVec<std::pair<int,int>> ret; \n",
    "            for (int i = 0, n = n{name}Mu; i < n; ++i) \n",
    "                for (int i2 = i+1; i2 < n; ++i2) \n",
    "                    ret.emplace_back(i,i2);\n",
    "            return ret;\"\"\")\n",
    "\n",
    "        #Let us impose a selection criteria here\n",
    "\n",
    "\n",
    "        ## Make the number of dimuons, for convenience later\n",
    "        rdf = rdf.Define(f\"n{name}DiMu\", f\"{name}DiMu_indices.size()\")\n",
    "        ## compute the mass, charge\n",
    "        rdf = rdf.Define(f\"{name}DiMu_mass\", f\"\"\"\n",
    "            ROOT::RVecF ret; \n",
    "            for (const auto & pair : {name}DiMu_indices) \n",
    "                ret.emplace_back(({name}Mu_p4[pair.first]+{name}Mu_p4[pair.second]).M());\n",
    "            return ret;\"\"\")\n",
    "\n",
    "\n",
    "        rdf = rdf.Define(f\"{name}DiMu_charge\", f\"\"\"\n",
    "            ROOT::RVecI ret; \n",
    "            for (const auto & pair : {name}DiMu_indices) \n",
    "                ret.emplace_back({name}Mu_charge[pair.first]+{name}Mu_charge[pair.second]);\n",
    "            return ret;\"\"\")\n",
    "\n",
    "\n",
    "\n",
    "        rdf = rdf.Define(f\"{name}DiMu_minIdx\", f\"\"\"\n",
    "            ROOT::RVecI ret;\n",
    "            for (const auto & pair : {name}DiMu_indices) \n",
    "                ret.emplace_back(std::min(TkMu_GenMuIdx[pair.first],TkMu_GenMuIdx[pair.second]));\n",
    "            return ret;\"\"\")\n",
    "\n",
    "\n",
    "        rdf = rdf.Define(f\"{name}DiMu_eta\", f\"\"\"\n",
    "            ROOT::RVecF ret;\n",
    "            for (const auto & pair : {name}DiMu_indices) \n",
    "                ret.emplace_back(std::max(abs({name}Mu_eta[pair.first]),abs({name}Mu_eta[pair.second])));\n",
    "            return ret;\"\"\")\n",
    "        \n",
    "        rdf=rdf.Define(f\"{name}DiMu_dz\",f\"\"\"\n",
    "            ROOT::RVecF ret;\n",
    "            for(const auto & pair : {name}DiMu_indices)\n",
    "                ret.emplace_back(({name}Mu_vz[pair.first]-{name}Mu_vz[pair.second]));\n",
    "            return ret;\"\"\")\n",
    "        #min pT of thw two\n",
    "        rdf = rdf.Define(f\"{name}Mu_minPT\",f\"\"\"\n",
    "            ROOT::RVecF ret;\n",
    "            for(const auto & pair : {name}DiMu_indices)\n",
    "                ret.emplace_back(std::min({name}Mu_pt[pair.first],{name}Mu_pt[pair.second]));\n",
    "            return ret;\"\"\") #\n",
    "\n",
    "        return rdf;\n",
    "    \n",
    "    entries_no_pair = rdf.Count().GetValue()\n",
    "    \n",
    "####################################################################################################################################################################    \n",
    "    def makeTk_DiMuonPairs(rdf):\n",
    "    \n",
    "        #this is to defne DiMuon pairs for different properties\n",
    "        rdf = rdf.Define(f\"TkDiMu_hwIsoSum\", f\"\"\"\n",
    "            ROOT::RVecI ret; \n",
    "            for (const auto & pair : TkDiMu_indices) \n",
    "                ret.emplace_back(std::max(TkMu_hwIsoSum[pair.first],TkMu_hwIsoSum[pair.second]));\n",
    "            return ret;\"\"\")\n",
    "\n",
    "        rdf = rdf.Define(f\"TkDiMu_hwIsoSumAp\", f\"\"\"\n",
    "            ROOT::RVecI ret; \n",
    "            for (const auto & pair : TkDiMu_indices) \n",
    "                ret.emplace_back(std::max(TkMu_hwIsoSumAp[pair.first],TkMu_hwIsoSumAp[pair.second]));\n",
    "            return ret;\"\"\")\n",
    "\n",
    "        rdf = rdf.Define(f\"TkDiMu_hwQual\", f\"\"\"\n",
    "            ROOT::RVecI ret; \n",
    "            for (const auto & pair : TkDiMu_indices) \n",
    "                ret.emplace_back(std::min(TkMu_hwQual[pair.first],TkMu_hwQual[pair.second]));\n",
    "            return ret;\"\"\")\n",
    "\n",
    "        return rdf;\n",
    "    rdf_Tkdimu_one = makeDimuonPairs(\"Tk\",rdf) \n",
    "    rdf_Tkdimu = makeTk_DiMuonPairs(rdf_Tkdimu_one)\n",
    "    \n",
    "    h_TkDiMu_mass = rdf_Tkdimu.Histo1D((\"\",\"\",50,0,50),\"TkDiMu_mass\")\n",
    "\n",
    "    \n",
    "    entries_Tk_pair = rdf_Tkdimu.Count().GetValue()\n",
    "    \n",
    "####################################################################################################################################################################\n",
    "    \n",
    "    rdf_genDiMu = makeDimuonPairs(\"Gen\",rdf_Tkdimu)\n",
    "    \n",
    "    entries_gen_pair = rdf_genDiMu.Count().GetValue()\n",
    "    \n",
    "####################################################################################################################################################################    \n",
    "    \n",
    "    def indexSelect(rdf):\n",
    "        rdf = rdf.Define(\"TkDiMu_indMatch\",\"(TkDiMu_minIdx!=-1)\" )\n",
    "        rdf = rdf.Define(f\"IdxDiMu_indices\", f\"TkDiMu_indices[TkDiMu_indMatch]\")\n",
    "        rdf = rdf.Filter(f\"Sum(TkDiMu_indMatch)  >= 1\")\n",
    "        rdf = rdf.Define(f\"nTkDiMu_Idx\",f\"IdxDiMu_indices.size()\")\n",
    "        rdf = rdf.Define(f\"TkDiMu_IdxMass\",f\"TkDiMu_mass[TkDiMu_indMatch]\")\n",
    "        rdf = rdf.Define(f\"TkDiMu_IdxCharge\",f\"TkDiMu_charge[TkDiMu_indMatch]\")\n",
    "        rdf = rdf.Define(f\"TkDiMu_Idxdz\",f\"TkDiMu_dz[TkDiMu_indMatch]\")\n",
    "        rdf = rdf.Define(f\"TkDiMu_IdxMinPt\",f\"TkMu_minPT[TkDiMu_indMatch]\")\n",
    "        rdf = rdf.Define(f\"TkDiMu_IdxhwIsoSum\",f\"TkDiMu_hwIsoSum[TkDiMu_indMatch]\")\n",
    "        rdf = rdf.Define(f\"TkDiMu_IdxhwIsoSumAp\",f\"TkDiMu_hwIsoSumAp[TkDiMu_indMatch]\")\n",
    "        rdf = rdf.Define(f\"TkDiMu_IdxhwQual\",f\"TkDiMu_hwQual[TkDiMu_indMatch]\")\n",
    "        rdf = rdf.Define(\"TkDiMu_IdxEta\",\"TkDiMu_eta[TkDiMu_indMatch]\")\n",
    "        return rdf;\n",
    "\n",
    "    rdf_idxSel = indexSelect(rdf_genDiMu)\n",
    "    hIdxTkPairMass = rdf_idxSel.Histo1D((\"Tk_Mass_Idx\",\"Idx m(#mu#mu)_{Tk};m (GeV);Pairs\",50,0,50), \"TkDiMu_IdxMass\")\n",
    "\n",
    "    entries_idx_pair = rdf_idxSel.Count().GetValue()\n",
    "    \n",
    "####################################################################################################################################################################\n",
    "    \n",
    "    hIdxTkPairMass = rdf_idxSel.Histo1D((\"Tk_Mass_Idx\",\"Idx m(#mu#mu)_{Tk};m (GeV);Pairs\",50,0,50), \"TkDiMu_IdxMass\")\n",
    "\n",
    "    def select_ind(name, rdf):\n",
    "    \n",
    "        #Let us impose a selection criteria here\n",
    "        #rdf = rdf.Define(f\"{name}DiMu_selind\",f\"{name}DiMu_indices\")\n",
    "        rdf = rdf.Define(f\"{name}DiMu_good\", f\"({name}DiMu_charge<0.1 && {name}DiMu_charge>-0.1) &&({name}DiMu_dz<1 && ({name}DiMu_dz>-1))&&({name}Mu_minPT>2.)&&({name}DiMu_eta <= 2) && (TkDiMu_hwIsoSumAp<=1.5) && (TkDiMu_hwIsoSum<=1.5)\")                    \n",
    "        rdf = rdf.Define(f\"Good{name}DiMu_indices\", f\"{name}DiMu_indices[{name}DiMu_good]\")\n",
    "        rdf = rdf.Filter(f\"Sum({name}DiMu_good)  >= 1\")\n",
    "        rdf = rdf.Define(f\"n{name}DiMu_sel\",f\"Good{name}DiMu_indices.size()\")\n",
    "        rdf = rdf.Define(f\"{name}DiMu_selMass\",f\"{name}DiMu_mass[{name}DiMu_good]\")\n",
    "        rdf = rdf.Define(f\"{name}DiMu_selCharge\",f\"{name}DiMu_charge[{name}DiMu_good]\")\n",
    "        rdf = rdf.Define(f\"{name}DiMu_seldz\",f\"{name}DiMu_dz[{name}DiMu_good]\")\n",
    "        rdf = rdf.Define(f\"{name}DiMu_selMinPt\",f\"{name}Mu_minPT[{name}DiMu_good]\")\n",
    "        rdf = rdf.Define(f\"{name}DiMu_selEta\",f\"{name}DiMu_eta[{name}DiMu_good]\")\n",
    "\n",
    "        #rdf = rdf.Define(f\"GoodTkDiMu_minIdx_{name}\",f\"TkDiMu_minIdx[{name}DiMu_good]\")\n",
    "        return rdf;\n",
    "\n",
    "    rdf_Tk_selFeat = select_ind(\"Tk\",rdf_idxSel)\n",
    "    #rdf_selFeat = select_ind(\"Gen\", rdf_Tk_selFeat)\n",
    "    \n",
    "    h_TkDiMu_selMass = rdf_Tk_selFeat.Histo1D((\"\",\"\",50,0,50),\"TkDiMu_selMass\")\n",
    "\n",
    "    \n",
    "    def select_idx_tk(rdf):\n",
    "\n",
    "        #Let us impose a selection criteria here\n",
    "        #rdf = rdf.Define(f\"{name}DiMu_selind\",f\"{name}DiMu_indices\")\n",
    "        rdf = rdf.Define(f\"TkDiMu_Idx_good\", f\"(TkDiMu_IdxCharge <0.1 && TkDiMu_IdxCharge > -0.1) &&(TkDiMu_Idxdz <1 && (TkDiMu_Idxdz > -1))&&(TkDiMu_IdxMinPt > 2.) && (TkDiMu_IdxhwQual>75) && (TkDiMu_IdxEta <=2)&& (TkDiMu_IdxhwIsoSum<=1.5) && (TkDiMu_IdxhwIsoSumAp<=1.5) \")                    \n",
    "        rdf = rdf.Define(f\"TkDiMu_sel_Idx_indices\", f\"IdxDiMu_indices[TkDiMu_Idx_good]\")\n",
    "        rdf = rdf.Filter(f\"Sum(TkDiMu_Idx_good)  >= 1\")\n",
    "        rdf = rdf.Define(f\"nTkDiMu_IdxSel\",f\"TkDiMu_sel_Idx_indices.size()\")\n",
    "        rdf = rdf.Define(f\"TkDiMu_IdxselMass\",f\"TkDiMu_IdxMass[TkDiMu_Idx_good]\")\n",
    "        rdf = rdf.Define(f\"TkDiMu_IdxselCharge\",f\"TkDiMu_IdxCharge[TkDiMu_Idx_good]\")\n",
    "        rdf = rdf.Define(f\"TkDiMu_Idxseldz\",f\"TkDiMu_Idxdz[TkDiMu_Idx_good]\")\n",
    "        rdf = rdf.Define(f\"TkDiMu_IdxselMinPt\",f\"TkDiMu_IdxMinPt[TkDiMu_Idx_good]\")\n",
    "        rdf = rdf.Define(f\"TkDiMu_IdxselhwQual\",f\"TkDiMu_IdxhwQual[TkDiMu_Idx_good]\")\n",
    "        rdf = rdf.Define(f\"TkDiMu_IdxselhwIsoSum\",f\"TkDiMu_IdxhwIsoSum[TkDiMu_Idx_good]\")\n",
    "        rdf = rdf.Define(f\"TkDiMu_IdxselhwIsoSumAp\",f\"TkDiMu_IdxhwIsoSumAp[TkDiMu_Idx_good]\")\n",
    "        rdf = rdf.Define(f\"GoodTkDiMu_minIdx\",f\"TkDiMu_minIdx[TkDiMu_Idx_good]\")\n",
    "        rdf = rdf.Define(f\"TkDiMu_IdxselEta\",f\"TkDiMu_IdxEta[TkDiMu_Idx_good]\")\n",
    "\n",
    "        return rdf;\n",
    "    \n",
    "    rdf_Tk_IdxselFeat = select_idx_tk(rdf_Tk_selFeat)\n",
    "    \n",
    "    \n",
    "    entries_selIdx_pair = rdf_Tk_IdxselFeat.Count().GetValue()\n",
    "    \n",
    "####################################################################################################################################################################    \n",
    "    hGoodIdxTkPairMass = rdf_Tk_IdxselFeat.Histo1D((\"Good Tk_Mass\",\"Good m(#mu#mu)_{Tk};m (GeV);Pairs\",50,0,50), \"TkDiMu_IdxselMass\")\n",
    "    \n",
    "    h1 = hGoodIdxTkPairMass.GetPtr()\n",
    "    h1.SetLineColor(kBlue+1)\n",
    "    h1.SetLineWidth(2)\n",
    "    h1.SetMaximum(4000)\n",
    "    h2 = hIdxTkPairMass.GetPtr()\n",
    "    h2.SetLineColor(kRed)\n",
    "    h2.SetLineWidth(2)\n",
    "    h2.SetMaximum(4000)\n",
    "    \n",
    "    def createRatio(h1, h2):\n",
    "        h3 = h1.Clone(\"h3\")\n",
    "        h3.SetLineColor(kBlack)\n",
    "        h3.SetMarkerStyle(21)\n",
    "        h3.SetTitle(\"\")\n",
    "        h3.SetMinimum(0)\n",
    "        h3.SetMaximum(1.2)\n",
    "        # Set up plot for markers and errors\n",
    "        h3.Sumw2() #what is this used for (removal of zeros is the rough idea I have)\n",
    "        h3.SetStats(0)\n",
    "        h3.Divide(h2)\n",
    "\n",
    "    #     # Adjust y-axis settings\n",
    "        y = h3.GetYaxis()\n",
    "        y.SetTitle(\"ratio h1/h2 \")\n",
    "        y.SetNdivisions(505)\n",
    "        y.SetTitleSize(20)\n",
    "        y.SetTitleFont(43)\n",
    "        y.SetTitleOffset(1.55)\n",
    "        y.SetLabelFont(43)\n",
    "        y.SetLabelSize(15)\n",
    "\n",
    "    #     # Adjust x-axis settings\n",
    "        x = h3.GetXaxis()\n",
    "        x.SetTitleSize(20)\n",
    "        x.SetTitleFont(43)\n",
    "        x.SetTitleOffset(4.0)\n",
    "        x.SetLabelFont(43)\n",
    "        x.SetLabelSize(15)\n",
    "\n",
    "        return h3;\n",
    "    \n",
    "    \n",
    "    h3 = createRatio(h1, h2)\n",
    "    \n",
    "    e1 = entries_selIdx_pair/entries_no_pair\n",
    "    e2 = entries_selIdx_pair/entries_idx_pair\n",
    "    \n",
    "    \n",
    "    return dict(h1=h1,h2=h2,h3=h3,h_TkDiMu_mass =h_TkDiMu_mass,h_TkDiMu_selMass=h_TkDiMu_selMass);\n",
    "#     c, pad1, pad2 = createCanvasPads()\n",
    "#     pad1.cd()\n",
    "#     h1.Draw()\n",
    "#     h2.Draw(\"same\")\n",
    "#     # to avoid clipping the bottom zero, redraw a small axis\n",
    "#     h1.GetYaxis().SetLabelSize(0.0)\n",
    "#     axis =ROOT.TGaxis(-5, 20, -5, 220, 20, 220, 510, \"\")|\n",
    "#     axis.SetLabelFont(43)\n",
    "#     axis.SetLabelSize(15)\n",
    "#     axis.Draw()\n",
    "#     pad2.cd()\n",
    "#     h3.Draw(\"ep\")\n",
    "#     c.Draw()\n",
    "\n",
    "\n",
    "#normalisation:\n",
    "#      TH1*h1 = (TH1*)(h->Clone(\"h1\"));\n",
    "#      h1->Scale(1./h1->Integral(), \"width\");\n",
    "#      h1->Draw();\n",
    "    "
   ]
  },
  {
   "cell_type": "code",
   "execution_count": 6,
   "id": "12b18d0c",
   "metadata": {},
   "outputs": [
    {
     "name": "stderr",
     "output_type": "stream",
     "text": [
      "Warning in <TClass::Init>: no dictionary for class edm::Hash<1> is available\n",
      "Warning in <TClass::Init>: no dictionary for class edm::ProcessHistory is available\n",
      "Warning in <TClass::Init>: no dictionary for class edm::ProcessConfiguration is available\n",
      "Warning in <TClass::Init>: no dictionary for class edm::ParameterSetBlob is available\n",
      "Warning in <TClass::Init>: no dictionary for class pair<edm::Hash<1>,edm::ParameterSetBlob> is available\n"
     ]
    },
    {
     "data": {
      "image/png": "[encoded data removed]",
      "text/plain": [
       "<IPython.core.display.Image object>"
      ]
     },
     "metadata": {},
     "output_type": "display_data"
    }
   ],
   "source": [
    "#Forming a stack of histograms\n",
    "\n",
    "leg = ROOT.TLegend(0.9,0.7,0.48,0.9)\n",
    "leg.SetHeader(\"Signal and background\",\"C\")\n",
    "\n",
    "hs = ROOT.THStack(\"hs\",\"\")\n",
    "colour = [ROOT.kRed, ROOT.kBlue -4, ROOT.kOrange + 8, ROOT.kGreen+1]\n",
    "\n",
    "for i, m in enumerate([\"2\", \"5\", \"10\", \"25\"]):\n",
    "    data = Efficiency_plotter(f\"l1MuNano_HAHM_ZdToMuMu_M{m}_PU200.125X_v0.1.root\")\n",
    "    h_add = Normal_h(data['h2'],data['h2'])\n",
    "    leg.AddEntry(h_add,f\"Signal of dark photon mass = {m}\",\"f\")\n",
    "    h_add.SetLineColor(colour[i])\n",
    "    hs.Add(h_add)\n",
    "\n",
    "\n",
    "#y.SetTitle(\"Number of pairs (normalised)\")\n",
    "\n",
    "\n",
    "c = ROOT.TCanvas(\"\")\n",
    "c.cd()\n",
    "hs.Draw(\"hist nostack\")\n",
    "hs.SetTitle(\"Normalised histogram of index matched muon pairs with respect to mass\")\n",
    "hs.GetXaxis().SetTitle(\"mass of dark photon(GeV)\")\n",
    "#x.SetTitle(\"mass of dark photon(GeV)\")\n",
    "hs.GetYaxis().SetTitle(\"Number of pairs (normalised)\")\n",
    "\n",
    "c.Draw()"
   ]
  },
  {
   "cell_type": "code",
   "execution_count": 7,
   "id": "f1c4b2c9",
   "metadata": {},
   "outputs": [
    {
     "name": "stderr",
     "output_type": "stream",
     "text": [
      "Info in <TCanvas::Print>: png file before_selection_on_signal_and_back.png has been created\n"
     ]
    },
    {
     "data": {
      "image/png": "[encoded data removed]",
      "text/plain": [
       "<IPython.core.display.Image object>"
      ]
     },
     "metadata": {},
     "output_type": "display_data"
    }
   ],
   "source": [
    "data_bg_1 = Efficiency_plotter(\"l1MuNano_SingleNeutrino_big_PU200.125X_v0.1.root\")\n",
    "h_add_bg1 = Normal_h(data_bg_1['h_TkDiMu_mass'].GetPtr(),data_bg_1['h_TkDiMu_mass'].GetPtr())\n",
    "h_add_bg1.SetLineColor(ROOT.kMagenta)\n",
    "hs.Add(h_add_bg1)\n",
    "\n",
    "data_bg_2 = Efficiency_plotter(\"l1MuNano_DYToLL_M-10To50_PU200.125X_v0.0.root\")\n",
    "h_add_bg2 = Normal_h(data_bg_2['h2'],data_bg_2['h2'])\n",
    "h_add_bg2.SetLineColor(ROOT.kTeal)\n",
    "hs.Add(h_add_bg2)\n",
    "\n",
    "c = ROOT.TCanvas(\"\")\n",
    "c.cd()\n",
    "hs.Draw(\"hist nostack\")\n",
    "\n",
    "# for the legend\n",
    "leg.AddEntry(h_add_bg1,\"Single neutrino background\",\"f\")\n",
    "leg.AddEntry(h_add_bg2,\"Drell Yan background\",\"f\")\n",
    "\n",
    "leg.Draw()\n",
    "c.Draw()\n",
    "c.SaveAs(\"before_selection_on_signal_and_back.png\")\n",
    "\n",
    "\n",
    "\n"
   ]
  },
  {
   "cell_type": "code",
   "execution_count": 8,
   "id": "c1e05676",
   "metadata": {},
   "outputs": [
    {
     "data": {
      "image/png": "[encoded data removed]",
      "text/plain": [
       "<IPython.core.display.Image object>"
      ]
     },
     "metadata": {},
     "output_type": "display_data"
    }
   ],
   "source": [
    "#Forming a stack of histograms\n",
    "\n",
    "leg_sel = ROOT.TLegend(0.9,0.75,0.6,0.9)\n",
    "leg_sel.SetHeader(\"Signal and background\",\"C\")\n",
    "\n",
    "hs_sel = ROOT.THStack(\"hs\",\"\")\n",
    "#colour = [ROOT.kRed, ROOT.kBlue -4, ROOT.kOrange + 8, ROOT.kGreen+1]\n",
    "\n",
    "for i, m in enumerate([\"2\", \"5\", \"10\", \"25\"]):\n",
    "    data_sel = Efficiency_plotter(f\"l1MuNano_HAHM_ZdToMuMu_M{m}_PU200.125X_v0.1.root\")\n",
    "    h_add_sel = Normal_h(data_sel['h1'],data_sel['h2'])\n",
    "    leg_sel.AddEntry(h_add_sel,f\"Signal after selection cut for dark photon mass = {m}\",\"f\")\n",
    "    h_add_sel.SetLineColor(colour[i])\n",
    "    hs_sel.Add(h_add_sel)\n",
    "\n",
    "\n",
    "#y.SetTitle(\"Number of pairs (normalised)\")\n",
    "\n",
    "\n",
    "c = ROOT.TCanvas(\"\")\n",
    "c.cd()\n",
    "hs_sel.Draw(\"hist nostack\")\n",
    "hs_sel.SetTitle(\"Normalised histogram of index matched muon pairs with respect to mass after selection\")\n",
    "hs_sel.GetXaxis().SetTitle(\"mass of dark photon(GeV)\")\n",
    "#x.SetTitle(\"mass of dark photon(GeV)\")\n",
    "hs_sel.GetYaxis().SetTitle(\"Number of pairs (normalised)\")\n",
    "\n",
    "c.Draw()"
   ]
  },
  {
   "cell_type": "code",
   "execution_count": 9,
   "id": "3864203e",
   "metadata": {},
   "outputs": [
    {
     "name": "stderr",
     "output_type": "stream",
     "text": [
      "Info in <TCanvas::Print>: png file after_selection_on_signal_and_back.png has been created\n"
     ]
    },
    {
     "data": {
      "image/png": "[encoded data removed]",
      "text/plain": [
       "<IPython.core.display.Image object>"
      ]
     },
     "metadata": {},
     "output_type": "display_data"
    }
   ],
   "source": [
    "#data_bg_1_sel = Efficiency_plotter(\"l1MuNano_SingleNeutrino_big_PU200.125X_v0.1.root\")\n",
    "h_add_bg1_sel = Normal_h(data_bg_1['h_TkDiMu_selMass'].GetPtr(),data_bg_1['h_TkDiMu_mass'].GetPtr())\n",
    "h_add_bg1_sel.SetLineColor(ROOT.kMagenta)\n",
    "hs_sel.Add(h_add_bg1_sel)\n",
    "\n",
    "#data_bg_2_sel = Efficiency_plotter(\"l1MuNano_DYToLL_M-10To50_PU200.125X_v0.0.root\")\n",
    "h_add_bg2_sel = Normal_h(data_bg_2['h1'],data_bg_2['h2'])\n",
    "h_add_bg2_sel.SetLineColor(ROOT.kTeal)\n",
    "hs_sel.Add(h_add_bg2_sel)\n",
    "\n",
    "c = ROOT.TCanvas(\"\")\n",
    "c.cd()\n",
    "hs_sel.Draw(\"hist nostack\")\n",
    "\n",
    "# for the legend\n",
    "leg_sel.AddEntry(h_add_bg1,\"Single neutrino background after selection\",\"f\")\n",
    "leg_sel.AddEntry(h_add_bg2,\"Drell Yan background after selection\",\"f\")\n",
    "\n",
    "leg_sel.Draw()\n",
    "c.Draw()\n",
    "c.SaveAs(\"after_selection_on_signal_and_back.png\")"
   ]
  },
  {
   "cell_type": "code",
   "execution_count": 10,
   "id": "b8a770db",
   "metadata": {},
   "outputs": [],
   "source": [
    "#rdf_25.Describe()\n",
    "#h3 = h3.GetPtr()"
   ]
  },
  {
   "cell_type": "code",
   "execution_count": 11,
   "id": "8cccee4d",
   "metadata": {},
   "outputs": [],
   "source": [
    "# def createCanvasPads():\n",
    "#         c = ROOT.TCanvas(\"c\", \"canvas\", 800, 800)\n",
    "#         # Upper histogram plot is pad1\n",
    "#         pad1 =ROOT.TPad(\"pad1\", \"pad1\", 0, 0.3, 1, 1.0)\n",
    "#         pad1.SetBottomMargin(0)  # joins upper and lower plot\n",
    "#         pad1.SetGridx()\n",
    "#         pad1.Draw()\n",
    "#         # Lower ratio plot is pad2\n",
    "#         c.cd()  # returns to main canvas before defining pad2\n",
    "#         pad2 =ROOT.TPad(\"pad2\", \"pad2\", 0, 0.05, 1, 0.3)\n",
    "#         pad2.SetTopMargin(0)  # joins upper and lower plot\n",
    "#         pad2.SetBottomMargin(0.2)\n",
    "#         pad2.SetGridx()\n",
    "\n",
    "#         pad2.Draw()\n",
    "\n",
    "#         return c, pad1, pad2;"
   ]
  },
  {
   "cell_type": "code",
   "execution_count": 12,
   "id": "bb99562d",
   "metadata": {},
   "outputs": [],
   "source": [
    "# # c = ROOT.TCanvas()\n",
    "# # c.cd()\n",
    "# # h3.Draw(\"hist c plc\")\n",
    "# # c.Draw()\n",
    "# c, pad1, pad2 = createCanvasPads()\n",
    "# pad1.cd()\n",
    "# h1.Draw()\n",
    "# h2.Draw(\"same\")\n",
    "# # to avoid clipping the bottom zero, redraw a small axis\n",
    "# h1.GetYaxis().SetLabelSize(0.0)\n",
    "# axis =ROOT.TGaxis(-5, 20, -5, 220, 20, 220, 510, \"\")\n",
    "# axis.SetLabelFont(43)\n",
    "# axis.SetLabelSize(15)\n",
    "# axis.Draw()\n",
    "# pad2.cd()\n",
    "# h3.Draw(\"hist c plc\")\n",
    "# c.Draw()"
   ]
  },
  {
   "cell_type": "code",
   "execution_count": 13,
   "id": "e1f45dfc",
   "metadata": {},
   "outputs": [],
   "source": [
    "# filename_list = [\"l1MuNano_HAHM_ZdToMuMu_M25_PU200.125X_v0.1.root\",\"l1MuNano_HAHM_ZdToMuMu_M10_PU200.125X_v0.1.root\",\"l1MuNano_HAHM_ZdToMuMu_M12_PU200.125X_v0.1.root\"]"
   ]
  },
  {
   "cell_type": "code",
   "execution_count": 14,
   "id": "2c423bea",
   "metadata": {},
   "outputs": [],
   "source": [
    "# h1 = {}\n",
    "# h2 = {}\n",
    "# h3 = {}\n",
    "\n",
    "# for filename in enumerate(filename_list):\n",
    "#     print(filename)\n",
    "#     fname = filename[1]\n",
    "#     [h1[fname],h2[fname],h3[fname],e1,e2] = Efficiency_plotter(fname)\n",
    "#     c = ROOT.TCanvas()\n",
    "#     c.cd()\n",
    "#     h3[fname].Draw(\"hist c plc\")\n",
    "#     c.Draw()"
   ]
  },
  {
   "cell_type": "code",
   "execution_count": null,
   "id": "646e1d2b",
   "metadata": {},
   "outputs": [],
   "source": []
  },
  {
   "cell_type": "code",
   "execution_count": null,
   "id": "c1dda184",
   "metadata": {},
   "outputs": [],
   "source": []
  }
 ],
 "metadata": {
  "@webio": {
   "lastCommId": null,
   "lastKernelId": null
  },
  "kernelspec": {
   "display_name": "Python 3",
   "language": "python",
   "name": "python3"
  },
  "language_info": {
   "codemirror_mode": {
    "name": "ipython",
    "version": 3
   },
   "file_extension": ".py",
   "mimetype": "text/x-python",
   "name": "python",
   "nbconvert_exporter": "python",
   "pygments_lexer": "ipython3",
   "version": "3.9.12"
  }
 },
 "nbformat": 4,
 "nbformat_minor": 5
}
