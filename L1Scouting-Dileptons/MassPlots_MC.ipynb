{
 "cells": [
  {
   "cell_type": "code",
   "execution_count": null,
   "id": "1ab53fd7",
   "metadata": {},
   "outputs": [],
   "source": [
    "import ROOT, os, sys, glob\n",
    "from math import *\n",
    "ROOT.EnableImplicitMT(4);"
   ]
  },
  {
   "cell_type": "code",
   "execution_count": null,
   "id": "2cb71f61",
   "metadata": {},
   "outputs": [],
   "source": [
    "# List of files we have\n",
    "list(glob.glob(\"/eos/cms/store/cmst3/group/l1tr/gpetrucc/dilep-scout/*125X_v0.0.root\"))"
   ]
  },
  {
   "cell_type": "code",
   "execution_count": null,
   "id": "4a3691f4",
   "metadata": {},
   "outputs": [],
   "source": [
    "# Load one data file into RDataframe  https://root.cern.ch/doc/master/classROOT_1_1RDataFrame.html\n",
    "rdf = ROOT.RDataFrame(\"Events\", \"/eos/cms/store/cmst3/group/l1tr/gpetrucc/dilep-scout/l1MuNano_HAHM_ZdToMuMu_M15_PU200.125X_v0.0.root\")\n",
    "rdf.Describe()"
   ]
  },
  {
   "cell_type": "code",
   "execution_count": null,
   "id": "83c1b7fd",
   "metadata": {},
   "outputs": [],
   "source": [
    "## Now we make a plot of the number of generated muons and the ones reconstructed by L1T\n",
    "hNGen = rdf.Histo1D((\"nGenMu\",\"N(#mu)_{gen}\",7,-0.5,6.5), \"GenMu_mass\")\n",
    "hNL1 = rdf.Histo1D((\"nL1Mu\",\"N(#mu)_{L1}\",7,-0.5,6.5), \"TkMu_mass\")\n",
    "entries = rdf.Count().GetValue()\n",
    "print(f\"Processed {entries} entries.\")\n",
    "## And plot it\n",
    "c1 = ROOT.TCanvas(\"c1\",\"c1\", 1200, 400)\n",
    "c1.Divide(2,1)\n",
    "c1.cd(1)\n",
    "hNGen.Draw()\n",
    "c1.cd(2)\n",
    "hNL1.Draw()\n",
    "c1.Draw()"
   ]
  },
  {
   "cell_type": "code",
   "execution_count": null,
   "id": "5e52c724",
   "metadata": {},
   "outputs": [],
   "source": [
    "## Now we make pairs of muons\n",
    "## This needs a bit of inlined C++ code\n",
    "def makeDimuonPairs(name, rdf):\n",
    "    ## define 4-vectors in cartesian coordinates, for easier \n",
    "    rdf = rdf.Define(f\"{name}Mu_p4\", f\"ROOT::VecOps::Construct<ROOT::Math::XYZTVector>(ROOT::VecOps::Construct<ROOT::Math::PtEtaPhiMVector>({name}Mu_pt,{name}Mu_eta,{name}Mu_phi,{name}Mu_mass))\")\n",
    "    ## make indices of all the pairs\n",
    "    rdf = rdf.Define(f\"{name}DiMu_indices\", f\"\"\"\n",
    "        std::vector<std::pair<int,int>> ret; \n",
    "        for (int i = 0, n = n{name}Mu; i < n; ++i) \n",
    "            for (int i2 = i+1; i2 < n; ++i2) \n",
    "                ret.emplace_back(i,i2);\n",
    "        return ret;\"\"\")\n",
    "    ## Make the number of dimuons, for convenience later\n",
    "    rdf = rdf.Define(f\"n{name}DiMu\", f\"{name}DiMu_indices.size()\")\n",
    "    ## compute the mass, charge\n",
    "    rdf = rdf.Define(f\"{name}DiMu_mass\", f\"\"\"\n",
    "        ROOT::RVecF ret; \n",
    "        for (const auto & pair : {name}DiMu_indices) \n",
    "            ret.emplace_back(({name}Mu_p4[pair.first]+{name}Mu_p4[pair.second]).M());\n",
    "        return ret;\"\"\")\n",
    "    rdf = rdf.Define(f\"{name}DiMu_charge\", f\"\"\"\n",
    "        ROOT::RVecI ret; \n",
    "        for (const auto & pair : {name}DiMu_indices) \n",
    "            ret.emplace_back({name}Mu_charge[pair.first]+{name}Mu_charge[pair.second]);\n",
    "        return ret;\"\"\")\n",
    "    return rdf;\n",
    "\n",
    "\n",
    "rdf_gendimu = makeDimuonPairs(\"Gen\", rdf)\n",
    "\n",
    "## Now we make a plot of the number of generated muons and the ones reconstructed by L1T\n",
    "hNGenPairs = rdf_gendimu.Histo1D((\"nGenDiMu\",\"N(#mu#mu)_{gen};N(#mu#mu)_{gen};Events\",7,-0.5,6.5), \"nGenDiMu\")\n",
    "hGenPairMass = rdf_gendimu.Histo1D((\"GenMass\",\"m(#mu#mu)_{gen};m (GeV);Pairs\",100,0.0,20.0), \"GenDiMu_mass\")\n",
    "hGenPairCharge = rdf_gendimu.Histo1D((\"GenCharge\",\"q(#mu#mu)_{gen};q(#mu_{1}) + q(#mu_{2});Pairs\",7,-3.5,3.5), \"GenDiMu_charge\")\n",
    "entries = rdf_gendimu.Count().GetValue()\n",
    "print(f\"Processed {entries} entries.\")\n",
    "## And plot it\n",
    "c1 = ROOT.TCanvas(\"c1\",\"c1\", 1500, 400)\n",
    "c1.Divide(3,1)\n",
    "for i, h in enumerate([hNGenPairs,hGenPairMass,hGenPairCharge]):\n",
    "    c1.cd(i+1)\n",
    "    h.Draw()\n",
    "c1.Draw()"
   ]
  },
  {
   "cell_type": "code",
   "execution_count": null,
   "id": "91b503f0",
   "metadata": {},
   "outputs": [],
   "source": [
    "## Repeat the same for L1 reconstructed pairs\n",
    "rdf_l1dimu = makeDimuonPairs(\"Tk\", rdf_gendimu)\n",
    "\n",
    "## Now we make a plot of the number of generated muons and the ones reconstructed by L1T\n",
    "hNL1Pairs = rdf_l1dimu.Histo1D((\"nTkDiMu\",\"N(#mu#mu)_{L1};N(#mu#mu)_{L1};Events\",7,-0.5,6.5), \"nTkDiMu\")\n",
    "hL1PairMass = rdf_l1dimu.Histo1D((\"TkMass\",\"m(#mu#mu)_{L1};m (GeV);Pairs\",100,0.0,20.0), \"TkDiMu_mass\")\n",
    "hL1PairCharge = rdf_l1dimu.Histo1D((\"TkCharge\",\"q(#mu#mu)_{L1};q(#mu_{1}) + q(#mu_{2});Pairs\",7,-3.5,3.5), \"TkDiMu_charge\")\n",
    "entries = rdf_l1dimu.Count().GetValue()\n",
    "print(f\"Processed {entries} entries.\")\n",
    "## And plot it\n",
    "c1 = ROOT.TCanvas(\"c1\",\"c1\", 1500, 400)\n",
    "c1.Divide(3,1)\n",
    "for i, h in enumerate([hNL1Pairs,hL1PairMass,hL1PairCharge]):\n",
    "    c1.cd(i+1)\n",
    "    h.Draw()\n",
    "c1.Draw()"
   ]
  },
  {
   "cell_type": "code",
   "execution_count": null,
   "id": "0317cfc9",
   "metadata": {},
   "outputs": [],
   "source": [
    "## Now we add a few more variables\n",
    "\n",
    "def makeMoreDimuonVariables(name, rdf):\n",
    "    ## compute the separation along the beam line\n",
    "    rdf = rdf.Define(f\"{name}DiMu_dz\", f\"\"\"\n",
    "        ROOT::RVecF ret; \n",
    "        for (const auto & pair : {name}DiMu_indices) \n",
    "            ret.emplace_back(({name}Mu_vz[pair.first]-{name}Mu_vz[pair.second]));\n",
    "        return ret;\"\"\")\n",
    "    rdf = rdf.Define(f\"{name}DiMu_minPt\", f\"\"\"\n",
    "        ROOT::RVecF ret; \n",
    "        for (const auto & pair : {name}DiMu_indices) \n",
    "            ret.emplace_back(std::min({name}Mu_pt[pair.first],{name}Mu_pt[pair.second]));\n",
    "        return ret;\"\"\")\n",
    "    return rdf;\n",
    "\n",
    "rdf_dimu = makeMoreDimuonVariables(\"Tk\", makeMoreDimuonVariables(\"Gen\", rdf_l1dimu))\n",
    "## Now we make a plot of the number of generated muons and the ones reconstructed by L1T\n",
    "hGenPairDZ = rdf_dimu.Histo1D((\"GenDZ\",\"dz(#mu#mu)_{L1};z(#mu_{1}) - z(#mu_{2}) (cm);Pairs\",100,-10,10), \"GenDiMu_dz\")\n",
    "hL1PairDZ = rdf_dimu.Histo1D((\"TkDZ\",\"dz(#mu#mu)_{L1};z(#mu_{1}) - z(#mu_{2}) (cm);Pairs\",100,-10,10), \"TkDiMu_dz\")\n",
    "hGenPairMinPt = rdf_dimu.Histo1D((\"GenMinPt\",\"min p_{T} (Gen);min(p_{T}(#mu_{1}), p_{T}(#mu_{2})) (GeV);Pairs\",100,0,10), \"GenDiMu_minPt\")\n",
    "hL1PairMinPt = rdf_dimu.Histo1D((\"TkMinPt\",\"min p_{T} (L1);min(p_{T}(#mu_{1}), p_{T}(#mu_{2})) (GeV);Pairs\",100,0,10), \"TkDiMu_minPt\")\n",
    "entries = rdf_dimu.Count().GetValue()\n",
    "print(f\"Processed {entries} entries.\")\n",
    "## And plot it\n",
    "c1 = ROOT.TCanvas(\"c1\",\"c1\", 1200, 800)\n",
    "c1.Divide(2,2)\n",
    "for i, h in enumerate([hGenPairDZ,hL1PairDZ,hGenPairMinPt,hL1PairMinPt]):\n",
    "    c1.cd(i+1)\n",
    "    h.Draw()\n",
    "c1.Draw()"
   ]
  },
  {
   "cell_type": "code",
   "execution_count": null,
   "id": "5a6158d5",
   "metadata": {},
   "outputs": [],
   "source": [
    "# d=ROOT.TFile::ls(Option_t = \"/eos/cms/store/cmst3/group/l1tr/gpetrucc/dilep-scout\")\n",
    "# d.Describe()"
   ]
  },
  {
   "cell_type": "code",
   "execution_count": null,
   "id": "7b593a8d",
   "metadata": {},
   "outputs": [],
   "source": []
  }
 ],
 "metadata": {
  "@webio": {
   "lastCommId": null,
   "lastKernelId": null
  },
  "kernelspec": {
   "display_name": "Python 3",
   "language": "python",
   "name": "python3"
  },
  "language_info": {
   "codemirror_mode": {
    "name": "ipython",
    "version": 3
   },
   "file_extension": ".py",
   "mimetype": "text/x-python",
   "name": "python",
   "nbconvert_exporter": "python",
   "pygments_lexer": "ipython3",
   "version": "3.9.12"
  }
 },
 "nbformat": 4,
 "nbformat_minor": 5
}
