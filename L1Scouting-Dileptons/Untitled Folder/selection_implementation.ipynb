{
 "cells": [
  {
   "cell_type": "code",
   "execution_count": 1,
   "id": "bdc2528d",
   "metadata": {},
   "outputs": [
    {
     "name": "stdout",
     "output_type": "stream",
     "text": [
      "Welcome to JupyROOT 6.28/00\n"
     ]
    },
    {
     "name": "stderr",
     "output_type": "stream",
     "text": [
      "Warning in <RTaskArenaWrapper>: CPU Bandwith Control Active. Proceeding with 2 threads accordingly\n"
     ]
    }
   ],
   "source": [
    "import ROOT, os, sys, glob\n",
    "from math import *\n",
    "ROOT.EnableImplicitMT(4); "
   ]
  },
  {
   "cell_type": "code",
   "execution_count": 2,
   "id": "170878f2",
   "metadata": {},
   "outputs": [
    {
     "data": {
      "text/plain": [
       "['/eos/cms/store/cmst3/group/l1tr/gpetrucc/dilep-scout/l1MuNano_BsToMuMu_PU200.125X_v0.0.root',\n",
       " '/eos/cms/store/cmst3/group/l1tr/gpetrucc/dilep-scout/l1MuNano_DYToLL_M-10To50_PU200.125X_v0.0.root',\n",
       " '/eos/cms/store/cmst3/group/l1tr/gpetrucc/dilep-scout/l1MuNano_DYToLL_M-50_PU200.125X_v0.0.root',\n",
       " '/eos/cms/store/cmst3/group/l1tr/gpetrucc/dilep-scout/l1MuNano_HAHM_ZdToMuMu_M15_PU200.125X_v0.0.root',\n",
       " '/eos/cms/store/cmst3/group/l1tr/gpetrucc/dilep-scout/l1MuNano_HAHM_ZdToMuMu_M2_PU200.125X_v0.0.root',\n",
       " '/eos/cms/store/cmst3/group/l1tr/gpetrucc/dilep-scout/l1MuNano_HAHM_ZdToMuMu_M5_PU200.125X_v0.0.root',\n",
       " '/eos/cms/store/cmst3/group/l1tr/gpetrucc/dilep-scout/l1MuNano_JPsiToMuMu_PU200.125X_v0.0.root',\n",
       " '/eos/cms/store/cmst3/group/l1tr/gpetrucc/dilep-scout/l1MuNano_SingleNeutrino_PU200.125X_v0.0.root']"
      ]
     },
     "execution_count": 2,
     "metadata": {},
     "output_type": "execute_result"
    }
   ],
   "source": [
    "list(glob.glob(\"/eos/cms/store/cmst3/group/l1tr/gpetrucc/dilep-scout/*125X_v0.0.root\"))"
   ]
  },
  {
   "cell_type": "code",
   "execution_count": 3,
   "id": "be9e87cd",
   "metadata": {},
   "outputs": [],
   "source": [
    "rdf = ROOT.RDataFrame(\"Events\",\"/eos/cms/store/cmst3/group/l1tr/gpetrucc/dilep-scout/l1MuNano_SingleNeutrino_PU200.125X_v0.0.root\")"
   ]
  },
  {
   "cell_type": "code",
   "execution_count": 4,
   "id": "ae1d9e1a",
   "metadata": {},
   "outputs": [
    {
     "data": {
      "text/plain": [
       "Dataframe from TChain Events in file /eos/cms/store/cmst3/group/l1tr/gpetrucc/dilep-scout/l1MuNano_SingleNeutrino_PU200.125X_v0.0.root\n",
       "\n",
       "Property                Value\n",
       "--------                -----\n",
       "Columns in total           34\n",
       "Columns from defines        0\n",
       "Event loops run             0\n",
       "Processing slots            2\n",
       "\n",
       "Column          Type                            Origin\n",
       "------          ----                            ------\n",
       "GenMu_charge    ROOT::VecOps::RVec<Int_t>       Dataset\n",
       "GenMu_d0        ROOT::VecOps::RVec<Float_t>     Dataset\n",
       "GenMu_eta       ROOT::VecOps::RVec<Float_t>     Dataset\n",
       "GenMu_isFromTau ROOT::VecOps::RVec<Int_t>       Dataset\n",
       "GenMu_isPrompt  ROOT::VecOps::RVec<Int_t>       Dataset\n",
       "GenMu_mass      ROOT::VecOps::RVec<Float_t>     Dataset\n",
       "GenMu_phi       ROOT::VecOps::RVec<Float_t>     Dataset\n",
       "GenMu_pt        ROOT::VecOps::RVec<Float_t>     Dataset\n",
       "GenMu_vz        ROOT::VecOps::RVec<Float_t>     Dataset\n",
       "TkMu_GenMuFlav  ROOT::VecOps::RVec<UChar_t>     Dataset\n",
       "TkMu_GenMuIdx   ROOT::VecOps::RVec<Int_t>       Dataset\n",
       "TkMu_charge     ROOT::VecOps::RVec<Int_t>       Dataset\n",
       "TkMu_d0         ROOT::VecOps::RVec<Float_t>     Dataset\n",
       "TkMu_eta        ROOT::VecOps::RVec<Float_t>     Dataset\n",
       "TkMu_hwCharge   ROOT::VecOps::RVec<Int_t>       Dataset\n",
       "TkMu_hwD0       ROOT::VecOps::RVec<Int_t>       Dataset\n",
       "TkMu_hwEta      ROOT::VecOps::RVec<Int_t>       Dataset\n",
       "TkMu_hwIsoSum   ROOT::VecOps::RVec<Int_t>       Dataset\n",
       "TkMu_hwIsoSumAp ROOT::VecOps::RVec<Int_t>       Dataset\n",
       "TkMu_hwPhi      ROOT::VecOps::RVec<Int_t>       Dataset\n",
       "TkMu_hwPt       ROOT::VecOps::RVec<Int_t>       Dataset\n",
       "TkMu_hwQual     ROOT::VecOps::RVec<Int_t>       Dataset\n",
       "TkMu_hwZ0       ROOT::VecOps::RVec<Int_t>       Dataset\n",
       "TkMu_mass       ROOT::VecOps::RVec<Float_t>     Dataset\n",
       "TkMu_phi        ROOT::VecOps::RVec<Float_t>     Dataset\n",
       "TkMu_pt         ROOT::VecOps::RVec<Float_t>     Dataset\n",
       "TkMu_quality    ROOT::VecOps::RVec<Int_t>       Dataset\n",
       "TkMu_vz         ROOT::VecOps::RVec<Float_t>     Dataset\n",
       "bunchCrossing   UInt_t                          Dataset\n",
       "event           ULong64_t                       Dataset\n",
       "luminosityBlock UInt_t                          Dataset\n",
       "nGenMu          UInt_t                          Dataset\n",
       "nTkMu           UInt_t                          Dataset\n",
       "run             UInt_t                          Dataset"
      ]
     },
     "execution_count": 4,
     "metadata": {},
     "output_type": "execute_result"
    },
    {
     "name": "stderr",
     "output_type": "stream",
     "text": [
      "Warning in <TClass::Init>: no dictionary for class edm::Hash<1> is available\n",
      "Warning in <TClass::Init>: no dictionary for class edm::ProcessHistory is available\n",
      "Warning in <TClass::Init>: no dictionary for class edm::ProcessConfiguration is available\n",
      "Warning in <TClass::Init>: no dictionary for class edm::ParameterSetBlob is available\n",
      "Warning in <TClass::Init>: no dictionary for class pair<edm::Hash<1>,edm::ParameterSetBlob> is available\n"
     ]
    }
   ],
   "source": [
    "rdf.Describe()"
   ]
  },
  {
   "cell_type": "code",
   "execution_count": 5,
   "id": "6e12770c",
   "metadata": {},
   "outputs": [
    {
     "name": "stdout",
     "output_type": "stream",
     "text": [
      "Processed 400000 entries.\n"
     ]
    },
    {
     "data": {
      "image/png": "[encoded data removed]",
      "text/plain": [
       "<IPython.core.display.Image object>"
      ]
     },
     "metadata": {},
     "output_type": "display_data"
    }
   ],
   "source": [
    "## Now we make pairs of muons\n",
    "## This needs a bit of inlined C++ code\n",
    "def makeDimuonPairs(name, rdf):\n",
    "    ## define 4-vectors in cartesian coordinates, for easier \n",
    "    #rdf = rdf.Define(f\"{name}Mu_p4\", f\"ROOT::VecOps::Construct<ROOT::Math::XYZTVector>(ROOT::VecOps::Construct<ROOT::Math::PtEtaPhiMVector>({name}Mu_pt,{name}Mu_eta,{name}Mu_phi,{name}Mu_mass))\")\n",
    "    ## make indices of all the pairs\n",
    "    rdf = rdf.Define(f\"{name}DiMu_indices\", f\"\"\"\n",
    "        ROOT::VecOps::RVec<std::pair<int,int>> ret; \n",
    "        for (int i = 0, n = n{name}Mu; i < n; ++i) \n",
    "            for (int i2 = i+1; i2 < n; ++i2) \n",
    "                ret.emplace_back(i,i2);\n",
    "        return ret;\"\"\")\n",
    "    \n",
    "    #Let us impose a selection criteria here\n",
    "    \n",
    "    \n",
    "    ## Make the number of dimuons, for convenience later\n",
    "    rdf = rdf.Define(f\"n{name}DiMu\", f\"{name}DiMu_indices.size()\")\n",
    "    ## compute the mass, charge\n",
    "    rdf = rdf.Define(f\"{name}DiMu_mass\", f\"\"\"\n",
    "        ROOT::RVecF ret; \n",
    "        for (const auto & pair : {name}DiMu_indices) \n",
    "            ret.emplace_back(({name}Mu_mass[pair.first]+{name}Mu_mass[pair.second]));\n",
    "        return ret;\"\"\")\n",
    "    \n",
    "    \n",
    "    rdf = rdf.Define(f\"{name}DiMu_charge\", f\"\"\"\n",
    "        ROOT::RVecI ret; \n",
    "        for (const auto & pair : {name}DiMu_indices) \n",
    "            ret.emplace_back({name}Mu_charge[pair.first]+{name}Mu_charge[pair.second]);\n",
    "        return ret;\"\"\")\n",
    "    return rdf;\n",
    "\n",
    "\n",
    "rdf_gendimu = makeDimuonPairs(\"Gen\", rdf)\n",
    "\n",
    "## Now we make a plot of the number of generated muons and the ones reconstructed by L1T\n",
    "hNGenPairs = rdf_gendimu.Histo1D((\"nGenDiMu\",\"N(#mu#mu)_{gen};N(#mu#mu)_{gen};Events\",7,-2.5,10), \"nGenDiMu\")\n",
    "hGenPairMass = rdf_gendimu.Histo1D((\"GenMass\",\"m(#mu#mu)_{gen};m (GeV);Pairs\",7,-5,5), \"GenDiMu_mass\")\n",
    "hGenPairCharge = rdf_gendimu.Histo1D((\"GenCharge\",\"q(#mu#mu)_{gen};q(#mu_{1}) + q(#mu_{2});Pairs\",7,-3.5,3.5), \"GenDiMu_charge\")\n",
    "entries = rdf_gendimu.Count().GetValue()\n",
    "print(f\"Processed {entries} entries.\")\n",
    "\n",
    "rdf_gendimu.Describe()\n",
    "## And plot it\n",
    "c1 = ROOT.TCanvas(\"c1\",\"c1\", 1500, 400)\n",
    "c1.Divide(3,1)\n",
    "for i, h in enumerate([hNGenPairs,hGenPairMass,hGenPairCharge]):\n",
    "    c1.cd(i+1)\n",
    "    h.Draw()\n",
    "c1.Draw()"
   ]
  },
  {
   "cell_type": "code",
   "execution_count": 6,
   "id": "34a0310a",
   "metadata": {},
   "outputs": [],
   "source": [
    "#rdf_gendimu.Display([\"GenDiMu_indices\"],40000).Print()"
   ]
  },
  {
   "cell_type": "code",
   "execution_count": 7,
   "id": "7636f48f",
   "metadata": {},
   "outputs": [
    {
     "data": {
      "text/plain": [
       "Dataframe from TChain Events in file /eos/cms/store/cmst3/group/l1tr/gpetrucc/dilep-scout/l1MuNano_SingleNeutrino_PU200.125X_v0.0.root\n",
       "\n",
       "Property                Value\n",
       "--------                -----\n",
       "Columns in total           40\n",
       "Columns from defines        6\n",
       "Event loops run             1\n",
       "Processing slots            2\n",
       "\n",
       "Column                  Type                                    Origin\n",
       "------                  ----                                    ------\n",
       "GenDiMu_charge          ROOT::VecOps::RVec<int>                 Define\n",
       "GenDiMu_good            ROOT::VecOps::RVec<int>                 Define\n",
       "GenDiMu_indices         ROOT::VecOps::RVec<pair<int,int> >      Define\n",
       "GenDiMu_mass            ROOT::VecOps::RVec<float>               Define\n",
       "GenMu_charge            ROOT::VecOps::RVec<Int_t>               Dataset\n",
       "GenMu_d0                ROOT::VecOps::RVec<Float_t>             Dataset\n",
       "GenMu_eta               ROOT::VecOps::RVec<Float_t>             Dataset\n",
       "GenMu_isFromTau         ROOT::VecOps::RVec<Int_t>               Dataset\n",
       "GenMu_isPrompt          ROOT::VecOps::RVec<Int_t>               Dataset\n",
       "GenMu_mass              ROOT::VecOps::RVec<Float_t>             Dataset\n",
       "GenMu_phi               ROOT::VecOps::RVec<Float_t>             Dataset\n",
       "GenMu_pt                ROOT::VecOps::RVec<Float_t>             Dataset\n",
       "GenMu_vz                ROOT::VecOps::RVec<Float_t>             Dataset\n",
       "GoodGenDiMu_indices     ROOT::VecOps::RVec<pair<int,int> >      Define\n",
       "TkMu_GenMuFlav          ROOT::VecOps::RVec<UChar_t>             Dataset\n",
       "TkMu_GenMuIdx           ROOT::VecOps::RVec<Int_t>               Dataset\n",
       "TkMu_charge             ROOT::VecOps::RVec<Int_t>               Dataset\n",
       "TkMu_d0                 ROOT::VecOps::RVec<Float_t>             Dataset\n",
       "TkMu_eta                ROOT::VecOps::RVec<Float_t>             Dataset\n",
       "TkMu_hwCharge           ROOT::VecOps::RVec<Int_t>               Dataset\n",
       "TkMu_hwD0               ROOT::VecOps::RVec<Int_t>               Dataset\n",
       "TkMu_hwEta              ROOT::VecOps::RVec<Int_t>               Dataset\n",
       "TkMu_hwIsoSum           ROOT::VecOps::RVec<Int_t>               Dataset\n",
       "TkMu_hwIsoSumAp         ROOT::VecOps::RVec<Int_t>               Dataset\n",
       "TkMu_hwPhi              ROOT::VecOps::RVec<Int_t>               Dataset\n",
       "TkMu_hwPt               ROOT::VecOps::RVec<Int_t>               Dataset\n",
       "TkMu_hwQual             ROOT::VecOps::RVec<Int_t>               Dataset\n",
       "TkMu_hwZ0               ROOT::VecOps::RVec<Int_t>               Dataset\n",
       "TkMu_mass               ROOT::VecOps::RVec<Float_t>             Dataset\n",
       "TkMu_phi                ROOT::VecOps::RVec<Float_t>             Dataset\n",
       "TkMu_pt                 ROOT::VecOps::RVec<Float_t>             Dataset\n",
       "TkMu_quality            ROOT::VecOps::RVec<Int_t>               Dataset\n",
       "TkMu_vz                 ROOT::VecOps::RVec<Float_t>             Dataset\n",
       "bunchCrossing           UInt_t                                  Dataset\n",
       "event                   ULong64_t                               Dataset\n",
       "luminosityBlock         UInt_t                                  Dataset\n",
       "nGenDiMu                unsigned long                           Define\n",
       "nGenMu                  UInt_t                                  Dataset\n",
       "nTkMu                   UInt_t                                  Dataset\n",
       "run                     UInt_t                                  Dataset"
      ]
     },
     "execution_count": 7,
     "metadata": {},
     "output_type": "execute_result"
    }
   ],
   "source": [
    "## Now select pairs of muons baesed on some conditions\n",
    "def select_ind(name, rdf):\n",
    "    \n",
    "    #Let us impose a selection criteria here\n",
    "    #rdf = rdf.Define(f\"{name}DiMu_selind\",f\"{name}DiMu_indices\")\n",
    "    rdf = rdf.Define(f\"{name}DiMu_good\", f\"{name}DiMu_charge<0.1 && {name}DiMu_charge>-0.1\")\n",
    "    rdf = rdf.Define(f\"Good{name}DiMu_indices\", f\"{name}DiMu_indices[{name}DiMu_good]\")\n",
    "    rdf = rdf.Filter(f\"Sum({name}DiMu_good)  >= 1\")\n",
    "    \n",
    "    return rdf;\n",
    "rdf_gendisel = select_ind(\"Gen\", rdf_gendimu)\n",
    "rdf_gendisel.Describe()\n"
   ]
  },
  {
   "cell_type": "code",
   "execution_count": 8,
   "id": "0b29d575",
   "metadata": {},
   "outputs": [
    {
     "name": "stdout",
     "output_type": "stream",
     "text": [
      "Processed 400000 entries.\n"
     ]
    },
    {
     "name": "stderr",
     "output_type": "stream",
     "text": [
      "Warning in <TCanvas::Constructor>: Deleting canvas with same name: c1\n"
     ]
    },
    {
     "data": {
      "image/png": "[encoded data removed]",
      "text/plain": [
       "<IPython.core.display.Image object>"
      ]
     },
     "metadata": {},
     "output_type": "display_data"
    }
   ],
   "source": [
    "def select_feat(name, rdf):\n",
    "   \n",
    "    rdf = rdf.Define(f\"n{name}DiMu_sel\", f\"Good{name}DiMu_indices.size()\")\n",
    "    ## compute the mass, charge\n",
    "    rdf = rdf.Define(f\"{name}DiMu_selMass\", f\"\"\"\n",
    "        ROOT::RVecF ret; \n",
    "        for (const auto & pair : Good{name}DiMu_indices) \n",
    "            ret.emplace_back(({name}Mu_mass[pair.first]+{name}Mu_mass[pair.second]));\n",
    "        return ret;\"\"\")\n",
    "    \n",
    "    \n",
    "    rdf = rdf.Define(f\"{name}DiMu_selCharge\", f\"\"\"\n",
    "        ROOT::RVecI ret; \n",
    "        for (const auto & pair : Good{name}DiMu_indices) \n",
    "            ret.emplace_back({name}Mu_charge[pair.first]+{name}Mu_charge[pair.second]);\n",
    "        return ret;\"\"\")\n",
    "    return rdf;\n",
    "rdf_selFeat = select_feat(\"Gen\",rdf_gendisel)\n",
    "hNGoodGenPairs = rdf_selFeat.Histo1D((\"good nGenDiMu_sel\",\"Good N(#mu#mu)_{gen};N(#mu#mu)_{gen};Events\",7,-2.5,10), \"nGenDiMu_sel\")\n",
    "hGoodGenPairMass = rdf_selFeat.Histo1D((\"Good Gen Mass\",\"Good m(#mu#mu)_{gen};m (GeV);Pairs\",7,-5,5), \"GenDiMu_selMass\")\n",
    "hGoodGenPairCharge = rdf_selFeat.Histo1D((\"Good Gen Charge\",\"Good q(#mu#mu)_{gen};q(#mu_{1}) + q(#mu_{2});Pairs\",7,-3.5,3.5), \"GenDiMu_selCharge\")\n",
    "entries = rdf_gendimu.Count().GetValue()\n",
    "print(f\"Processed {entries} entries.\")\n",
    "#rdf_selFeat.Describe()\n",
    "#entries = rdf_selFeat.Count().GetValue()\n",
    "\n",
    "c1 = ROOT.TCanvas(\"c1\",\"c1\", 1500, 400)\n",
    "c1.Divide(3,1)\n",
    "for i, h in enumerate([hNGoodGenPairs,hGoodGenPairMass,hGoodGenPairCharge]):\n",
    "    c1.cd(i+1)\n",
    "    h.Draw()\n",
    "c1.Draw()"
   ]
  },
  {
   "cell_type": "code",
   "execution_count": 10,
   "id": "667b3cb0",
   "metadata": {},
   "outputs": [
    {
     "data": {
      "text/plain": [
       "Dataframe from TChain Events in file /eos/cms/store/cmst3/group/l1tr/gpetrucc/dilep-scout/l1MuNano_SingleNeutrino_PU200.125X_v0.0.root\n",
       "\n",
       "Property                Value\n",
       "--------                -----\n",
       "Columns in total           52\n",
       "Columns from defines       18\n",
       "Event loops run             2\n",
       "Processing slots            2\n",
       "\n",
       "Column                  Type                                    Origin\n",
       "------                  ----                                    ------\n",
       "GenDiMu_charge          ROOT::VecOps::RVec<int>                 Define\n",
       "GenDiMu_good            ROOT::VecOps::RVec<int>                 Define\n",
       "GenDiMu_indices         ROOT::VecOps::RVec<pair<int,int> >      Define\n",
       "GenDiMu_mass            ROOT::VecOps::RVec<float>               Define\n",
       "GenDiMu_selCharge       ROOT::VecOps::RVec<int>                 Define\n",
       "GenDiMu_selMass         ROOT::VecOps::RVec<float>               Define\n",
       "GenMu_charge            ROOT::VecOps::RVec<Int_t>               Dataset\n",
       "GenMu_d0                ROOT::VecOps::RVec<Float_t>             Dataset\n",
       "GenMu_eta               ROOT::VecOps::RVec<Float_t>             Dataset\n",
       "GenMu_isFromTau         ROOT::VecOps::RVec<Int_t>               Dataset\n",
       "GenMu_isPrompt          ROOT::VecOps::RVec<Int_t>               Dataset\n",
       "GenMu_mass              ROOT::VecOps::RVec<Float_t>             Dataset\n",
       "GenMu_phi               ROOT::VecOps::RVec<Float_t>             Dataset\n",
       "GenMu_pt                ROOT::VecOps::RVec<Float_t>             Dataset\n",
       "GenMu_vz                ROOT::VecOps::RVec<Float_t>             Dataset\n",
       "GoodGenDiMu_indices     ROOT::VecOps::RVec<pair<int,int> >      Define\n",
       "GoodTkDiMu_indices      ROOT::VecOps::RVec<pair<int,int> >      Define\n",
       "TkDiMu_charge           ROOT::VecOps::RVec<int>                 Define\n",
       "TkDiMu_good             ROOT::VecOps::RVec<int>                 Define\n",
       "TkDiMu_indices          ROOT::VecOps::RVec<pair<int,int> >      Define\n",
       "TkDiMu_mass             ROOT::VecOps::RVec<float>               Define\n",
       "TkDiMu_selCharge        ROOT::VecOps::RVec<int>                 Define\n",
       "TkDiMu_selMass          ROOT::VecOps::RVec<float>               Define\n",
       "TkMu_GenMuFlav          ROOT::VecOps::RVec<UChar_t>             Dataset\n",
       "TkMu_GenMuIdx           ROOT::VecOps::RVec<Int_t>               Dataset\n",
       "TkMu_charge             ROOT::VecOps::RVec<Int_t>               Dataset\n",
       "TkMu_d0                 ROOT::VecOps::RVec<Float_t>             Dataset\n",
       "TkMu_eta                ROOT::VecOps::RVec<Float_t>             Dataset\n",
       "TkMu_hwCharge           ROOT::VecOps::RVec<Int_t>               Dataset\n",
       "TkMu_hwD0               ROOT::VecOps::RVec<Int_t>               Dataset\n",
       "TkMu_hwEta              ROOT::VecOps::RVec<Int_t>               Dataset\n",
       "TkMu_hwIsoSum           ROOT::VecOps::RVec<Int_t>               Dataset\n",
       "TkMu_hwIsoSumAp         ROOT::VecOps::RVec<Int_t>               Dataset\n",
       "TkMu_hwPhi              ROOT::VecOps::RVec<Int_t>               Dataset\n",
       "TkMu_hwPt               ROOT::VecOps::RVec<Int_t>               Dataset\n",
       "TkMu_hwQual             ROOT::VecOps::RVec<Int_t>               Dataset\n",
       "TkMu_hwZ0               ROOT::VecOps::RVec<Int_t>               Dataset\n",
       "TkMu_mass               ROOT::VecOps::RVec<Float_t>             Dataset\n",
       "TkMu_phi                ROOT::VecOps::RVec<Float_t>             Dataset\n",
       "TkMu_pt                 ROOT::VecOps::RVec<Float_t>             Dataset\n",
       "TkMu_quality            ROOT::VecOps::RVec<Int_t>               Dataset\n",
       "TkMu_vz                 ROOT::VecOps::RVec<Float_t>             Dataset\n",
       "bunchCrossing           UInt_t                                  Dataset\n",
       "event                   ULong64_t                               Dataset\n",
       "luminosityBlock         UInt_t                                  Dataset\n",
       "nGenDiMu                unsigned long                           Define\n",
       "nGenDiMu_sel            unsigned long                           Define\n",
       "nGenMu                  UInt_t                                  Dataset\n",
       "nTkDiMu                 unsigned long                           Define\n",
       "nTkDiMu_sel             unsigned long                           Define\n",
       "nTkMu                   UInt_t                                  Dataset\n",
       "run                     UInt_t                                  Dataset"
      ]
     },
     "execution_count": 10,
     "metadata": {},
     "output_type": "execute_result"
    }
   ],
   "source": [
    "rdf_TkDiMu = makeDimuonPairs(\"Tk\",rdf_selFeat)\n",
    "rdf_select_Tk = select_ind(\"Tk\",rdf_TkDiMu)\n",
    "rdf_Tk_selFeat = select_feat(\"Tk\",rdf_select_Tk)\n",
    "rdf_Tk_selFeat.Describe()"
   ]
  },
  {
   "cell_type": "code",
   "execution_count": 15,
   "id": "94971825",
   "metadata": {},
   "outputs": [
    {
     "name": "stdout",
     "output_type": "stream",
     "text": [
      "Processed 62 entries.\n"
     ]
    },
    {
     "name": "stderr",
     "output_type": "stream",
     "text": [
      "Warning in <TCanvas::Constructor>: Deleting canvas with same name: c1\n"
     ]
    },
    {
     "data": {
      "image/png": "[encoded data removed]",
      "text/plain": [
       "<IPython.core.display.Image object>"
      ]
     },
     "metadata": {},
     "output_type": "display_data"
    }
   ],
   "source": [
    "hNGoodTkPairs = rdf_Tk_selFeat.Histo1D((\"good nTk_DiMu_sel\",\"Good N(#mu#mu)_{Tk};N(#mu#mu)_{gen};Events\",7,-2.5,10), \"nTkDiMu_sel\")\n",
    "hGoodTkPairMass = rdf_Tk_selFeat.Histo1D((\"Good Tk_Mass\",\"Good m(#mu#mu)_{Tk};m (GeV);Pairs\",7,-5,5), \"TkDiMu_selMass\")\n",
    "hGoodTkPairCharge = rdf_Tk_selFeat.Histo1D((\"Good Tk_Charge\",\"Good q(#mu#mu)_{Tk};q(#mu_{1}) + q(#mu_{2});Pairs\",7,-3.5,3.5), \"TkDiMu_selCharge\")\n",
    "entries = rdf_Tk_selFeat.Count().GetValue()\n",
    "print(f\"Processed {entries} entries.\")\n",
    "#rdf_selFeat.Describe()\n",
    "#entries = rdf_selFeat.Count().GetValue()\n",
    "\n",
    "c1 = ROOT.TCanvas(\"c1\",\"c1\", 1500, 400)\n",
    "c1.Divide(3,1)\n",
    "for i, h in enumerate([hNGoodTkPairs,hGoodTkPairMass,hGoodTkPairCharge]):\n",
    "    c1.cd(i+1)\n",
    "    h.Draw()\n",
    "c1.Draw()"
   ]
  },
  {
   "cell_type": "code",
   "execution_count": null,
   "id": "7f992cdb",
   "metadata": {},
   "outputs": [],
   "source": []
  }
 ],
 "metadata": {
  "@webio": {
   "lastCommId": null,
   "lastKernelId": null
  },
  "kernelspec": {
   "display_name": "Python 3",
   "language": "python",
   "name": "python3"
  },
  "language_info": {
   "codemirror_mode": {
    "name": "ipython",
    "version": 3
   },
   "file_extension": ".py",
   "mimetype": "text/x-python",
   "name": "python",
   "nbconvert_exporter": "python",
   "pygments_lexer": "ipython3",
   "version": "3.9.12"
  }
 },
 "nbformat": 4,
 "nbformat_minor": 5
}
