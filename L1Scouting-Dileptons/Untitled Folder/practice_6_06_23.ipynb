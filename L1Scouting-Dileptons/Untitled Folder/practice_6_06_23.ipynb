{
 "cells": [
  {
   "cell_type": "code",
   "execution_count": 1,
   "id": "5724157a",
   "metadata": {},
   "outputs": [
    {
     "name": "stdout",
     "output_type": "stream",
     "text": [
      "Welcome to JupyROOT 6.28/00\n"
     ]
    }
   ],
   "source": [
    "import ROOT, os, sys, glob\n",
    "from math import *\n",
    "ROOT.EnableImplicitMT(4); #implicit multi threading is used to introduce parallelicity of running the program"
   ]
  },
  {
   "cell_type": "code",
   "execution_count": 2,
   "id": "8e8d1038",
   "metadata": {},
   "outputs": [
    {
     "data": {
      "text/plain": [
       "['/eos/cms/store/cmst3/group/l1tr/gpetrucc/dilep-scout/l1MuNano_BsToMuMu_PU200.125X_v0.0.root',\n",
       " '/eos/cms/store/cmst3/group/l1tr/gpetrucc/dilep-scout/l1MuNano_DYToLL_M-10To50_PU200.125X_v0.0.root',\n",
       " '/eos/cms/store/cmst3/group/l1tr/gpetrucc/dilep-scout/l1MuNano_DYToLL_M-1To10_TuneCP5_14TeV-pythia8_PU200.125X_v0.0.root',\n",
       " '/eos/cms/store/cmst3/group/l1tr/gpetrucc/dilep-scout/l1MuNano_DYToLL_M-50_PU200.125X_v0.0.root',\n",
       " '/eos/cms/store/cmst3/group/l1tr/gpetrucc/dilep-scout/l1MuNano_HAHM_ZdToMuMu_M15_PU200.125X_v0.0.root',\n",
       " '/eos/cms/store/cmst3/group/l1tr/gpetrucc/dilep-scout/l1MuNano_HAHM_ZdToMuMu_M2_PU200.125X_v0.0.root',\n",
       " '/eos/cms/store/cmst3/group/l1tr/gpetrucc/dilep-scout/l1MuNano_HAHM_ZdToMuMu_M5_PU200.125X_v0.0.root',\n",
       " '/eos/cms/store/cmst3/group/l1tr/gpetrucc/dilep-scout/l1MuNano_JPsiToMuMu_PU200.125X_v0.0.root',\n",
       " '/eos/cms/store/cmst3/group/l1tr/gpetrucc/dilep-scout/l1MuNano_SingleNeutrino_PU200.125X_v0.0.root']"
      ]
     },
     "execution_count": 2,
     "metadata": {},
     "output_type": "execute_result"
    }
   ],
   "source": [
    "list(glob.glob(\"/eos/cms/store/cmst3/group/l1tr/gpetrucc/dilep-scout/*125X_v0.0.root\"))"
   ]
  },
  {
   "cell_type": "code",
   "execution_count": 3,
   "id": "c8b0cd46",
   "metadata": {},
   "outputs": [
    {
     "data": {
      "text/plain": [
       "['/eos/cms/store/cmst3/group/l1tr/gpetrucc/dilep-scout/l1MuNano_HAHM_ZdToMuMu_M15_PU200.125X_v0.0.root']"
      ]
     },
     "execution_count": 3,
     "metadata": {},
     "output_type": "execute_result"
    }
   ],
   "source": [
    "list(glob.glob(\"/eos/cms/store/cmst3/group/l1tr/gpetrucc/dilep-scout/l1MuNano_HAHM_ZdToMuMu_M15_PU200.125X_v0.0.root\")) #this line is useless"
   ]
  },
  {
   "cell_type": "code",
   "execution_count": 4,
   "id": "84623ebc",
   "metadata": {},
   "outputs": [],
   "source": [
    "rdf = ROOT.RDataFrame(\"Events\", \"/eos/cms/store/cmst3/group/l1tr/gpetrucc/dilep-scout/l1MuNano_HAHM_ZdToMuMu_M15_PU200.125X_v0.0.root\")\n",
    "#in this we are taking the events of only \"l1MuNano_HAHM_ZdToMuMu_M15_PU200\", ask about this"
   ]
  },
  {
   "cell_type": "code",
   "execution_count": 5,
   "id": "0a2dd8b7",
   "metadata": {},
   "outputs": [
    {
     "data": {
      "text/plain": [
       "Dataframe from TChain Events in file /eos/cms/store/cmst3/group/l1tr/gpetrucc/dilep-scout/l1MuNano_HAHM_ZdToMuMu_M15_PU200.125X_v0.0.root\n",
       "\n",
       "Property                Value\n",
       "--------                -----\n",
       "Columns in total           34\n",
       "Columns from defines        0\n",
       "Event loops run             0\n",
       "Processing slots            4\n",
       "\n",
       "Column          Type                            Origin\n",
       "------          ----                            ------\n",
       "GenMu_charge    ROOT::VecOps::RVec<Int_t>       Dataset\n",
       "GenMu_d0        ROOT::VecOps::RVec<Float_t>     Dataset\n",
       "GenMu_eta       ROOT::VecOps::RVec<Float_t>     Dataset\n",
       "GenMu_isFromTau ROOT::VecOps::RVec<Int_t>       Dataset\n",
       "GenMu_isPrompt  ROOT::VecOps::RVec<Int_t>       Dataset\n",
       "GenMu_mass      ROOT::VecOps::RVec<Float_t>     Dataset\n",
       "GenMu_phi       ROOT::VecOps::RVec<Float_t>     Dataset\n",
       "GenMu_pt        ROOT::VecOps::RVec<Float_t>     Dataset\n",
       "GenMu_vz        ROOT::VecOps::RVec<Float_t>     Dataset\n",
       "TkMu_GenMuFlav  ROOT::VecOps::RVec<UChar_t>     Dataset\n",
       "TkMu_GenMuIdx   ROOT::VecOps::RVec<Int_t>       Dataset\n",
       "TkMu_charge     ROOT::VecOps::RVec<Int_t>       Dataset\n",
       "TkMu_d0         ROOT::VecOps::RVec<Float_t>     Dataset\n",
       "TkMu_eta        ROOT::VecOps::RVec<Float_t>     Dataset\n",
       "TkMu_hwCharge   ROOT::VecOps::RVec<Int_t>       Dataset\n",
       "TkMu_hwD0       ROOT::VecOps::RVec<Int_t>       Dataset\n",
       "TkMu_hwEta      ROOT::VecOps::RVec<Int_t>       Dataset\n",
       "TkMu_hwIsoSum   ROOT::VecOps::RVec<Int_t>       Dataset\n",
       "TkMu_hwIsoSumAp ROOT::VecOps::RVec<Int_t>       Dataset\n",
       "TkMu_hwPhi      ROOT::VecOps::RVec<Int_t>       Dataset\n",
       "TkMu_hwPt       ROOT::VecOps::RVec<Int_t>       Dataset\n",
       "TkMu_hwQual     ROOT::VecOps::RVec<Int_t>       Dataset\n",
       "TkMu_hwZ0       ROOT::VecOps::RVec<Int_t>       Dataset\n",
       "TkMu_mass       ROOT::VecOps::RVec<Float_t>     Dataset\n",
       "TkMu_phi        ROOT::VecOps::RVec<Float_t>     Dataset\n",
       "TkMu_pt         ROOT::VecOps::RVec<Float_t>     Dataset\n",
       "TkMu_quality    ROOT::VecOps::RVec<Int_t>       Dataset\n",
       "TkMu_vz         ROOT::VecOps::RVec<Float_t>     Dataset\n",
       "bunchCrossing   UInt_t                          Dataset\n",
       "event           ULong64_t                       Dataset\n",
       "luminosityBlock UInt_t                          Dataset\n",
       "nGenMu          UInt_t                          Dataset\n",
       "nTkMu           UInt_t                          Dataset\n",
       "run             UInt_t                          Dataset"
      ]
     },
     "execution_count": 5,
     "metadata": {},
     "output_type": "execute_result"
    },
    {
     "name": "stderr",
     "output_type": "stream",
     "text": [
      "Warning in <TClass::Init>: no dictionary for class edm::Hash<1> is available\n",
      "Warning in <TClass::Init>: no dictionary for class edm::ProcessHistory is available\n",
      "Warning in <TClass::Init>: no dictionary for class edm::ProcessConfiguration is available\n",
      "Warning in <TClass::Init>: no dictionary for class edm::ParameterSetBlob is available\n",
      "Warning in <TClass::Init>: no dictionary for class pair<edm::Hash<1>,edm::ParameterSetBlob> is available\n"
     ]
    }
   ],
   "source": [
    "rdf.Describe()#this fucntion is used to list out the elements in rdf"
   ]
  },
  {
   "cell_type": "code",
   "execution_count": 6,
   "id": "58730fc6",
   "metadata": {},
   "outputs": [
    {
     "name": "stdout",
     "output_type": "stream",
     "text": [
      "Processed 10000 entries.\n"
     ]
    },
    {
     "data": {
      "image/png": "[encoded data removed]",
      "text/plain": [
       "<IPython.core.display.Image object>"
      ]
     },
     "metadata": {},
     "output_type": "display_data"
    }
   ],
   "source": [
    "#\"https://root.cern.ch/doc/master/group__tutorial__dataframe.html\"  refer to this for more details about the dataframe histo1D\n",
    "## Now we make a plot of the number of generated muons and the ones reconstructed by L1T\n",
    "\n",
    "hNGen = rdf.Histo1D((\"nGenMu\",\"N(#mu)_{gen}\",7,-0.5,6.5), \"nGenMu\")\n",
    "# rdf.Histo1D((\"<for the std>\",\"<title of the graph>\",7,-0.5,6.5), \"<dataset which is plotted, this is a column  in the rdf>\")\n",
    "\n",
    "hNL1 = rdf.Histo1D((\"nL1Mu\",\"N(#mu)_{L1}\",7,-0.5,6.5), \"nTkMu\")\n",
    "entries = rdf.Count().GetValue()\n",
    "print(f\"Processed {entries} entries.\")\n",
    "\n",
    "##what us nGenmu and nTkmu\n",
    "\n",
    "## And plot it\n",
    "c1 = ROOT.TCanvas(\"c1\",\"c1\", 1200, 400)\n",
    "c1.Divide(2,1) #divides the page into two columns for diplay\n",
    "c1.cd(1)\n",
    "hNGen.Draw()\n",
    "c1.cd(2)\n",
    "hNL1.Draw()\n",
    "c1.Draw()"
   ]
  },
  {
   "cell_type": "code",
   "execution_count": 7,
   "id": "dddc01d8",
   "metadata": {},
   "outputs": [
    {
     "name": "stdout",
     "output_type": "stream",
     "text": [
      "Processed 10000 entries.\n"
     ]
    },
    {
     "name": "stderr",
     "output_type": "stream",
     "text": [
      "Warning in <TCanvas::Constructor>: Deleting canvas with same name: c1\n"
     ]
    },
    {
     "data": {
      "image/png": "[encoded data removed]",
      "text/plain": [
       "<IPython.core.display.Image object>"
      ]
     },
     "metadata": {},
     "output_type": "display_data"
    }
   ],
   "source": [
    "hGenMu_charge = rdf.Histo1D((\"GenMu_charge\",\"Charge(#mu)_{gen}\",100,-1.5,1.5),\"GenMu_charge\")\n",
    "entries_1 = rdf.Count().GetValue()\n",
    "print(f\"Processed {entries_1} entries.\")\n",
    "\n",
    "#some things about the genMu charge- each entry /event recorded produced on an average 1.992 muons as inferred from the graph above. 1.992 x 10000 is the total number of entries plotted in the histogram.\n",
    "\n",
    "\n",
    "\n",
    "\n",
    "c1= ROOT.TCanvas(\"c1\",\"c1\",1200,400)\n",
    "c1.Divide(2,1) \n",
    "c1.cd(1)\n",
    "hGenMu_charge.Draw()\n",
    "c1.Draw()\n"
   ]
  },
  {
   "cell_type": "code",
   "execution_count": 8,
   "id": "7073157c",
   "metadata": {},
   "outputs": [
    {
     "ename": "TypeError",
     "evalue": "Template method resolution failed:\n  none of the 3 overloaded methods succeeded. Full details:\n  ROOT::RDF::RResultPtr<ROOT::RDF::RDisplay> ROOT::RDF::RInterface<ROOT::Detail::RDF::RLoopManager,void>::Display(initializer_list<string> columnList, unsigned long nRows = 5, unsigned long nMaxCollectionElements = 10) =>\n    TypeError: could not convert argument 1\n  ROOT::RDF::RResultPtr<ROOT::RDF::RDisplay> ROOT::RDF::RInterface<ROOT::Detail::RDF::RLoopManager,void>::Display(const vector<string>& columnList, unsigned long nRows = 5, unsigned long nMaxCollectionElements = 10) =>\n    runtime_error: Display was called with ImplicitMT enabled, but multi-thread is not supported.\n  ROOT::RDF::RResultPtr<ROOT::RDF::RDisplay> ROOT::RDF::RInterface<ROOT::Detail::RDF::RLoopManager,void>::Display(basic_string_view<char,char_traits<char> > columnNameRegexp = \"\", unsigned long nRows = 5, unsigned long nMaxCollectionElements = 10) =>\n    TypeError: could not convert argument 1\n  ROOT::RDF::RResultPtr<ROOT::RDF::RDisplay> ROOT::RDF::RInterface<ROOT::Detail::RDF::RLoopManager,void>::Display(initializer_list<string> columnList, unsigned long nRows = 5, unsigned long nMaxCollectionElements = 10) =>\n    TypeError: could not convert argument 1",
     "output_type": "error",
     "traceback": [
      "\u001b[0;31m---------------------------------------------------------------------------\u001b[0m",
      "\u001b[0;31mTypeError\u001b[0m                                 Traceback (most recent call last)",
      "\u001b[0;32m/tmp/ipykernel_23424/2334092426.py\u001b[0m in \u001b[0;36m<module>\u001b[0;34m\u001b[0m\n\u001b[0;32m----> 1\u001b[0;31m \u001b[0mrdf\u001b[0m\u001b[0;34m.\u001b[0m\u001b[0mDisplay\u001b[0m\u001b[0;34m(\u001b[0m\u001b[0;34m[\u001b[0m\u001b[0;34m\"GenMu_charge\"\u001b[0m\u001b[0;34m]\u001b[0m\u001b[0;34m,\u001b[0m\u001b[0;36m100\u001b[0m\u001b[0;34m)\u001b[0m\u001b[0;34m.\u001b[0m\u001b[0mPrint\u001b[0m\u001b[0;34m(\u001b[0m\u001b[0;34m)\u001b[0m \u001b[0;31m#this is to display the dataset. this cannot happein wiht the implicitMT on\u001b[0m\u001b[0;34m\u001b[0m\u001b[0;34m\u001b[0m\u001b[0m\n\u001b[0m",
      "\u001b[0;31mTypeError\u001b[0m: Template method resolution failed:\n  none of the 3 overloaded methods succeeded. Full details:\n  ROOT::RDF::RResultPtr<ROOT::RDF::RDisplay> ROOT::RDF::RInterface<ROOT::Detail::RDF::RLoopManager,void>::Display(initializer_list<string> columnList, unsigned long nRows = 5, unsigned long nMaxCollectionElements = 10) =>\n    TypeError: could not convert argument 1\n  ROOT::RDF::RResultPtr<ROOT::RDF::RDisplay> ROOT::RDF::RInterface<ROOT::Detail::RDF::RLoopManager,void>::Display(const vector<string>& columnList, unsigned long nRows = 5, unsigned long nMaxCollectionElements = 10) =>\n    runtime_error: Display was called with ImplicitMT enabled, but multi-thread is not supported.\n  ROOT::RDF::RResultPtr<ROOT::RDF::RDisplay> ROOT::RDF::RInterface<ROOT::Detail::RDF::RLoopManager,void>::Display(basic_string_view<char,char_traits<char> > columnNameRegexp = \"\", unsigned long nRows = 5, unsigned long nMaxCollectionElements = 10) =>\n    TypeError: could not convert argument 1\n  ROOT::RDF::RResultPtr<ROOT::RDF::RDisplay> ROOT::RDF::RInterface<ROOT::Detail::RDF::RLoopManager,void>::Display(initializer_list<string> columnList, unsigned long nRows = 5, unsigned long nMaxCollectionElements = 10) =>\n    TypeError: could not convert argument 1"
     ]
    }
   ],
   "source": [
    "rdf.Display([\"GenMu_charge\"],100).Print() #this is to display the dataset. this cannot happein wiht the implicitMT on"
   ]
  },
  {
   "cell_type": "code",
   "execution_count": null,
   "id": "a1f1fa9a",
   "metadata": {},
   "outputs": [],
   "source": [
    "# # Now we make pairs of muons\n",
    "# ## This needs a bit of inlined C++ code\n",
    "# def makeDimuonPairs(name, rdf):\n",
    "#     ## define 4-vectors in cartesian coordinates, for easier \n",
    "#     rdf = rdf.Define(f\"{name}Mu_p4\", f\"ROOT::VecOps::Construct<ROOT::Math::XYZTVector>(ROOT::VecOps::Construct<ROOT::Math::PtEtaPhiMVector>({name}Mu_pt,{name}Mu_eta,{name}Mu_phi,{name}Mu_mass))\")\n",
    "#     #rdf = rdf.Define(f\"{name}Mu_p4\", f\"(ROOT::VecOps::Construct<ROOT::Math::PtEtaPhiMVector>({name}Mu_pt,{name}Mu_eta,{name}Mu_phi,{name}Mu_mass))\") this is just he above line bu the conversion of cylindircal co-ordinates to carteshian coordinates hasnt been done and this significantly slows dowon the processing\n",
    "\n",
    "#     ## make indices of all the pairs\n",
    "#     rdf = rdf.Define(f\"{name}DiMu_indices\", f\"\"\"\n",
    "#         std::vector<std::pair<int,int>> ret; \n",
    "#         for (int i = 0, n = n{name}Mu; i < n; ++i) \n",
    "#             for (int i2 = i+1; i2 < n; ++i2) \n",
    "#             if()\n",
    "#                 ret.emplace_back(i,i2); \n",
    "#         return ret;\"\"\") \n",
    "\n",
    "#     #emplace is used to append a avlue into a set in C++\n",
    "#     # std::vector<std::pair<int,int>> ret;  std is used to define a set in C++\n",
    "    \n",
    "    \n",
    "    \n",
    "#     ## Make the number of dimuons, for convenience later\n",
    "#     rdf = rdf.Define(f\"n{name}DiMu\", f\"{name}DiMu_indices.size()\")\n",
    "#     ## compute the mass, charge\n",
    "#     rdf = rdf.Define(f\"{name}DiMu_mass\", f\"\"\"\n",
    "#         ROOT::RVecF ret; \n",
    "#         for (const auto & pair : {name}DiMu_indices) \n",
    "#             ret.emplace_back(({name}Mu_p4[pair.first]+{name}Mu_p4[pair.second]).M());\n",
    "#         return ret;\"\"\")\n",
    "#     rdf = rdf.Define(f\"{name}DiMu_charge\", f\"\"\"\n",
    "#         ROOT::RVecI ret; \n",
    "#         for (const auto & pair : {name}DiMu_indices) \n",
    "#             ret.emplace_back({name}Mu_charge[pair.first]+{name}Mu_charge[pair.second]);\n",
    "#         return ret;\"\"\")\n",
    "#     ## compute pt \n",
    "#     rdf= rdf.Define(f\"{name}DiMu_pt\",f\"\"\"ROOT::RVecF ret;\n",
    "#     for (const auto & pair : {name}DiMu_indices) \n",
    "#         ret.emplace_back({name}Mu_pt[pair.first]+{name}Mu_pt[pair.second]);\n",
    "#     return ret;\"\"\")\n",
    "#     return rdf; #RVecF impies to create a root vector of float type\n",
    "\n",
    "# #what does for(const auto&pair mean)\n",
    "\n",
    "# rdf_gendimu = makeDimuonPairs(\"Gen\", rdf)\n",
    "\n",
    "\n",
    "# ## Now we make a plot of the number of generated muons and the ones reconstructed by L1T\n",
    "# hNGenPairs = rdf_gendimu.Histo1D((\"nGenDiMu\",\"N(#mu#mu)_{gen};N(#mu#mu)_{gen};Events\",7,-0.5,6.5), \"nGenDiMu\")\n",
    "# hGenPairMass = rdf_gendimu.Histo1D((\"GenMass\",\"m(#mu#mu)_{gen};m (GeV);Pairs\",100,0.0,20.0), \"GenDiMu_mass\")\n",
    "# hGenPairCharge = rdf_gendimu.Histo1D((\"GenCharge\",\"q(#mu#mu)_{gen};q(#mu_{1}) + q(#mu_{2});Pairs\",7,-3.5,3.5), \"GenDiMu_charge\")\n",
    "# hGenPairPt = rdf_gendimu.Histo1D((\"GenPt\",\"p_{T}(#mu#mu)_{gen};p_{T}(GeV);Pairs\",100,-10,60),\"GenDiMu_pt\")\n",
    "# entries = rdf_gendimu.Count().GetValue()\n",
    "# print(f\"Processed {entries} entries.\")\n",
    "# ## And plot it\n",
    "# c2 = ROOT.TCanvas(\"c2\",\"c2\", 1500, 400)\n",
    "# c2.Divide(4,1)\n",
    "# for i, h in enumerate([hNGenPairs,hGenPairMass,hGenPairCharge,hGenPairPt]):\n",
    "#     c2.cd(i+1)\n",
    "#     h.Draw()\n",
    "# c2.Draw()"
   ]
  },
  {
   "cell_type": "code",
   "execution_count": null,
   "id": "0521e386",
   "metadata": {},
   "outputs": [],
   "source": [
    "# #let us do the same for L1 reconstructed muon pairs\n",
    "# rdf_tkdimu = makeDimuonPairs(\"Tk\", rdf_gendimu)\n",
    "\n",
    "\n",
    "# ## Now we make a plot of the number of generated muons and the ones reconstructed by L1T\n",
    "# hNtkPairs = rdf_tkdimu.Histo1D((\"nTkDiMu\",\"N(#mu#mu)_{gen};N(#mu#mu)_{gen};Events\",7,-0.5,6.5), \"nTkDiMu\")\n",
    "# htkPairMass = rdf_tkdimu.Histo1D((\"TkMass\",\"m(#mu#mu)_{gen};m (GeV);Pairs\",100,0.0,20.0), \"TkDiMu_mass\")\n",
    "# htkPairCharge = rdf_tkdimu.Histo1D((\"TkCharge\",\"q(#mu#mu)_{gen};q(#mu_{1}) + q(#mu_{2});Pairs\",7,-3.5,3.5), \"TkDiMu_charge\")\n",
    "# htkPairPt = rdf_tkdimu.Histo1D((\"TkPt\",\"p_{T}(#mu#mu)_{gen};p_{T}(GeV);Pairs\",100,-10,60),\"TkDiMu_pt\")\n",
    "# entries = rdf_tkdimu.Count().GetValue()\n",
    "# print(f\"Processed {entries} entries.\")\n",
    "# ## And plot it\n",
    "# c2 = ROOT.TCanvas(\"c2\",\"c2\", 1500, 400)\n",
    "# c2.Divide(4,1)\n",
    "# for i, h in enumerate([hNtkPairs,htkPairMass,htkPairCharge,htkPairPt]):\n",
    "#     c2.cd(i+1)\n",
    "#     h.Draw()\n",
    "# c2.Draw()\n"
   ]
  },
  {
   "cell_type": "code",
   "execution_count": null,
   "id": "fd434b35",
   "metadata": {},
   "outputs": [],
   "source": [
    "# def dimuonextra(name,rdf):\n",
    "#     #separation along the beamline\n",
    "#     rdf=rdf.Define(f\"{name}DiMu_dz\",f\"\"\"\n",
    "#     ROOT::RVecF ret;\n",
    "#     for(const auto & pair : {name}DiMu_indices)\n",
    "#         ret.emplace_back(({name}Mu_vz[pair.first]-{name}Mu_vz[pair.second]));\n",
    "#     return ret;\"\"\")\n",
    "#     #min pT of thw two\n",
    "#     rdf = rdf.Define(f\"{name}Mu_minPT\",f\"\"\"\n",
    "#     ROOT::RVecF ret;\n",
    "#     for(const auto & pair : {name}DiMu_indices)\n",
    "#         ret.emplace_back(std::min({name}Mu_pt[pair.first],{name}Mu_pt[pair.second]));\n",
    "#     return ret;\"\"\") #\n",
    "    \n",
    "#     return rdf;\n",
    "# rdf_tkextra = dimuonextra(\"Tk\", dimuonextra(\"Gen\", rdf_tkdimu)) #this is done to essentially include all the newly created Rdfs in the final rdf\n",
    "# hTkPair_Dz = rdf_tkextra.Histo1D((\"TkPair_dz\",\"dz(#mu#mu)_{Tk};cm\",100,-10,10),\"TkDiMu_dz\")\n",
    "# hTkPair_minPt = rdf_tkextra.Histo1D((\"TkPair_minPt\",\"min p_{T}(#mu#mu)_{Tk};GeV\",100,0,10),\"TkMu_minPT\")\n",
    "# hGenPair_Dz = rdf_tkextra.Histo1D((\"GenPair_dz\",\"dz(#mu#mu)_{Gen};cm\",100,-10,10),\"GenDiMu_dz\")\n",
    "# hGenPair_minPt = rdf_tkextra.Histo1D((\"GenPair_minPt\",\"min p_{T}(#mu#mu)_{Gen};GeV\",100,0,10),\"GenMu_minPT\")\n",
    "\n",
    "\n",
    "# entries = rdf_tkdimu.Count().GetValue()\n",
    "# print(f\"Processed {entries} entries.\")\n",
    "# ## And plot it\n",
    "# c2 = ROOT.TCanvas(\"c2\",\"c2\", 1200, 800)\n",
    "# c2.Divide(2,2)\n",
    "# for i, h in enumerate([hTkPair_Dz, hTkPair_minPt, hGenPair_Dz, hGenPair_minPt]):\n",
    "#     c2.cd(i+1)\n",
    "#     h.Draw()\n",
    "# c2.Draw()\n",
    "\n",
    "# def makeMoreDimuonVariables(name, rdf):\n",
    "#     ## compute the separation along the beam line\n",
    "#     rdf = rdf.Define(f\"{name}DiMu_dz\", f\"\"\"\n",
    "#         ROOT::RVecF ret; \n",
    "#         for (const auto & pair : {name}DiMu_indices) \n",
    "#             ret.emplace_back(({name}Mu_vz[pair.first]-{name}Mu_vz[pair.second]));\n",
    "#         return ret;\"\"\")\n",
    "#     rdf = rdf.Define(f\"{name}DiMu_minPt\", f\"\"\"\n",
    "#         ROOT::RVecF ret; \n",
    "#         for (const auto & pair : {name}DiMu_indices) \n",
    "#             ret.emplace_back(std::min({name}Mu_pt[pair.first],{name}Mu_pt[pair.second]));\n",
    "#         return ret;\"\"\")\n",
    "#     return rdf;\n",
    "\n",
    "# rdf_dimu = makeMoreDimuonVariables(\"Tk\", makeMoreDimuonVariables(\"Gen\", rdf_tkdimu))\n",
    "# ## Now we make a plot of the number of generated muons and the ones reconstructed by L1T\n",
    "# hGenPairDZ = rdf_dimu.Histo1D((\"GenDZ\",\"dz(#mu#mu)_{L1};z(#mu_{1}) - z(#mu_{2}) (cm);Pairs\",100,-10,10), \"GenDiMu_dz\")\n",
    "# hL1PairDZ = rdf_dimu.Histo1D((\"TkDZ\",\"dz(#mu#mu)_{L1};z(#mu_{1}) - z(#mu_{2}) (cm);Pairs\",100,-10,10), \"TkDiMu_dz\")\n",
    "# hGenPairMinPt = rdf_dimu.Histo1D((\"GenMinPt\",\"min p_{T} (Gen);min(p_{T}(#mu_{1}), p_{T}(#mu_{2})) (GeV);Pairs\",100,0,10), \"GenDiMu_minPt\")\n",
    "# hL1PairMinPt = rdf_dimu.Histo1D((\"TkMinPt\",\"min p_{T} (L1);min(p_{T}(#mu_{1}), p_{T}(#mu_{2})) (GeV);Pairs\",100,0,10), \"TkDiMu_minPt\")\n",
    "# entries = rdf_dimu.Count().GetValue()\n",
    "# print(f\"Processed {entries} entries.\")\n",
    "# ## And plot it\n",
    "# c1 = ROOT.TCanvas(\"c1\",\"c1\", 1200, 800)\n",
    "# c1.Divide(2,2)\n",
    "# for i, h in enumerate([hGenPairDZ,hL1PairDZ,hGenPairMinPt,hL1PairMinPt]):\n",
    "#     c1.cd(i+1)\n",
    "#     h.Draw()\n",
    "# c1.Draw()\n",
    "\n",
    "\n"
   ]
  },
  {
   "cell_type": "code",
   "execution_count": null,
   "id": "917b71dc",
   "metadata": {},
   "outputs": [],
   "source": []
  },
  {
   "cell_type": "code",
   "execution_count": null,
   "id": "a6f2241b",
   "metadata": {},
   "outputs": [],
   "source": []
  }
 ],
 "metadata": {
  "@webio": {
   "lastCommId": null,
   "lastKernelId": null
  },
  "kernelspec": {
   "display_name": "Python 3",
   "language": "python",
   "name": "python3"
  },
  "language_info": {
   "codemirror_mode": {
    "name": "ipython",
    "version": 3
   },
   "file_extension": ".py",
   "mimetype": "text/x-python",
   "name": "python",
   "nbconvert_exporter": "python",
   "pygments_lexer": "ipython3",
   "version": "3.9.12"
  }
 },
 "nbformat": 4,
 "nbformat_minor": 5
}
