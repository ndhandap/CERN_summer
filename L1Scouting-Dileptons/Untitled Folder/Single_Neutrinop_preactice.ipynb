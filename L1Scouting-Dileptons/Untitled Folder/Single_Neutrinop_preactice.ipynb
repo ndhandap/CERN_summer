{
 "cells": [
  {
   "cell_type": "code",
   "execution_count": 6,
   "id": "c533543a",
   "metadata": {},
   "outputs": [],
   "source": [
    "import ROOT, os, sys, glob\n",
    "from math import *\n",
    "ROOT.EnableImplicitMT(4); "
   ]
  },
  {
   "cell_type": "code",
   "execution_count": 7,
   "id": "dff7cb7b",
   "metadata": {},
   "outputs": [
    {
     "data": {
      "text/plain": [
       "['/eos/cms/store/cmst3/group/l1tr/gpetrucc/dilep-scout/l1MuNano_BsToMuMu_PU200.125X_v0.0.root',\n",
       " '/eos/cms/store/cmst3/group/l1tr/gpetrucc/dilep-scout/l1MuNano_DYToLL_M-10To50_PU200.125X_v0.0.root',\n",
       " '/eos/cms/store/cmst3/group/l1tr/gpetrucc/dilep-scout/l1MuNano_DYToLL_M-50_PU200.125X_v0.0.root',\n",
       " '/eos/cms/store/cmst3/group/l1tr/gpetrucc/dilep-scout/l1MuNano_HAHM_ZdToMuMu_M15_PU200.125X_v0.0.root',\n",
       " '/eos/cms/store/cmst3/group/l1tr/gpetrucc/dilep-scout/l1MuNano_HAHM_ZdToMuMu_M2_PU200.125X_v0.0.root',\n",
       " '/eos/cms/store/cmst3/group/l1tr/gpetrucc/dilep-scout/l1MuNano_HAHM_ZdToMuMu_M5_PU200.125X_v0.0.root',\n",
       " '/eos/cms/store/cmst3/group/l1tr/gpetrucc/dilep-scout/l1MuNano_JPsiToMuMu_PU200.125X_v0.0.root',\n",
       " '/eos/cms/store/cmst3/group/l1tr/gpetrucc/dilep-scout/l1MuNano_SingleNeutrino_PU200.125X_v0.0.root']"
      ]
     },
     "execution_count": 7,
     "metadata": {},
     "output_type": "execute_result"
    }
   ],
   "source": [
    "list(glob.glob(\"/eos/cms/store/cmst3/group/l1tr/gpetrucc/dilep-scout/*125X_v0.0.root\"))"
   ]
  },
  {
   "cell_type": "code",
   "execution_count": 8,
   "id": "94f54de3",
   "metadata": {},
   "outputs": [],
   "source": [
    "rdf = ROOT.RDataFrame(\"Events\",\"/eos/cms/store/cmst3/group/l1tr/gpetrucc/dilep-scout/l1MuNano_SingleNeutrino_PU200.125X_v0.0.root\")"
   ]
  },
  {
   "cell_type": "code",
   "execution_count": 4,
   "id": "82dd34ea",
   "metadata": {},
   "outputs": [
    {
     "data": {
      "text/plain": [
       "Dataframe from TChain Events in file /eos/cms/store/cmst3/group/l1tr/gpetrucc/dilep-scout/l1MuNano_SingleNeutrino_PU200.125X_v0.0.root\n",
       "\n",
       "Property                Value\n",
       "--------                -----\n",
       "Columns in total           34\n",
       "Columns from defines        0\n",
       "Event loops run             0\n",
       "Processing slots            4\n",
       "\n",
       "Column          Type                            Origin\n",
       "------          ----                            ------\n",
       "GenMu_charge    ROOT::VecOps::RVec<Int_t>       Dataset\n",
       "GenMu_d0        ROOT::VecOps::RVec<Float_t>     Dataset\n",
       "GenMu_eta       ROOT::VecOps::RVec<Float_t>     Dataset\n",
       "GenMu_isFromTau ROOT::VecOps::RVec<Int_t>       Dataset\n",
       "GenMu_isPrompt  ROOT::VecOps::RVec<Int_t>       Dataset\n",
       "GenMu_mass      ROOT::VecOps::RVec<Float_t>     Dataset\n",
       "GenMu_phi       ROOT::VecOps::RVec<Float_t>     Dataset\n",
       "GenMu_pt        ROOT::VecOps::RVec<Float_t>     Dataset\n",
       "GenMu_vz        ROOT::VecOps::RVec<Float_t>     Dataset\n",
       "TkMu_GenMuFlav  ROOT::VecOps::RVec<UChar_t>     Dataset\n",
       "TkMu_GenMuIdx   ROOT::VecOps::RVec<Int_t>       Dataset\n",
       "TkMu_charge     ROOT::VecOps::RVec<Int_t>       Dataset\n",
       "TkMu_d0         ROOT::VecOps::RVec<Float_t>     Dataset\n",
       "TkMu_eta        ROOT::VecOps::RVec<Float_t>     Dataset\n",
       "TkMu_hwCharge   ROOT::VecOps::RVec<Int_t>       Dataset\n",
       "TkMu_hwD0       ROOT::VecOps::RVec<Int_t>       Dataset\n",
       "TkMu_hwEta      ROOT::VecOps::RVec<Int_t>       Dataset\n",
       "TkMu_hwIsoSum   ROOT::VecOps::RVec<Int_t>       Dataset\n",
       "TkMu_hwIsoSumAp ROOT::VecOps::RVec<Int_t>       Dataset\n",
       "TkMu_hwPhi      ROOT::VecOps::RVec<Int_t>       Dataset\n",
       "TkMu_hwPt       ROOT::VecOps::RVec<Int_t>       Dataset\n",
       "TkMu_hwQual     ROOT::VecOps::RVec<Int_t>       Dataset\n",
       "TkMu_hwZ0       ROOT::VecOps::RVec<Int_t>       Dataset\n",
       "TkMu_mass       ROOT::VecOps::RVec<Float_t>     Dataset\n",
       "TkMu_phi        ROOT::VecOps::RVec<Float_t>     Dataset\n",
       "TkMu_pt         ROOT::VecOps::RVec<Float_t>     Dataset\n",
       "TkMu_quality    ROOT::VecOps::RVec<Int_t>       Dataset\n",
       "TkMu_vz         ROOT::VecOps::RVec<Float_t>     Dataset\n",
       "bunchCrossing   UInt_t                          Dataset\n",
       "event           ULong64_t                       Dataset\n",
       "luminosityBlock UInt_t                          Dataset\n",
       "nGenMu          UInt_t                          Dataset\n",
       "nTkMu           UInt_t                          Dataset\n",
       "run             UInt_t                          Dataset"
      ]
     },
     "execution_count": 4,
     "metadata": {},
     "output_type": "execute_result"
    },
    {
     "name": "stderr",
     "output_type": "stream",
     "text": [
      "Warning in <TClass::Init>: no dictionary for class edm::Hash<1> is available\n",
      "Warning in <TClass::Init>: no dictionary for class edm::ProcessHistory is available\n",
      "Warning in <TClass::Init>: no dictionary for class edm::ProcessConfiguration is available\n",
      "Warning in <TClass::Init>: no dictionary for class edm::ParameterSetBlob is available\n",
      "Warning in <TClass::Init>: no dictionary for class pair<edm::Hash<1>,edm::ParameterSetBlob> is available\n"
     ]
    }
   ],
   "source": [
    "rdf.Describe()"
   ]
  },
  {
   "cell_type": "code",
   "execution_count": 10,
   "id": "a772aca3",
   "metadata": {},
   "outputs": [
    {
     "name": "stdout",
     "output_type": "stream",
     "text": [
      "Processed 400000 entries.\n"
     ]
    },
    {
     "name": "stderr",
     "output_type": "stream",
     "text": [
      "Warning in <TCanvas::Constructor>: Deleting canvas with same name: c1\n"
     ]
    },
    {
     "data": {
      "image/png": "[encoded data removed]",
      "text/plain": [
       "<IPython.core.display.Image object>"
      ]
     },
     "metadata": {},
     "output_type": "display_data"
    }
   ],
   "source": [
    "hNGen = rdf.Histo1D((\"nGenMu\",\"N(#mu)_{gen}\",10,-2.5,6.5), \"nGenMu\")\n",
    "# rdf.Histo1D((\"<for the std>\",\"<title of the graph>\",10,-0.5,6.5), \"<dataset which is plotted, this is a column  in the rdf>\")\n",
    "\n",
    "hNL1 = rdf.Histo1D((\"nL1Mu\",\"N(#mu)_{L1}\",7,-2.5,6.5), \"nTkMu\")\n",
    "hGen_charge = rdf.Histo1D((\"GenMu charge\",\"q(#mu#mu)_{gen};Entries\",20,-3,3),\"GenMu_charge\")\n",
    "hL1_charge = rdf.Histo1D((\"TkMu charge\",\"q(#mu#mu)_{Tk};Entries\",20,-3,3),\"TkMu_charge\")\n",
    "entries = rdf.Count().GetValue()\n",
    "print(f\"Processed {entries} entries.\")\n",
    "\n",
    "##what us nGenmu and nTkmu\n",
    "\n",
    "## And plot it\n",
    "c1 = ROOT.TCanvas(\"c1\",\"c1\", 1200, 800)\n",
    "c1.Divide(2,2) #divides the page into two columns for diplay\n",
    "for i, h in enumerate([hNGen, hNL1, hGen_charge, hL1_charge]):\n",
    "    c1.cd(i+1)\n",
    "    h.Draw()\n",
    "c1.Draw()"
   ]
  },
  {
   "cell_type": "code",
   "execution_count": 11,
   "id": "cee82a8a",
   "metadata": {},
   "outputs": [
    {
     "name": "stdout",
     "output_type": "stream",
     "text": [
      "Processed 400000 entries.\n"
     ]
    },
    {
     "name": "stderr",
     "output_type": "stream",
     "text": [
      "Warning in <TCanvas::Constructor>: Deleting canvas with same name: c1\n"
     ]
    },
    {
     "data": {
      "image/png": "[encoded data removed]",
      "text/plain": [
       "<IPython.core.display.Image object>"
      ]
     },
     "metadata": {},
     "output_type": "display_data"
    }
   ],
   "source": [
    "## Now we make pairs of muons\n",
    "## This needs a bit of inlined C++ code\n",
    "def makeDimuonPairs(name, rdf):\n",
    "    ## define 4-vectors in cartesian coordinates, for easier \n",
    "    #rdf = rdf.Define(f\"{name}Mu_p4\", f\"ROOT::VecOps::Construct<ROOT::Math::XYZTVector>(ROOT::VecOps::Construct<ROOT::Math::PtEtaPhiMVector>({name}Mu_pt,{name}Mu_eta,{name}Mu_phi,{name}Mu_mass))\")\n",
    "    ## make indices of all the pairs\n",
    "    rdf = rdf.Define(f\"{name}DiMu_indices\", f\"\"\"\n",
    "        std::vector<std::pair<int,int>> ret; \n",
    "        for (int i = 0, n = n{name}Mu; i < n; ++i) \n",
    "            for (int i2 = i+1; i2 < n; ++i2) \n",
    "                ret.emplace_back(i,i2);\n",
    "        return ret;\"\"\")\n",
    "    ## Make the number of dimuons, for convenience later\n",
    "    rdf = rdf.Define(f\"n{name}DiMu\", f\"{name}DiMu_indices.size()\")\n",
    "    ## compute the mass, charge\n",
    "    rdf = rdf.Define(f\"{name}DiMu_mass\", f\"\"\"\n",
    "        ROOT::RVecF ret; \n",
    "        for (const auto & pair : {name}DiMu_indices) \n",
    "            ret.emplace_back(({name}Mu_mass[pair.first]+{name}Mu_mass[pair.second]));\n",
    "        return ret;\"\"\")\n",
    "    \n",
    "    \n",
    "    rdf = rdf.Define(f\"{name}DiMu_charge\", f\"\"\"\n",
    "        ROOT::RVecI ret; \n",
    "        for (const auto & pair : {name}DiMu_indices) \n",
    "            ret.emplace_back({name}Mu_charge[pair.first]+{name}Mu_charge[pair.second]);\n",
    "        return ret;\"\"\")\n",
    "    return rdf;\n",
    "\n",
    "\n",
    "rdf_gendimu = makeDimuonPairs(\"Gen\", rdf)\n",
    "\n",
    "## Now we make a plot of the number of generated muons and the ones reconstructed by L1T\n",
    "hNGenPairs = rdf_gendimu.Histo1D((\"nGenDiMu\",\"N(#mu#mu)_{gen};N(#mu#mu)_{gen};Events\",7,-2.5,10), \"nGenDiMu\")\n",
    "hGenPairMass = rdf_gendimu.Histo1D((\"GenMass\",\"m(#mu#mu)_{gen};m (GeV);Pairs\",7,-5,5), \"GenDiMu_mass\")\n",
    "hGenPairCharge = rdf_gendimu.Histo1D((\"GenCharge\",\"q(#mu#mu)_{gen};q(#mu_{1}) + q(#mu_{2});Pairs\",7,-3.5,3.5), \"GenDiMu_charge\")\n",
    "entries = rdf_gendimu.Count().GetValue()\n",
    "print(f\"Processed {entries} entries.\")\n",
    "## And plot it\n",
    "c1 = ROOT.TCanvas(\"c1\",\"c1\", 1500, 400)\n",
    "c1.Divide(3,1)\n",
    "for i, h in enumerate([hNGenPairs,hGenPairMass,hGenPairCharge]):\n",
    "    c1.cd(i+1)\n",
    "    h.Draw()\n",
    "c1.Draw()"
   ]
  },
  {
   "cell_type": "code",
   "execution_count": null,
   "id": "32159ba9",
   "metadata": {},
   "outputs": [],
   "source": [
    "rdf_tkdimu = makeDimuonPairs(\"Tk\", rdf_gendimu)\n",
    "\n",
    "hNTkPairs = rdf_tkdimu.Histo1D((\"NTKDiMu\",\"N(#mu#mu)_{Tk};;Events\",25,-4,70),\"nTkDiMu\")\n",
    "hTkPairMass = rdf_tkdimu.Histo1D((\"TKDiMu mass\",\"m(#mu#mu)_{Tk};m(GeV)\",7,0,6),\"TkDiMu_mass\")\n",
    "hTkPairCharge = rdf_tkdimu.Histo1D((\"TKDiMu Charge\",\"q(#mu#mu)_{Tk};q\",7,-3.5,3.5),\"TkDiMu_charge\")\n",
    "entries = rdf_tkdimu.Count().GetValue()\n",
    "print(f\"Processed {entries} entries.\")\n",
    "## And plot it\n",
    "c1 = ROOT.TCanvas(\"c1\",\"c1\", 1500, 400)\n",
    "c1.Divide(3,1)\n",
    "for i, h in enumerate([hNTkPairs,hTkPairMass,hTkPairCharge]):\n",
    "    c1.cd(i+1)\n",
    "    h.Draw()\n",
    "c1.Draw()"
   ]
  },
  {
   "cell_type": "code",
   "execution_count": null,
   "id": "315b5e06",
   "metadata": {},
   "outputs": [],
   "source": [
    "def makemorevariables(name,rdf):\n",
    "    #beam separation\n",
    "    rdf = rdf.Define(f\"{name}DiMu_dz\",f\"\"\"\n",
    "    ROOT::RVecF ret;\n",
    "    for(const auto & pair : {name}DiMu_indices)\n",
    "        ret.emplace_back({name}Mu_vz[pair.first]-{name}Mu_vz[pair.second]);\n",
    "    return ret;\"\"\")\n",
    "    \n",
    "    #min pT\n",
    "    rdf = rdf.Define(f\"{name}DiMu_minPt\", f\"\"\"\n",
    "    ROOT::RVecF ret;\n",
    "    for(const auto & pair : {name}DiMu_indices)\n",
    "        ret.emplace_back(std::min({name}Mu_pt[pair.first],{name}Mu_pt[pair.second]));\n",
    "    return ret;\"\"\")\n",
    "    \n",
    "    return rdf;\n",
    "\n",
    "rdf_dimorevar = makemorevariables(\"Tk\",makemorevariables(\"Gen\",rdf_tkdimu))\n",
    "hgenDiMu_sep = rdf_dimorevar.Histo1D((\"genDiMu sep\",\"dz(#mu#mu)_{gen}Events\",100,-0.5,0.5), \"GenDiMu_dz\")\n",
    "hgenDiMu_minPt = rdf_dimorevar.Histo1D((\"genDiMu minPt\",\"min p_{T}(#mu#mu)_{gen};Events\",100,-0.5,20), \"GenDiMu_minPt\")\n",
    "htkDiMu_sep = rdf_dimorevar.Histo1D((\"TkDiMu sep\",\"dz(#mu#mu)_{Tk}Events\",100,-25,25), \"TkDiMu_dz\")\n",
    "htkDiMu_minPt = rdf_dimorevar.Histo1D((\"TkDiMu minPt\",\"min p_{T}(#mu#mu)_{Tk};Events\",100,1,20), \"TkDiMu_minPt\")\n",
    "entries = rdf_gendimu.Count().GetValue()\n",
    "print(f\"Processed {entries} entries.\")\n",
    "## And plot it\n",
    "c1 = ROOT.TCanvas(\"c1\",\"c1\", 1500, 800)\n",
    "c1.Divide(2,2)\n",
    "for i, h in enumerate([hgenDiMu_sep, hgenDiMu_minPt, htkDiMu_sep, htkDiMu_minPt]):\n",
    "    c1.cd(i+1)\n",
    "    h.Draw()\n",
    "c1.Draw()"
   ]
  },
  {
   "cell_type": "code",
   "execution_count": null,
   "id": "25362e3c",
   "metadata": {},
   "outputs": [],
   "source": []
  }
 ],
 "metadata": {
  "@webio": {
   "lastCommId": null,
   "lastKernelId": null
  },
  "kernelspec": {
   "display_name": "Python 3",
   "language": "python",
   "name": "python3"
  },
  "language_info": {
   "codemirror_mode": {
    "name": "ipython",
    "version": 3
   },
   "file_extension": ".py",
   "mimetype": "text/x-python",
   "name": "python",
   "nbconvert_exporter": "python",
   "pygments_lexer": "ipython3",
   "version": "3.9.12"
  }
 },
 "nbformat": 4,
 "nbformat_minor": 5
}
