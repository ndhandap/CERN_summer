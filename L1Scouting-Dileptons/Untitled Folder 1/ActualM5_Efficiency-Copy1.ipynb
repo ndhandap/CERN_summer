{
 "cells": [
  {
   "cell_type": "code",
   "execution_count": 1,
   "id": "bcc6fdf6",
   "metadata": {},
   "outputs": [
    {
     "name": "stdout",
     "output_type": "stream",
     "text": [
      "Welcome to JupyROOT 6.28/00\n"
     ]
    }
   ],
   "source": [
    "import ROOT, os, sys, glob\n",
    "import numpy as np\n",
    "from math import *\n",
    "from matplotlib import pyplot as plt\n",
    "from ROOT import kBlack, kBlue, kRed\n",
    "\n",
    "ROOT.EnableImplicitMT(4); "
   ]
  },
  {
   "cell_type": "code",
   "execution_count": 2,
   "id": "7a5041cc",
   "metadata": {},
   "outputs": [
    {
     "data": {
      "text/plain": [
       "['/eos/cms/store/cmst3/group/l1tr/gpetrucc/dilep-scout/l1MuNano_BsToMuMu_PU200.125X_v0.0.root',\n",
       " '/eos/cms/store/cmst3/group/l1tr/gpetrucc/dilep-scout/l1MuNano_DYToLL_M-10To50_PU200.125X_v0.0.root',\n",
       " '/eos/cms/store/cmst3/group/l1tr/gpetrucc/dilep-scout/l1MuNano_DYToLL_M-50_PU200.125X_v0.0.root',\n",
       " '/eos/cms/store/cmst3/group/l1tr/gpetrucc/dilep-scout/l1MuNano_HAHM_ZdToMuMu_M15_PU200.125X_v0.0.root',\n",
       " '/eos/cms/store/cmst3/group/l1tr/gpetrucc/dilep-scout/l1MuNano_HAHM_ZdToMuMu_M2_PU200.125X_v0.0.root',\n",
       " '/eos/cms/store/cmst3/group/l1tr/gpetrucc/dilep-scout/l1MuNano_HAHM_ZdToMuMu_M5_PU200.125X_v0.0.root',\n",
       " '/eos/cms/store/cmst3/group/l1tr/gpetrucc/dilep-scout/l1MuNano_JPsiToMuMu_PU200.125X_v0.0.root',\n",
       " '/eos/cms/store/cmst3/group/l1tr/gpetrucc/dilep-scout/l1MuNano_SingleNeutrino_PU200.125X_v0.0.root']"
      ]
     },
     "execution_count": 2,
     "metadata": {},
     "output_type": "execute_result"
    }
   ],
   "source": [
    "list(glob.glob(\"/eos/cms/store/cmst3/group/l1tr/gpetrucc/dilep-scout/*125X_v0.0.root\"))"
   ]
  },
  {
   "cell_type": "code",
   "execution_count": 3,
   "id": "a6f77223",
   "metadata": {},
   "outputs": [],
   "source": [
    "rdf = ROOT.RDataFrame(\"Events\",\"/eos/cms/store/cmst3/group/l1tr/gpetrucc/dilep-scout/l1MuNano_HAHM_ZdToMuMu_M5_PU200.125X_v0.0.root\")"
   ]
  },
  {
   "cell_type": "code",
   "execution_count": 4,
   "id": "a32a625c",
   "metadata": {},
   "outputs": [],
   "source": [
    "def makeDimuonPairs(name, rdf):\n",
    "    ## define 4-vectors in cartesian coordinates, for easier \n",
    "    rdf = rdf.Define(f\"{name}Mu_p4\", f\"ROOT::VecOps::Construct<ROOT::Math::XYZTVector>(ROOT::VecOps::Construct<ROOT::Math::PtEtaPhiMVector>({name}Mu_pt,{name}Mu_eta,{name}Mu_phi,{name}Mu_mass))\")\n",
    "    ## make indices of all the pairs\n",
    "    rdf = rdf.Define(f\"{name}DiMu_indices\", f\"\"\"\n",
    "        ROOT::VecOps::RVec<std::pair<int,int>> ret; \n",
    "        for (int i = 0, n = n{name}Mu; i < n; ++i) \n",
    "            for (int i2 = i+1; i2 < n; ++i2) \n",
    "                ret.emplace_back(i,i2);\n",
    "        return ret;\"\"\")\n",
    "    \n",
    "    #Let us impose a selection criteria here\n",
    "    \n",
    "    \n",
    "    ## Make the number of dimuons, for convenience later\n",
    "    rdf = rdf.Define(f\"n{name}DiMu\", f\"{name}DiMu_indices.size()\")\n",
    "    ## compute the mass, charge\n",
    "    rdf = rdf.Define(f\"{name}DiMu_mass\", f\"\"\"\n",
    "        ROOT::RVecF ret; \n",
    "        for (const auto & pair : {name}DiMu_indices) \n",
    "            ret.emplace_back(({name}Mu_p4[pair.first]+{name}Mu_p4[pair.second]).M());\n",
    "        return ret;\"\"\")\n",
    "    \n",
    "    \n",
    "    rdf = rdf.Define(f\"{name}DiMu_charge\", f\"\"\"\n",
    "        ROOT::RVecI ret; \n",
    "        for (const auto & pair : {name}DiMu_indices) \n",
    "            ret.emplace_back({name}Mu_charge[pair.first]+{name}Mu_charge[pair.second]);\n",
    "        return ret;\"\"\")\n",
    "    \n",
    "#     rdf = rdf.Define(f\"{name}TkDiMu_genIdx\", f\"\"\"\n",
    "#         ROOT::VecOps::RVec<std::pair<int,int>> ret;\n",
    "#         for (const auto & pair : {name}DiMu_indices) \n",
    "#             ret.emplace_back(TkMu_GenMuIdx[pair.first],TkMu_GenMuIdx[pair.second]);\n",
    "#         return ret;\"\"\")\n",
    "    \n",
    "    rdf = rdf.Define(f\"{name}DiMu_minIdx\", f\"\"\"\n",
    "        ROOT::RVecI ret;\n",
    "        for (const auto & pair : {name}DiMu_indices) \n",
    "            ret.emplace_back(std::min(TkMu_GenMuIdx[pair.first],TkMu_GenMuIdx[pair.second]));\n",
    "        return ret;\"\"\")\n",
    "    \n",
    "    return rdf;\n",
    "\n",
    "\n",
    "# rdf_gendimu = makeDimuonPairs(\"Gen\", rdf)\n",
    "\n",
    "# ## Now we make a plot of the number of generated muons and the ones reconstructed by L1T\n",
    "# hNGenPairs = rdf_gendimu.Histo1D((\"nGenDiMu\",\"N(#mu#mu)_{gen};Events\",12,-2,10), \"nGenDiMu\")\n",
    "# hGenPairMass = rdf_gendimu.Histo1D((\"GenMass\",\"m(#mu#mu)_{gen};m (GeV);Pairs\",50,0,25), \"GenDiMu_mass\")\n",
    "# hGenPairCharge = rdf_gendimu.Histo1D((\"GenCharge\",\"q(#mu#mu)_{gen};q(#mu_{1}) + q(#mu_{2});Pairs\",8,-4,4), \"GenDiMu_charge\")\n",
    "# entries_genDiMu_full = rdf_gendimu.Count().GetValue()\n",
    "# print(f\"Processed {entries_genDiMu_full} entries.\")\n",
    "\n",
    "# rdf_gendimu.Describe()\n",
    "# ## And plot it\n",
    "# c1 = ROOT.TCanvas(\"c1\",\"c1\", 1500, 400)\n",
    "# c1.Divide(3,1)\n",
    "# for i, h in enumerate([hNGenPairs,hGenPairMass,hGenPairCharge]):\n",
    "#     c1.cd(i+1)\n",
    "#     h.Draw()\n",
    "# c1.Draw()"
   ]
  },
  {
   "cell_type": "code",
   "execution_count": 5,
   "id": "ea176ad8",
   "metadata": {},
   "outputs": [
    {
     "name": "stdout",
     "output_type": "stream",
     "text": [
      "Processed 10000 entries.\n"
     ]
    },
    {
     "name": "stderr",
     "output_type": "stream",
     "text": [
      "Warning in <TClass::Init>: no dictionary for class edm::Hash<1> is available\n",
      "Warning in <TClass::Init>: no dictionary for class edm::ProcessHistory is available\n",
      "Warning in <TClass::Init>: no dictionary for class edm::ProcessConfiguration is available\n",
      "Warning in <TClass::Init>: no dictionary for class edm::ParameterSetBlob is available\n",
      "Warning in <TClass::Init>: no dictionary for class pair<edm::Hash<1>,edm::ParameterSetBlob> is available\n"
     ]
    },
    {
     "data": {
      "image/png": "[encoded data removed]",
      "text/plain": [
       "<IPython.core.display.Image object>"
      ]
     },
     "metadata": {},
     "output_type": "display_data"
    }
   ],
   "source": [
    "rdf_Tkdimu = makeDimuonPairs(\"Tk\", rdf)\n",
    "\n",
    "## Now we make a plot of the number of generated muons and the ones reconstructed by L1T\n",
    "hNTkPairs = rdf_Tkdimu.Histo1D((\"nTkDiMu\",\"N(#mu#mu)_{Tk};Events\",12,-2,10), \"nTkDiMu\")\n",
    "hTkPairMass = rdf_Tkdimu.Histo1D((\"TkMass\",\"m(#mu#mu)_{Tk};m (GeV);Pairs\",50,0,25), \"TkDiMu_mass\")\n",
    "hTkPairCharge = rdf_Tkdimu.Histo1D((\"TkCharge\",\"q(#mu#mu)_{Tk};q(#mu_{1}) + q(#mu_{2});Pairs\",8,-4,4), \"TkDiMu_charge\")\n",
    "entries_TkDiMu_full = rdf_Tkdimu.Count().GetValue()\n",
    "print(f\"Processed {entries_TkDiMu_full} entries.\")\n",
    "\n",
    "c1 = ROOT.TCanvas(\"c1\",\"c1\", 1500, 400)\n",
    "c1.Divide(3,1)\n",
    "for i, h in enumerate([hNTkPairs,hTkPairMass,hTkPairCharge]):\n",
    "    c1.cd(i+1)\n",
    "    h.Draw()\n",
    "c1.Draw()"
   ]
  },
  {
   "cell_type": "code",
   "execution_count": 6,
   "id": "2b301541",
   "metadata": {},
   "outputs": [
    {
     "name": "stdout",
     "output_type": "stream",
     "text": [
      "Processed 10000 entries.\n"
     ]
    },
    {
     "data": {
      "image/png": "[encoded data removed]",
      "text/plain": [
       "<IPython.core.display.Image object>"
      ]
     },
     "metadata": {},
     "output_type": "display_data"
    }
   ],
   "source": [
    "def dimuonextra(name,rdf):\n",
    "    #separation along the beamline\n",
    "    rdf=rdf.Define(f\"{name}DiMu_dz\",f\"\"\"\n",
    "    ROOT::RVecF ret;\n",
    "    for(const auto & pair : {name}DiMu_indices)\n",
    "        ret.emplace_back(({name}Mu_vz[pair.first]-{name}Mu_vz[pair.second]));\n",
    "    return ret;\"\"\")\n",
    "    #min pT of thw two\n",
    "    rdf = rdf.Define(f\"{name}Mu_minPT\",f\"\"\"\n",
    "    ROOT::RVecF ret;\n",
    "    for(const auto & pair : {name}DiMu_indices)\n",
    "        ret.emplace_back(std::min({name}Mu_pt[pair.first],{name}Mu_pt[pair.second]));\n",
    "    return ret;\"\"\") #\n",
    "    \n",
    "    return rdf;\n",
    "rdf_tkextra = dimuonextra(\"Tk\",rdf_Tkdimu) #this is done to essentially include all the newly created Rdfs in the final rdf\n",
    "hTkPair_Dz = rdf_tkextra.Histo1D((\"TkPair_dz\",\"dz(#mu#mu)_{Tk};z(#mu_{1}) - z(#mu_{2}cm\",100,-10,10),\"TkDiMu_dz\")\n",
    "hTkPair_minPt = rdf_tkextra.Histo1D((\"TkPair_minPt\",\"min p_{T}(#mu#mu)_{Tk};pT GeV\",100,0,10),\"TkMu_minPT\")\n",
    "# hGenPair_Dz = rdf_tkextra.Histo1D((\"GenPair_dz\",\"dz(#mu#mu)_{Gen};z(#mu_{1}) - z(#mu_{2})cm\",100,-10,10),\"GenDiMu_dz\")\n",
    "# hGenPair_minPt = rdf_tkextra.Histo1D((\"GenPair_minPt\",\"min p_{T}(#mu#mu)_{Gen};pT GeV\",100,0,10),\"GenMu_minPT\")\n",
    "\n",
    "\n",
    "entries_TkDiMuExtra_full = rdf_Tkdimu.Count().GetValue()\n",
    "print(f\"Processed {entries_TkDiMuExtra_full} entries.\")\n",
    "\n",
    "## And plot it\n",
    "c2 = ROOT.TCanvas(\"c2\",\"c2\", 1200, 400)\n",
    "c2.Divide(2,1)\n",
    "for i, h in enumerate([hTkPair_Dz, hTkPair_minPt]):\n",
    "    c2.cd(i+1)\n",
    "    h.Draw()\n",
    "c2.Draw()"
   ]
  },
  {
   "cell_type": "code",
   "execution_count": 7,
   "id": "e35805c5",
   "metadata": {},
   "outputs": [
    {
     "data": {
      "text/plain": [
       "Dataframe from TChain Events in file /eos/cms/store/cmst3/group/l1tr/gpetrucc/dilep-scout/l1MuNano_HAHM_ZdToMuMu_M5_PU200.125X_v0.0.root\n",
       "\n",
       "Property                Value\n",
       "--------                -----\n",
       "Columns in total           42\n",
       "Columns from defines        8\n",
       "Event loops run             2\n",
       "Processing slots            4\n",
       "\n",
       "Column          Type                                                                            Origin\n",
       "------          ----                                                                            ------\n",
       "GenMu_charge    ROOT::VecOps::RVec<Int_t>                                                       Dataset\n",
       "GenMu_d0        ROOT::VecOps::RVec<Float_t>                                                     Dataset\n",
       "GenMu_eta       ROOT::VecOps::RVec<Float_t>                                                     Dataset\n",
       "GenMu_isFromTau ROOT::VecOps::RVec<Int_t>                                                       Dataset\n",
       "GenMu_isPrompt  ROOT::VecOps::RVec<Int_t>                                                       Dataset\n",
       "GenMu_mass      ROOT::VecOps::RVec<Float_t>                                                     Dataset\n",
       "GenMu_phi       ROOT::VecOps::RVec<Float_t>                                                     Dataset\n",
       "GenMu_pt        ROOT::VecOps::RVec<Float_t>                                                     Dataset\n",
       "GenMu_vz        ROOT::VecOps::RVec<Float_t>                                                     Dataset\n",
       "TkDiMu_charge   ROOT::VecOps::RVec<int>                                                         Define\n",
       "TkDiMu_dz       ROOT::VecOps::RVec<float>                                                       Define\n",
       "TkDiMu_indices  ROOT::VecOps::RVec<pair<int,int> >                                              Define\n",
       "TkDiMu_mass     ROOT::VecOps::RVec<float>                                                       Define\n",
       "TkDiMu_minIdx   ROOT::VecOps::RVec<int>                                                         Define\n",
       "TkMu_GenMuFlav  ROOT::VecOps::RVec<UChar_t>                                                     Dataset\n",
       "TkMu_GenMuIdx   ROOT::VecOps::RVec<Int_t>                                                       Dataset\n",
       "TkMu_charge     ROOT::VecOps::RVec<Int_t>                                                       Dataset\n",
       "TkMu_d0         ROOT::VecOps::RVec<Float_t>                                                     Dataset\n",
       "TkMu_eta        ROOT::VecOps::RVec<Float_t>                                                     Dataset\n",
       "TkMu_hwCharge   ROOT::VecOps::RVec<Int_t>                                                       Dataset\n",
       "TkMu_hwD0       ROOT::VecOps::RVec<Int_t>                                                       Dataset\n",
       "TkMu_hwEta      ROOT::VecOps::RVec<Int_t>                                                       Dataset\n",
       "TkMu_hwIsoSum   ROOT::VecOps::RVec<Int_t>                                                       Dataset\n",
       "TkMu_hwIsoSumAp ROOT::VecOps::RVec<Int_t>                                                       Dataset\n",
       "TkMu_hwPhi      ROOT::VecOps::RVec<Int_t>                                                       Dataset\n",
       "TkMu_hwPt       ROOT::VecOps::RVec<Int_t>                                                       Dataset\n",
       "TkMu_hwQual     ROOT::VecOps::RVec<Int_t>                                                       Dataset\n",
       "TkMu_hwZ0       ROOT::VecOps::RVec<Int_t>                                                       Dataset\n",
       "TkMu_mass       ROOT::VecOps::RVec<Float_t>                                                     Dataset\n",
       "TkMu_minPT      ROOT::VecOps::RVec<float>                                                       Define\n",
       "TkMu_p4         ROOT::VecOps::RVec<ROOT::Math::LorentzVector<ROOT::Math::PxPyPzE4D<double> > >  Define\n",
       "TkMu_phi        ROOT::VecOps::RVec<Float_t>                                                     Dataset\n",
       "TkMu_pt         ROOT::VecOps::RVec<Float_t>                                                     Dataset\n",
       "TkMu_quality    ROOT::VecOps::RVec<Int_t>                                                       Dataset\n",
       "TkMu_vz         ROOT::VecOps::RVec<Float_t>                                                     Dataset\n",
       "bunchCrossing   UInt_t                                                                          Dataset\n",
       "event           ULong64_t                                                                       Dataset\n",
       "luminosityBlock UInt_t                                                                          Dataset\n",
       "nGenMu          UInt_t                                                                          Dataset\n",
       "nTkDiMu         unsigned long                                                                   Define\n",
       "nTkMu           UInt_t                                                                          Dataset\n",
       "run             UInt_t                                                                          Dataset"
      ]
     },
     "execution_count": 7,
     "metadata": {},
     "output_type": "execute_result"
    }
   ],
   "source": [
    "rdf_tkextra.Describe()"
   ]
  },
  {
   "cell_type": "code",
   "execution_count": 8,
   "id": "fd940c0d",
   "metadata": {},
   "outputs": [],
   "source": [
    "def indexSelect(rdf):\n",
    "    rdf = rdf.Define(\"TkDiMu_indMatch\",\"(TkDiMu_minIdx!=-1)\" )\n",
    "    rdf = rdf.Define(f\"IdxDiMu_indices\", f\"TkDiMu_indices[TkDiMu_indMatch]\")\n",
    "    rdf = rdf.Filter(f\"Sum(TkDiMu_indMatch)  >= 1\")\n",
    "    rdf = rdf.Define(f\"nTkDiMu_Idx\",f\"IdxDiMu_indices.size()\")\n",
    "    rdf = rdf.Define(f\"TkDiMu_IdxMass\",f\"TkDiMu_mass[TkDiMu_indMatch]\")\n",
    "    rdf = rdf.Define(f\"TkDiMu_IdxCharge\",f\"TkDiMu_charge[TkDiMu_indMatch]\")\n",
    "    rdf = rdf.Define(f\"TkDiMu_Idxdz\",f\"TkDiMu_dz[TkDiMu_indMatch]\")\n",
    "    rdf = rdf.Define(f\"TkDiMu_IdxMinPt\",f\"TkMu_minPT[TkDiMu_indMatch]\")\n",
    "    \n",
    "    return rdf;\n",
    "\n",
    "rdf_idxSel = indexSelect(rdf_tkextra)"
   ]
  },
  {
   "cell_type": "code",
   "execution_count": 9,
   "id": "1150593b",
   "metadata": {},
   "outputs": [
    {
     "name": "stdout",
     "output_type": "stream",
     "text": [
      "Processed 646 entries.\n"
     ]
    },
    {
     "name": "stderr",
     "output_type": "stream",
     "text": [
      "Warning in <TCanvas::Constructor>: Deleting canvas with same name: c1\n"
     ]
    },
    {
     "data": {
      "image/png": "[encoded data removed]",
      "text/plain": [
       "<IPython.core.display.Image object>"
      ]
     },
     "metadata": {},
     "output_type": "display_data"
    }
   ],
   "source": [
    "hNIdxTkPairs = rdf_idxSel.Histo1D((\"good nTk_DiMu_Idx\",\"Good N(#mu#mu)_{Tk};Events\",10,0,10), \"nTkDiMu_Idx\")\n",
    "hIdxTkPairMass = rdf_idxSel.Histo1D((\"Good Tk_Mass_Idx\",\"Good m(#mu#mu)_{Tk};m (GeV);Pairs\",24,1,25), \"TkDiMu_IdxMass\")\n",
    "hIdxTkPairCharge = rdf_idxSel.Histo1D((\"Good Tk_Charge_Idx\",\"Good q(#mu#mu)_{Tk};q(#mu_{1}) + q(#mu_{2});Pairs\",8,-4,4), \"TkDiMu_IdxCharge\")\n",
    "hIdxTkPairDz = rdf_idxSel.Histo1D((\"Good Tk dz_Idx\",\"Good dz(#mu#mu)_{TK};z(#mu_{1}) - z(#mu_{2});Pairs\",100,-20,20), \"TkDiMu_Idxdz\")\n",
    "hIdxTkPairMinPT = rdf_idxSel.Histo1D((\"Good Tk minPt_Idx\",\"Good min pT(#mu#mu)_{Tk};pT(GeV));Pairs\",100,0,10), \"TkDiMu_IdxMinPt\")\n",
    "entries_TkDi_sel2 = rdf_idxSel.Count().GetValue()\n",
    "print(f\"Processed {entries_TkDi_sel2} entries.\")\n",
    "\n",
    "\n",
    "c1 = ROOT.TCanvas(\"c1\",\"c1\", 1500, 800)\n",
    "c1.Divide(3,2)\n",
    "for i, h in enumerate([hNIdxTkPairs, hIdxTkPairMass, hIdxTkPairCharge, hIdxTkPairDz, hIdxTkPairMinPT]):\n",
    "    c1.cd(i+1)\n",
    "    h.Draw()\n",
    "c1.Draw()\n",
    "#c1.SaveAs(\"m15_final graohs with Index cut.png\")"
   ]
  },
  {
   "cell_type": "code",
   "execution_count": 10,
   "id": "bd532c12",
   "metadata": {},
   "outputs": [
    {
     "ename": "runtime_error",
     "evalue": "Template method resolution failed:\n  ROOT::RDF::RInterface<ROOT::Detail::RDF::RJittedFilter,void> ROOT::RDF::RInterface<ROOT::Detail::RDF::RJittedFilter,void>::Define(basic_string_view<char,char_traits<char> > name, basic_string_view<char,char_traits<char> > expression) =>\n    runtime_error: \nRDataFrame: An error occurred during just-in-time compilation. The lines above might indicate the cause of the crash\n All RDF objects that have not run an event loop yet should be considered in an invalid state.\n\n  ROOT::RDF::RInterface<ROOT::Detail::RDF::RJittedFilter,void> ROOT::RDF::RInterface<ROOT::Detail::RDF::RJittedFilter,void>::Define(basic_string_view<char,char_traits<char> > name, basic_string_view<char,char_traits<char> > expression) =>\n    runtime_error: \nRDataFrame: An error occurred during just-in-time compilation. The lines above might indicate the cause of the crash\n All RDF objects that have not run an event loop yet should be considered in an invalid state.\n",
     "output_type": "error",
     "traceback": [
      "\u001b[0;31m---------------------------------------------------------------------------\u001b[0m",
      "\u001b[0;31mruntime_error\u001b[0m                             Traceback (most recent call last)",
      "\u001b[0;32m/tmp/ipykernel_838/2303485174.py\u001b[0m in \u001b[0;36m<module>\u001b[0;34m\u001b[0m\n\u001b[1;32m     13\u001b[0m     \u001b[0mrdf\u001b[0m \u001b[0;34m=\u001b[0m \u001b[0mrdf\u001b[0m\u001b[0;34m.\u001b[0m\u001b[0mDefine\u001b[0m\u001b[0;34m(\u001b[0m\u001b[0;34mf\"GoodTkDiMu_minIdx_{name}\"\u001b[0m\u001b[0;34m,\u001b[0m\u001b[0;34mf\"TkDiMu_minIdx[{name}DiMu_good]\"\u001b[0m\u001b[0;34m)\u001b[0m\u001b[0;34m\u001b[0m\u001b[0;34m\u001b[0m\u001b[0m\n\u001b[1;32m     14\u001b[0m     \u001b[0;32mreturn\u001b[0m \u001b[0mrdf\u001b[0m\u001b[0;34m;\u001b[0m\u001b[0;34m\u001b[0m\u001b[0;34m\u001b[0m\u001b[0m\n\u001b[0;32m---> 15\u001b[0;31m \u001b[0mrdf_gendisel\u001b[0m \u001b[0;34m=\u001b[0m \u001b[0mselect_ind\u001b[0m\u001b[0;34m(\u001b[0m\u001b[0;34m\"Gen\"\u001b[0m\u001b[0;34m,\u001b[0m\u001b[0mrdf_idxSel\u001b[0m\u001b[0;34m)\u001b[0m\u001b[0;34m\u001b[0m\u001b[0;34m\u001b[0m\u001b[0m\n\u001b[0m",
      "\u001b[0;32m/tmp/ipykernel_838/2303485174.py\u001b[0m in \u001b[0;36mselect_ind\u001b[0;34m(name, rdf)\u001b[0m\n\u001b[1;32m      3\u001b[0m     \u001b[0;31m#Let us impose a selection criteria here\u001b[0m\u001b[0;34m\u001b[0m\u001b[0;34m\u001b[0m\u001b[0m\n\u001b[1;32m      4\u001b[0m     \u001b[0;31m#rdf = rdf.Define(f\"{name}DiMu_selind\",f\"{name}DiMu_indices\")\u001b[0m\u001b[0;34m\u001b[0m\u001b[0;34m\u001b[0m\u001b[0m\n\u001b[0;32m----> 5\u001b[0;31m     \u001b[0mrdf\u001b[0m \u001b[0;34m=\u001b[0m \u001b[0mrdf\u001b[0m\u001b[0;34m.\u001b[0m\u001b[0mDefine\u001b[0m\u001b[0;34m(\u001b[0m\u001b[0;34mf\"{name}DiMu_good\"\u001b[0m\u001b[0;34m,\u001b[0m \u001b[0;34mf\"({name}DiMu_charge<0.1 && {name}DiMu_charge>-0.1) &&({name}DiMu_dz<1 && ({name}DiMu_dz>-1))&&({name}Mu_minPT>2.)\"\u001b[0m\u001b[0;34m)\u001b[0m\u001b[0;34m\u001b[0m\u001b[0;34m\u001b[0m\u001b[0m\n\u001b[0m\u001b[1;32m      6\u001b[0m     \u001b[0mrdf\u001b[0m \u001b[0;34m=\u001b[0m \u001b[0mrdf\u001b[0m\u001b[0;34m.\u001b[0m\u001b[0mDefine\u001b[0m\u001b[0;34m(\u001b[0m\u001b[0;34mf\"Good{name}DiMu_indices\"\u001b[0m\u001b[0;34m,\u001b[0m \u001b[0;34mf\"{name}DiMu_indices[{name}DiMu_good]\"\u001b[0m\u001b[0;34m)\u001b[0m\u001b[0;34m\u001b[0m\u001b[0;34m\u001b[0m\u001b[0m\n\u001b[1;32m      7\u001b[0m     \u001b[0mrdf\u001b[0m \u001b[0;34m=\u001b[0m \u001b[0mrdf\u001b[0m\u001b[0;34m.\u001b[0m\u001b[0mFilter\u001b[0m\u001b[0;34m(\u001b[0m\u001b[0;34mf\"Sum({name}DiMu_good)  >= 1\"\u001b[0m\u001b[0;34m)\u001b[0m\u001b[0;34m\u001b[0m\u001b[0;34m\u001b[0m\u001b[0m\n",
      "\u001b[0;32m/cvmfs/sft.cern.ch/lcg/views/LCG_103swan/x86_64-centos7-gcc11-opt/lib/ROOT/_pythonization/_rdf_pyz.py\u001b[0m in \u001b[0;36m_PyDefine\u001b[0;34m(rdf, col_name, callable_or_str, cols, extra_args)\u001b[0m\n\u001b[1;32m    370\u001b[0m \u001b[0;34m\u001b[0m\u001b[0m\n\u001b[1;32m    371\u001b[0m     \u001b[0;32mif\u001b[0m \u001b[0misinstance\u001b[0m\u001b[0;34m(\u001b[0m\u001b[0mcallable_or_str\u001b[0m\u001b[0;34m,\u001b[0m \u001b[0mstr\u001b[0m\u001b[0;34m)\u001b[0m\u001b[0;34m:\u001b[0m \u001b[0;31m# If string argument is passed. Invoke the Original Define.\u001b[0m\u001b[0;34m\u001b[0m\u001b[0;34m\u001b[0m\u001b[0m\n\u001b[0;32m--> 372\u001b[0;31m         \u001b[0;32mreturn\u001b[0m \u001b[0mrdf\u001b[0m\u001b[0;34m.\u001b[0m\u001b[0m_OriginalDefine\u001b[0m\u001b[0;34m(\u001b[0m\u001b[0mcol_name\u001b[0m\u001b[0;34m,\u001b[0m \u001b[0mcallable_or_str\u001b[0m\u001b[0;34m)\u001b[0m\u001b[0;34m\u001b[0m\u001b[0;34m\u001b[0m\u001b[0m\n\u001b[0m\u001b[1;32m    373\u001b[0m \u001b[0;34m\u001b[0m\u001b[0m\n\u001b[1;32m    374\u001b[0m     \u001b[0;32mif\u001b[0m \u001b[0;32mnot\u001b[0m \u001b[0mcallable\u001b[0m\u001b[0;34m(\u001b[0m\u001b[0mcallable_or_str\u001b[0m\u001b[0;34m)\u001b[0m\u001b[0;34m:\u001b[0m \u001b[0;31m# The 2st argument is either a string or a python callable.\u001b[0m\u001b[0;34m\u001b[0m\u001b[0;34m\u001b[0m\u001b[0m\n",
      "\u001b[0;31mruntime_error\u001b[0m: Template method resolution failed:\n  ROOT::RDF::RInterface<ROOT::Detail::RDF::RJittedFilter,void> ROOT::RDF::RInterface<ROOT::Detail::RDF::RJittedFilter,void>::Define(basic_string_view<char,char_traits<char> > name, basic_string_view<char,char_traits<char> > expression) =>\n    runtime_error: \nRDataFrame: An error occurred during just-in-time compilation. The lines above might indicate the cause of the crash\n All RDF objects that have not run an event loop yet should be considered in an invalid state.\n\n  ROOT::RDF::RInterface<ROOT::Detail::RDF::RJittedFilter,void> ROOT::RDF::RInterface<ROOT::Detail::RDF::RJittedFilter,void>::Define(basic_string_view<char,char_traits<char> > name, basic_string_view<char,char_traits<char> > expression) =>\n    runtime_error: \nRDataFrame: An error occurred during just-in-time compilation. The lines above might indicate the cause of the crash\n All RDF objects that have not run an event loop yet should be considered in an invalid state.\n"
     ]
    },
    {
     "name": "stderr",
     "output_type": "stream",
     "text": [
      "input_line_159:2:45: error: use of undeclared identifier 'GenDiMu_charge'\n",
      "auto func13(){return (GenDiMu_charge<0.1 && GenDiMu_charge>-0.1) &&(GenDiMu_dz<1 && (GenDiMu_dz>-1))&&(GenMu_minPT>2.)\n",
      "                                            ^\n",
      "input_line_159:2:69: error: use of undeclared identifier 'GenDiMu_dz'\n",
      "auto func13(){return (GenDiMu_charge<0.1 && GenDiMu_charge>-0.1) &&(GenDiMu_dz<1 && (GenDiMu_dz>-1))&&(GenMu_minPT>2.)\n",
      "                                                                    ^\n",
      "input_line_159:2:86: error: use of undeclared identifier 'GenDiMu_dz'\n",
      "auto func13(){return (GenDiMu_charge<0.1 && GenDiMu_charge>-0.1) &&(GenDiMu_dz<1 && (GenDiMu_dz>-1))&&(GenMu_minPT>2.)\n",
      "                                                                                     ^\n",
      "input_line_159:2:104: error: use of undeclared identifier 'GenMu_minPT'\n",
      "auto func13(){return (GenDiMu_charge<0.1 && GenDiMu_charge>-0.1) &&(GenDiMu_dz<1 && (GenDiMu_dz>-1))&&(GenMu_minPT>2.)\n",
      "                                                                                                       ^\n",
      "input_line_163:2:45: error: use of undeclared identifier 'GenDiMu_charge'\n",
      "auto func13(){return (GenDiMu_charge<0.1 && GenDiMu_charge>-0.1) &&(GenDiMu_dz<1 && (GenDiMu_dz>-1))&&(GenMu_minPT>2.)\n",
      "                                            ^\n",
      "input_line_163:2:69: error: use of undeclared identifier 'GenDiMu_dz'\n",
      "auto func13(){return (GenDiMu_charge<0.1 && GenDiMu_charge>-0.1) &&(GenDiMu_dz<1 && (GenDiMu_dz>-1))&&(GenMu_minPT>2.)\n",
      "                                                                    ^\n",
      "input_line_163:2:86: error: use of undeclared identifier 'GenDiMu_dz'\n",
      "auto func13(){return (GenDiMu_charge<0.1 && GenDiMu_charge>-0.1) &&(GenDiMu_dz<1 && (GenDiMu_dz>-1))&&(GenMu_minPT>2.)\n",
      "                                                                                     ^\n",
      "input_line_163:2:104: error: use of undeclared identifier 'GenMu_minPT'\n",
      "auto func13(){return (GenDiMu_charge<0.1 && GenDiMu_charge>-0.1) &&(GenDiMu_dz<1 && (GenDiMu_dz>-1))&&(GenMu_minPT>2.)\n",
      "                                                                                                       ^\n"
     ]
    }
   ],
   "source": [
    "def select_ind(name, rdf):\n",
    "    \n",
    "    #Let us impose a selection criteria here\n",
    "    #rdf = rdf.Define(f\"{name}DiMu_selind\",f\"{name}DiMu_indices\")\n",
    "    rdf = rdf.Define(f\"{name}DiMu_good\", f\"({name}DiMu_charge<0.1 && {name}DiMu_charge>-0.1) &&({name}DiMu_dz<1 && ({name}DiMu_dz>-1))&&({name}Mu_minPT>2.)\")                    \n",
    "    rdf = rdf.Define(f\"Good{name}DiMu_indices\", f\"{name}DiMu_indices[{name}DiMu_good]\")\n",
    "    rdf = rdf.Filter(f\"Sum({name}DiMu_good)  >= 1\")\n",
    "    rdf = rdf.Define(f\"n{name}DiMu_sel\",f\"Good{name}DiMu_indices.size()\")\n",
    "    rdf = rdf.Define(f\"{name}DiMu_selMass\",f\"{name}DiMu_mass[{name}DiMu_good]\")\n",
    "    rdf = rdf.Define(f\"{name}DiMu_selCharge\",f\"{name}DiMu_charge[{name}DiMu_good]\")\n",
    "    rdf = rdf.Define(f\"{name}DiMu_seldz\",f\"{name}DiMu_dz[{name}DiMu_good]\")\n",
    "    rdf = rdf.Define(f\"{name}DiMu_selMinPt\",f\"{name}Mu_minPT[{name}DiMu_good]\")\n",
    "    rdf = rdf.Define(f\"GoodTkDiMu_minIdx_{name}\",f\"TkDiMu_minIdx[{name}DiMu_good]\")\n",
    "    return rdf;\n",
    "rdf_gendisel = select_ind(\"Gen\",rdf_idxSel)"
   ]
  },
  {
   "cell_type": "code",
   "execution_count": null,
   "id": "ab87f9da",
   "metadata": {},
   "outputs": [],
   "source": [
    "rdf_gendisel.Describe()"
   ]
  },
  {
   "cell_type": "code",
   "execution_count": null,
   "id": "cecc2321",
   "metadata": {},
   "outputs": [],
   "source": [
    "rdf_selFeat = rdf_gendisel\n",
    "hNGoodGenPairs = rdf_selFeat.Histo1D((\"good nGenDiMu_sel\",\"Good N(#mu#mu)_{gen};N(#mu#mu)_{gen};Events\",10,0,10), \"nGenDiMu_sel\")\n",
    "hGoodGenPairMass = rdf_selFeat.Histo1D((\"Good Gen Mass\",\"Good m(#mu#mu)_{gen};m (GeV);Pairs\",15,-5,50), \"GenDiMu_selMass\")\n",
    "hGoodGenPairCharge = rdf_selFeat.Histo1D((\"Good Gen Charge\",\"Good q(#mu#mu)_{gen};q(#mu_{1}) + q(#mu_{2});Pairs\",8,-4,4), \"GenDiMu_selCharge\")\n",
    "hGoodGenPairDz = rdf_selFeat.Histo1D((\"Good Gen dz\",\"Good dz(#mu#mu)_{gen};z(#mu_{1}) - z(#mu_{2});Pairs\",100,-10,10), \"GenDiMu_seldz\")\n",
    "hGoodGenPairMinPT = rdf_selFeat.Histo1D((\"Good Gen minPt\",\"Good min pT(#mu#mu)_{gen};pT(GeV))\",100,0,10), \"GenDiMu_selMinPt\")\n",
    "#rdf_selFeat.Describe()\n",
    "entries_genDi_sel1 = rdf_selFeat.Count().GetValue()\n",
    "print(f\"Processed {entries_genDi_sel1} entries.\")\n",
    "\n",
    "c1 = ROOT.TCanvas(\"c1\",\"c1\", 1500, 800)\n",
    "c1.Divide(3,2)\n",
    "for i, h in enumerate([hNGoodGenPairs, hGoodGenPairMass, hGoodGenPairCharge, hGoodGenPairDz, hGoodGenPairMinPT]):\n",
    "    c1.cd(i+1)\n",
    "    h.Draw()\n",
    "c1.Draw()"
   ]
  },
  {
   "cell_type": "code",
   "execution_count": null,
   "id": "1a879171",
   "metadata": {},
   "outputs": [],
   "source": [
    "rdf_Tk_selFeat = select_ind(\"Tk\",rdf_selFeat)\n",
    "rdf_Tk_selFeat.Describe()"
   ]
  },
  {
   "cell_type": "code",
   "execution_count": null,
   "id": "d1e4f76d",
   "metadata": {},
   "outputs": [],
   "source": [
    "hNGoodTkPairs = rdf_Tk_selFeat.Histo1D((\"good nTk_DiMu_sel\",\"Good N(#mu#mu)_{Tk};Events\",10,0,10), \"nTkDiMu_sel\")\n",
    "hGoodTkPairMass = rdf_Tk_selFeat.Histo1D((\"Good Tk_Mass\",\"Good m(#mu#mu)_{Tk};m (GeV);Pairs\",24,1,25), \"TkDiMu_selMass\")\n",
    "hGoodTkPairCharge = rdf_Tk_selFeat.Histo1D((\"Good Tk_Charge\",\"Good q(#mu#mu)_{Tk};q(#mu_{1}) + q(#mu_{2});Pairs\",8,-4,4), \"TkDiMu_selCharge\")\n",
    "hGoodTkPairDz = rdf_Tk_selFeat.Histo1D((\"Good Tk dz\",\"Good dz(#mu#mu)_{TK};z(#mu_{1}) - z(#mu_{2});Pairs\",100,-20,20), \"TkDiMu_seldz\")\n",
    "hGoodTkPairMinPT = rdf_Tk_selFeat.Histo1D((\"Good Tk minPt\",\"Good min pT(#mu#mu)_{Tk};pT(GeV));Pairs\",100,0,10), \"TkDiMu_selMinPt\")\n",
    "entries = rdf_Tk_selFeat.Count().GetValue()\n",
    "\n",
    "#rdf_selFeat.Describe()\n",
    "entries_TkDi_sel1 = rdf_Tk_selFeat.Count().GetValue()\n",
    "print(f\"Processed {entries_TkDi_sel1} entries.\")\n",
    "\n",
    "c1 = ROOT.TCanvas(\"c1\",\"c1\", 1500, 800)\n",
    "c1.Divide(3,2)\n",
    "for i, h in enumerate([hNGoodTkPairs, hGoodTkPairMass, hGoodTkPairCharge, hGoodTkPairDz, hGoodTkPairMinPT]):\n",
    "    c1.cd(i+1)\n",
    "    h.Draw()\n",
    "c1.Draw()\n"
   ]
  },
  {
   "cell_type": "code",
   "execution_count": null,
   "id": "c91805c9",
   "metadata": {},
   "outputs": [],
   "source": [
    "def select_idx_tk(rdf):\n",
    "    \n",
    "    #Let us impose a selection criteria here\n",
    "    #rdf = rdf.Define(f\"{name}DiMu_selind\",f\"{name}DiMu_indices\")\n",
    "    rdf = rdf.Define(f\"TkDiMu_Idx_good\", f\"(TkDiMu_IdxCharge <0.1 && TkDiMu_IdxCharge > -0.1) &&(TkDiMu_Idxdz <1 && (TkDiMu_Idxdz > -1))&&(TkDiMu_IdxMinPt > 2.)\")                    \n",
    "    rdf = rdf.Define(f\"TkDiMu_sel_Idx_indices\", f\"IdxDiMu_indices[TkDiMu_Idx_good]\")\n",
    "    rdf = rdf.Filter(f\"Sum(TkDiMu_Idx_good)  >= 1\")\n",
    "    rdf = rdf.Define(f\"nTkDiMu_IdxSel\",f\"TkDiMu_sel_Idx_indices.size()\")\n",
    "    rdf = rdf.Define(f\"TkDiMu_IdxselMass\",f\"TkDiMu_IdxMass[TkDiMu_Idx_good]\")\n",
    "    rdf = rdf.Define(f\"TkDiMu_IdxselCharge\",f\"TkDiMu_IdxCharge[TkDiMu_Idx_good]\")\n",
    "    rdf = rdf.Define(f\"TkDiMu_Idxseldz\",f\"TkDiMu_Idxdz[TkDiMu_Idx_good]\")\n",
    "    rdf = rdf.Define(f\"TkDiMu_IdxselMinPt\",f\"TkDiMu_IdxMinPt[TkDiMu_Idx_good]\")\n",
    "    rdf = rdf.Define(f\"GoodTkDiMu_minIdx\",f\"TkDiMu_minIdx[TkDiMu_Idx_good]\")\n",
    "\n",
    "    return rdf;\n",
    "rdf_Tk_IdxselFeat = select_idx_tk(rdf_Tk_selFeat)"
   ]
  },
  {
   "cell_type": "code",
   "execution_count": null,
   "id": "5057510c",
   "metadata": {},
   "outputs": [],
   "source": [
    "hNGoodIdxTkPairs = rdf_Tk_IdxselFeat.Histo1D((\"good nTk_DiMu_sel\",\"Good N(#mu#mu)_{Tk};Events\",10,0,10), \"nTkDiMu_IdxSel\")\n",
    "hGoodIdxTkPairMass = rdf_Tk_IdxselFeat.Histo1D((\"Good Tk_Mass\",\"Good m(#mu#mu)_{Tk};m (GeV);Pairs\",24,1,25), \"TkDiMu_IdxselMass\")\n",
    "hGoodIdxTkPairCharge = rdf_Tk_IdxselFeat.Histo1D((\"Good Tk_Charge\",\"Good q(#mu#mu)_{Tk};q(#mu_{1}) + q(#mu_{2});Pairs\",8,-4,4), \"TkDiMu_IdxselCharge\")\n",
    "hGoodIdxTkPairDz = rdf_Tk_IdxselFeat.Histo1D((\"Good Tk dz\",\"Good dz(#mu#mu)_{TK};z(#mu_{1}) - z(#mu_{2});Pairs\",100,-20,20), \"TkDiMu_Idxseldz\")\n",
    "hGoodIdxTkPairMinPT = rdf_Tk_IdxselFeat.Histo1D((\"Good Tk minPt\",\"Good min pT(#mu#mu)_{Tk};pT(GeV));Pairs\",100,0,10), \"TkDiMu_IdxselMinPt\")\n",
    "entries = rdf_Tk_IdxselFeat.Count().GetValue()\n",
    "\n",
    "#rdf_selFeat.Describe()\n",
    "entries_TkDi_sel1 = rdf_Tk_IdxselFeat.Count().GetValue()\n",
    "print(f\"Processed {entries_TkDi_sel1} entries.\")\n",
    "\n",
    "c1 = ROOT.TCanvas(\"c1\",\"c1\", 1500, 800)\n",
    "c1.Divide(3,2)\n",
    "for i, h in enumerate([hNGoodIdxTkPairs, hGoodIdxTkPairMass, hGoodIdxTkPairCharge, hGoodIdxTkPairDz, hGoodIdxTkPairMinPT]):\n",
    "    c1.cd(i+1)\n",
    "    h.Draw()\n",
    "c1.Draw()"
   ]
  },
  {
   "cell_type": "code",
   "execution_count": null,
   "id": "1c4a67f1",
   "metadata": {},
   "outputs": [],
   "source": [
    "efficiency_sel1 = (entries_TkDi_sel1/entries_TkDiMuExtra_full)\n",
    "print(f\"The efficiency of tracker muons after selection on min pT and muon index={efficiency_sel1} \")\n",
    "\n",
    "efficiency_sel2 = (entries_TkDi_sel2/entries_TkDiMuExtra_full)\n",
    "print(f\"The efficiency of tracker muons after selection on muon index={efficiency_sel2} \")\n"
   ]
  },
  {
   "cell_type": "code",
   "execution_count": null,
   "id": "156bc804",
   "metadata": {},
   "outputs": [],
   "source": [
    "A_sel1=(entries_genDi_sel1/entries_genDiMu_full)\n",
    "print(f\"The A of generated muons after selection on min pT={A_sel1} \")\n"
   ]
  },
  {
   "cell_type": "code",
   "execution_count": null,
   "id": "6e57427f",
   "metadata": {},
   "outputs": [],
   "source": [
    "number_of_bins_1 = hGoodTkPairMass.GetNbinsX()\n",
    "number_of_bins_2 = hIdxTkPairMass.GetNbinsX()\n",
    "\n",
    "axis_1 = hGoodTkPairMass.GetXaxis()\n",
    "axis_2 = hIdxTkPairMass.GetXaxis()\n",
    "bin_center_1 = [axis_1.GetBinCenter(i) for i in range(number_of_bins_1)]\n",
    "bin_center_2 = [axis_2.GetBinCenter(i) for i in range(number_of_bins_2)]\n",
    "# num_bins = axis.number_of_bins\n",
    "\n",
    "bin_content_GoodTkPairMass = [hGoodTkPairMass.GetBinContent(i) for i in range(number_of_bins_1)]\n",
    "bin_content_IdxTkPairMass = [hIdxTkPairMass.GetBinContent(i) for i in range(number_of_bins_2)]\n",
    "bin_width = hGoodTkPairMass.GetBinWidth(11)\n",
    "efficiency_ratio = np.divide(bin_content_GoodTkPairMass,bin_content_IdxTkPairMass)\n",
    "plt.plot(efficiency_ratio,bin_center_2)\n",
    "#print(f\"axis of histogram are {bin_center},{bin_content},{bin_width},{number_of_bins}\")"
   ]
  },
  {
   "cell_type": "code",
   "execution_count": null,
   "id": "f83a7c53",
   "metadata": {},
   "outputs": [],
   "source": [
    "# hGoodMassTK_clone = TH1F()\n",
    "# # hefficiencyTk = TH1F()\n",
    "#myDirectory.cd()\n",
    "h1 = hGoodTkPairMass.GetPtr()\n",
    "h1.SetLineColor(kBlue+1)\n",
    "h1.SetLineWidth(2)\n",
    "h2 = hIdxTkPairMass.GetPtr()\n",
    "h2.SetLineColor(kRed)\n",
    "h2.SetLineWidth(2)\n",
    "# hGoodTkPairMass = TH1F()\n",
    "# hIdxTkPairMass = TH1F()\n",
    "# c = ROOT.TCanvas(\"c\",\"c\",700,400)\n",
    "# hGoodMassTK_clone.Draw()\n",
    "# c.Draw()\n"
   ]
  },
  {
   "cell_type": "code",
   "execution_count": null,
   "id": "4227eaa3",
   "metadata": {},
   "outputs": [],
   "source": [
    "def createRatio(h1, h2):\n",
    "    h3 = h1.Clone(\"h3\")\n",
    "    h3.SetLineColor(kBlack)\n",
    "    h3.SetMarkerStyle(21)\n",
    "    h3.SetTitle(\"\")\n",
    "    h3.SetMinimum(0.8)\n",
    "    h3.SetMaximum(1.35)\n",
    "    # Set up plot for markers and errors\n",
    "    h3.Sumw2()\n",
    "    h3.SetStats(0)\n",
    "    h3.Divide(h2)\n",
    " \n",
    "# #     # Adjust y-axis settings\n",
    "#     y = h3.GetYaxis()\n",
    "#     y.SetTitle(\"ratio h1/h2 \")\n",
    "#     y.SetNdivisions(505)\n",
    "#     y.SetTitleSize(20)\n",
    "#     y.SetTitleFont(43)\n",
    "#     y.SetTitleOffset(1.55)\n",
    "#     y.SetLabelFont(43)\n",
    "#     y.SetLabelSize(15)\n",
    " \n",
    "# #     # Adjust x-axis settings\n",
    "#     x = h3.GetXaxis()\n",
    "#     x.SetTitleSize(20)\n",
    "#     x.SetTitleFont(43)\n",
    "#     x.SetTitleOffset(4.0)\n",
    "#     x.SetLabelFont(43)\n",
    "#     x.SetLabelSize(15)\n",
    " \n",
    "    return h3;\n",
    " "
   ]
  },
  {
   "cell_type": "code",
   "execution_count": null,
   "id": "58dfd82d",
   "metadata": {},
   "outputs": [],
   "source": [
    "def createCanvasPads():\n",
    "    c = ROOT.TCanvas(\"c\", \"canvas\", 800, 800)\n",
    "    # Upper histogram plot is pad1\n",
    "    pad1 =ROOT.TPad(\"pad1\", \"pad1\", 0, 0.3, 1, 1.0)\n",
    "    pad1.SetBottomMargin(0)  # joins upper and lower plot\n",
    "    pad1.SetGridx()\n",
    "    pad1.Draw()\n",
    "    # Lower ratio plot is pad2\n",
    "    c.cd()  # returns to main canvas before defining pad2\n",
    "    pad2 =ROOT.TPad(\"pad2\", \"pad2\", 0, 0.05, 1, 0.3)\n",
    "    pad2.SetTopMargin(0)  # joins upper and lower plot\n",
    "    pad2.SetBottomMargin(0.2)\n",
    "    pad2.SetGridx()\n",
    "    \n",
    "    pad2.Draw()\n",
    " \n",
    "    return c, pad1, pad2;"
   ]
  },
  {
   "cell_type": "code",
   "execution_count": null,
   "id": "07e75707",
   "metadata": {
    "scrolled": true
   },
   "outputs": [],
   "source": [
    "h3 = createRatio(h1, h2)\n",
    "c, pad1, pad2 = createCanvasPads()\n",
    "pad1.cd()\n",
    "h1.Draw()\n",
    "h2.Draw(\"same\")\n",
    "# to avoid clipping the bottom zero, redraw a small axis\n",
    "h1.GetYaxis().SetLabelSize(0.0)\n",
    "axis =ROOT.TGaxis(-5, 20, -5, 220, 20, 220, 510, \"\")\n",
    "axis.SetLabelFont(43)\n",
    "axis.SetLabelSize(15)\n",
    "axis.Draw()\n",
    "pad2.cd()\n",
    "h3.Draw(\"ep\")\n",
    "c.Draw()\n",
    "    "
   ]
  },
  {
   "cell_type": "code",
   "execution_count": null,
   "id": "ba607d77",
   "metadata": {},
   "outputs": [],
   "source": [
    "def dY_Number_efficiency(h3, cross_sec, L):\n",
    "    h4 = h3.Clone(\"h4\")\n",
    "    #h4.Sumw2()\n",
    "    h4.Scale(cross_sec*L)\n",
    "    return h4;"
   ]
  },
  {
   "cell_type": "code",
   "execution_count": null,
   "id": "da7a2069",
   "metadata": {},
   "outputs": [],
   "source": [
    "h4 = dY_Number_efficiency(h3, 21.3*(10**6), 400)\n",
    "y=h4.GetYaxis()\n",
    "y.SetTitle(\"No. of Singke neutrino events\")"
   ]
  },
  {
   "cell_type": "code",
   "execution_count": null,
   "id": "5c3f758c",
   "metadata": {},
   "outputs": [],
   "source": [
    "c = ROOT.TCanvas()\n",
    "c.cd()\n",
    "h4.Draw()\n",
    "c.Draw()\n"
   ]
  },
  {
   "cell_type": "code",
   "execution_count": null,
   "id": "fa59431d",
   "metadata": {},
   "outputs": [],
   "source": [
    "def dY_Number(h, cross_sec, L, entries):\n",
    "    h_final = h.Clone()\n",
    "    h_final.Scale((cross_sec*L)/entries)\n",
    "    return h_final;"
   ]
  },
  {
   "cell_type": "code",
   "execution_count": null,
   "id": "7d5b06ba",
   "metadata": {},
   "outputs": [],
   "source": [
    "h5 = dY_Number(h1, 21.3*(10**6), 400, entries_TkDiMuExtra_full )\n",
    "y=h5.GetYaxis()\n",
    "y.SetTitle(\"No. of Drell Yan events\")\n",
    "y.SetNdivisions(505)\n",
    "y.SetTitleSize(20)\n",
    "y.SetTitleFont(43)\n",
    "y.SetTitleOffset(1.55)\n",
    "y.SetLabelFont(43)\n",
    "y.SetLabelSize(15)\n",
    "c = ROOT.TCanvas()\n",
    "c.cd()\n",
    "h5.Draw()\n",
    "c.Draw()\n",
    "print(f\"total Entries{entries_TkDiMuExtra_full}\")"
   ]
  },
  {
   "cell_type": "code",
   "execution_count": null,
   "id": "b4ebbfec",
   "metadata": {},
   "outputs": [],
   "source": []
  }
 ],
 "metadata": {
  "@webio": {
   "lastCommId": null,
   "lastKernelId": null
  },
  "kernelspec": {
   "display_name": "Python 3",
   "language": "python",
   "name": "python3"
  },
  "language_info": {
   "codemirror_mode": {
    "name": "ipython",
    "version": 3
   },
   "file_extension": ".py",
   "mimetype": "text/x-python",
   "name": "python",
   "nbconvert_exporter": "python",
   "pygments_lexer": "ipython3",
   "version": "3.9.12"
  }
 },
 "nbformat": 4,
 "nbformat_minor": 5
}
