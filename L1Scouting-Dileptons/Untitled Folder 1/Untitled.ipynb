{
 "cells": [
  {
   "cell_type": "code",
   "execution_count": 1,
   "id": "bb0ef8a1",
   "metadata": {},
   "outputs": [
    {
     "name": "stdout",
     "output_type": "stream",
     "text": [
      "Welcome to JupyROOT 6.28/00\n"
     ]
    }
   ],
   "source": [
    "import ROOT, os, sys, glob\n",
    "import numpy as np\n",
    "import math\n",
    "from matplotlib import pyplot as plt\n",
    "from ROOT import kBlack, kBlue, kRed\n",
    "\n",
    "ROOT.EnableImplicitMT(4); "
   ]
  },
  {
   "cell_type": "code",
   "execution_count": 2,
   "id": "eda07fa1",
   "metadata": {},
   "outputs": [
    {
     "data": {
      "text/plain": [
       "['/eos/cms/store/cmst3/group/l1tr/gpetrucc/dilep-scout/l1MuNano_BsToMuMu_PU200.125X_v0.0.root',\n",
       " '/eos/cms/store/cmst3/group/l1tr/gpetrucc/dilep-scout/l1MuNano_DYToLL_M-10To50_PU200.125X_v0.0.root',\n",
       " '/eos/cms/store/cmst3/group/l1tr/gpetrucc/dilep-scout/l1MuNano_DYToLL_M-50_PU200.125X_v0.0.root',\n",
       " '/eos/cms/store/cmst3/group/l1tr/gpetrucc/dilep-scout/l1MuNano_HAHM_ZdToMuMu_M15_PU200.125X_v0.0.root',\n",
       " '/eos/cms/store/cmst3/group/l1tr/gpetrucc/dilep-scout/l1MuNano_HAHM_ZdToMuMu_M2_PU200.125X_v0.0.root',\n",
       " '/eos/cms/store/cmst3/group/l1tr/gpetrucc/dilep-scout/l1MuNano_HAHM_ZdToMuMu_M5_PU200.125X_v0.0.root',\n",
       " '/eos/cms/store/cmst3/group/l1tr/gpetrucc/dilep-scout/l1MuNano_JPsiToMuMu_PU200.125X_v0.0.root',\n",
       " '/eos/cms/store/cmst3/group/l1tr/gpetrucc/dilep-scout/l1MuNano_SingleNeutrino_PU200.125X_v0.0.root']"
      ]
     },
     "execution_count": 2,
     "metadata": {},
     "output_type": "execute_result"
    }
   ],
   "source": [
    "list(glob.glob(\"/eos/cms/store/cmst3/group/l1tr/gpetrucc/dilep-scout/*125X_v0.0.root\"))"
   ]
  },
  {
   "cell_type": "code",
   "execution_count": 3,
   "id": "0f3c53a8",
   "metadata": {},
   "outputs": [],
   "source": [
    "rdf = ROOT.RDataFrame(\"Events\",\"/eos/cms/store/cmst3/group/l1tr/gpetrucc/dilep-scout/l1MuNano_HAHM_ZdToMuMu_M5_PU200.125X_v0.0.root\")"
   ]
  },
  {
   "cell_type": "code",
   "execution_count": 4,
   "id": "365907e4",
   "metadata": {},
   "outputs": [
    {
     "name": "stdout",
     "output_type": "stream",
     "text": [
      "Processed 10000 entries.\n"
     ]
    },
    {
     "name": "stderr",
     "output_type": "stream",
     "text": [
      "Warning in <TClass::Init>: no dictionary for class edm::Hash<1> is available\n",
      "Warning in <TClass::Init>: no dictionary for class edm::ProcessHistory is available\n",
      "Warning in <TClass::Init>: no dictionary for class edm::ProcessConfiguration is available\n",
      "Warning in <TClass::Init>: no dictionary for class edm::ParameterSetBlob is available\n",
      "Warning in <TClass::Init>: no dictionary for class pair<edm::Hash<1>,edm::ParameterSetBlob> is available\n"
     ]
    },
    {
     "data": {
      "image/png": "[encoded data removed]",
      "text/plain": [
       "<IPython.core.display.Image object>"
      ]
     },
     "metadata": {},
     "output_type": "display_data"
    }
   ],
   "source": [
    "def makeDimuonPairs(name, rdf):\n",
    "    ## define 4-vectors in cartesian coordinates, for easier \n",
    "    rdf = rdf.Define(f\"{name}Mu_p4\", f\"ROOT::VecOps::Construct<ROOT::Math::XYZTVector>(ROOT::VecOps::Construct<ROOT::Math::PtEtaPhiMVector>({name}Mu_pt,{name}Mu_eta,{name}Mu_phi,{name}Mu_mass))\")\n",
    "    ## make indices of all the pairs\n",
    "    rdf = rdf.Define(f\"{name}DiMu_indices\", f\"\"\"\n",
    "        ROOT::VecOps::RVec<std::pair<int,int>> ret; \n",
    "        for (int i = 0, n = n{name}Mu; i < n; ++i) \n",
    "            for (int i2 = i+1; i2 < n; ++i2) \n",
    "                ret.emplace_back(i,i2);\n",
    "        return ret;\"\"\")\n",
    "    \n",
    "    #Let us impose a selection criteria here\n",
    "    \n",
    "    \n",
    "    ## Make the number of dimuons, for convenience later\n",
    "    rdf = rdf.Define(f\"n{name}DiMu\", f\"{name}DiMu_indices.size()\")\n",
    "    ## compute the mass, charge\n",
    "    rdf = rdf.Define(f\"{name}DiMu_mass\", f\"\"\"\n",
    "        ROOT::RVecF ret; \n",
    "        for (const auto & pair : {name}DiMu_indices) \n",
    "            ret.emplace_back(({name}Mu_p4[pair.first]+{name}Mu_p4[pair.second]).M());\n",
    "        return ret;\"\"\")\n",
    "    \n",
    "    \n",
    "    rdf = rdf.Define(f\"{name}DiMu_charge\", f\"\"\"\n",
    "        ROOT::RVecI ret; \n",
    "        for (const auto & pair : {name}DiMu_indices) \n",
    "            ret.emplace_back({name}Mu_charge[pair.first]+{name}Mu_charge[pair.second]);\n",
    "        return ret;\"\"\")\n",
    "    \n",
    "#     rdf = rdf.Define(f\"{name}TkDiMu_genIdx\", f\"\"\"\n",
    "#         ROOT::VecOps::RVec<std::pair<int,int>> ret;\n",
    "#         for (const auto & pair : {name}DiMu_indices) \n",
    "#             ret.emplace_back(TkMu_GenMuIdx[pair.first],TkMu_GenMuIdx[pair.second]);\n",
    "#         return ret;\"\"\")\n",
    "    \n",
    "    rdf = rdf.Define(f\"{name}DiMu_minIdx\", f\"\"\"\n",
    "        ROOT::RVecI ret;\n",
    "        for (const auto & pair : {name}DiMu_indices) \n",
    "            ret.emplace_back(std::min(TkMu_GenMuIdx[pair.first],TkMu_GenMuIdx[pair.second]));\n",
    "        return ret;\"\"\")\n",
    "    \n",
    "    return rdf;\n",
    "\n",
    "\n",
    "rdf_gendimu = makeDimuonPairs(\"Gen\", rdf)\n",
    "\n",
    "## Now we make a plot of the number of generated muons and the ones reconstructed by L1T\n",
    "hNGenPairs = rdf_gendimu.Histo1D((\"nGenDiMu\",\"N(#mu#mu)_{gen};Events\",12,-2,10), \"nGenDiMu\")\n",
    "hGenPairMass = rdf_gendimu.Histo1D((\"GenMass\",\"m(#mu#mu)_{gen};m (GeV);Pairs\",50,0,50), \"GenDiMu_mass\")\n",
    "hGenPairCharge = rdf_gendimu.Histo1D((\"GenCharge\",\"q(#mu#mu)_{gen};q(#mu_{1}) + q(#mu_{2});Pairs\",8,-4,4), \"GenDiMu_charge\")\n",
    "entries_genDiMu_full = rdf_gendimu.Count().GetValue()\n",
    "print(f\"Processed {entries_genDiMu_full} entries.\")\n",
    "\n",
    "rdf_gendimu.Describe()\n",
    "## And plot it\n",
    "c1 = ROOT.TCanvas(\"c1\",\"c1\", 1500, 400)\n",
    "c1.Divide(3,1)\n",
    "for i, h in enumerate([hNGenPairs,hGenPairMass,hGenPairCharge]):\n",
    "    c1.cd(i+1)\n",
    "    h.Draw()\n",
    "c1.Draw()"
   ]
  },
  {
   "cell_type": "code",
   "execution_count": null,
   "id": "1ceb9c5a",
   "metadata": {},
   "outputs": [],
   "source": [
    "rdf_Tkdimu = makeDimuonPairs(\"Tk\", rdf_gendimu)\n",
    "\n",
    "## Now we make a plot of the number of generated muons and the ones reconstructed by L1T\n",
    "hNTkPairs = rdf_Tkdimu.Histo1D((\"nTkDiMu\",\"N(#mu#mu)_{Tk};Events\",12,-2,10), \"nTkDiMu\")\n",
    "hTkPairMass = rdf_Tkdimu.Histo1D((\"TkMass\",\"m(#mu#mu)_{Tk};m (GeV);Pairs\",50,0,50), \"TkDiMu_mass\")\n",
    "hTkPairCharge = rdf_Tkdimu.Histo1D((\"TkCharge\",\"q(#mu#mu)_{Tk};q(#mu_{1}) + q(#mu_{2});Pairs\",8,-4,4), \"TkDiMu_charge\")\n",
    "entries_TkDiMu_full = rdf_Tkdimu.Count().GetValue()\n",
    "print(f\"Processed {entries_TkDiMu_full} entries.\")\n",
    "\n",
    "c1 = ROOT.TCanvas(\"c1\",\"c1\", 1500, 400)\n",
    "c1.Divide(3,1)\n",
    "for i, h in enumerate([hNTkPairs,hTkPairMass,hTkPairCharge]):\n",
    "    c1.cd(i+1)\n",
    "    h.Draw()\n",
    "c1.Draw()"
   ]
  }
 ],
 "metadata": {
  "kernelspec": {
   "display_name": "Python 3",
   "language": "python",
   "name": "python3"
  },
  "language_info": {
   "codemirror_mode": {
    "name": "ipython",
    "version": 3
   },
   "file_extension": ".py",
   "mimetype": "text/x-python",
   "name": "python",
   "nbconvert_exporter": "python",
   "pygments_lexer": "ipython3",
   "version": "3.9.12"
  }
 },
 "nbformat": 4,
 "nbformat_minor": 5
}
