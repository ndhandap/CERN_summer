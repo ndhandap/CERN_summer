{
 "cells": [
  {
   "cell_type": "code",
   "execution_count": 1,
   "id": "233b52bc",
   "metadata": {},
   "outputs": [
    {
     "name": "stdout",
     "output_type": "stream",
     "text": [
      "Welcome to JupyROOT 6.28/00\n"
     ]
    }
   ],
   "source": [
    "import ROOT, os, sys, glob\n",
    "from math import *\n",
    "#ROOT.EnableImplicitMT(4);"
   ]
  },
  {
   "cell_type": "code",
   "execution_count": 2,
   "id": "fdd4d791",
   "metadata": {},
   "outputs": [
    {
     "data": {
      "text/plain": [
       "['/eos/cms/store/cmst3/group/l1tr/gpetrucc/dilep-scout/l1MuNano_BsToMuMu_PU200.125X_v0.0.root',\n",
       " '/eos/cms/store/cmst3/group/l1tr/gpetrucc/dilep-scout/l1MuNano_DYToLL_M-10To50_PU200.125X_v0.0.root',\n",
       " '/eos/cms/store/cmst3/group/l1tr/gpetrucc/dilep-scout/l1MuNano_DYToLL_M-50_PU200.125X_v0.0.root',\n",
       " '/eos/cms/store/cmst3/group/l1tr/gpetrucc/dilep-scout/l1MuNano_HAHM_ZdToMuMu_M15_PU200.125X_v0.0.root',\n",
       " '/eos/cms/store/cmst3/group/l1tr/gpetrucc/dilep-scout/l1MuNano_HAHM_ZdToMuMu_M2_PU200.125X_v0.0.root',\n",
       " '/eos/cms/store/cmst3/group/l1tr/gpetrucc/dilep-scout/l1MuNano_HAHM_ZdToMuMu_M5_PU200.125X_v0.0.root',\n",
       " '/eos/cms/store/cmst3/group/l1tr/gpetrucc/dilep-scout/l1MuNano_JPsiToMuMu_PU200.125X_v0.0.root',\n",
       " '/eos/cms/store/cmst3/group/l1tr/gpetrucc/dilep-scout/l1MuNano_SingleNeutrino_PU200.125X_v0.0.root']"
      ]
     },
     "execution_count": 2,
     "metadata": {},
     "output_type": "execute_result"
    }
   ],
   "source": [
    "list(glob.glob(\"/eos/cms/store/cmst3/group/l1tr/gpetrucc/dilep-scout/*125X_v0.0.root\"))"
   ]
  },
  {
   "cell_type": "code",
   "execution_count": 3,
   "id": "155dd920",
   "metadata": {},
   "outputs": [],
   "source": [
    "rdf = ROOT.RDataFrame(\"Events\",\"/eos/cms/store/cmst3/group/l1tr/gpetrucc/dilep-scout/l1MuNano_SingleNeutrino_PU200.125X_v0.0.root\")"
   ]
  },
  {
   "cell_type": "code",
   "execution_count": 4,
   "id": "3e38fd5b",
   "metadata": {},
   "outputs": [
    {
     "data": {
      "text/plain": [
       "Dataframe from TChain Events in file /eos/cms/store/cmst3/group/l1tr/gpetrucc/dilep-scout/l1MuNano_SingleNeutrino_PU200.125X_v0.0.root\n",
       "\n",
       "Property                Value\n",
       "--------                -----\n",
       "Columns in total           34\n",
       "Columns from defines        0\n",
       "Event loops run             0\n",
       "Processing slots            1\n",
       "\n",
       "Column          Type                            Origin\n",
       "------          ----                            ------\n",
       "GenMu_charge    ROOT::VecOps::RVec<Int_t>       Dataset\n",
       "GenMu_d0        ROOT::VecOps::RVec<Float_t>     Dataset\n",
       "GenMu_eta       ROOT::VecOps::RVec<Float_t>     Dataset\n",
       "GenMu_isFromTau ROOT::VecOps::RVec<Int_t>       Dataset\n",
       "GenMu_isPrompt  ROOT::VecOps::RVec<Int_t>       Dataset\n",
       "GenMu_mass      ROOT::VecOps::RVec<Float_t>     Dataset\n",
       "GenMu_phi       ROOT::VecOps::RVec<Float_t>     Dataset\n",
       "GenMu_pt        ROOT::VecOps::RVec<Float_t>     Dataset\n",
       "GenMu_vz        ROOT::VecOps::RVec<Float_t>     Dataset\n",
       "TkMu_GenMuFlav  ROOT::VecOps::RVec<UChar_t>     Dataset\n",
       "TkMu_GenMuIdx   ROOT::VecOps::RVec<Int_t>       Dataset\n",
       "TkMu_charge     ROOT::VecOps::RVec<Int_t>       Dataset\n",
       "TkMu_d0         ROOT::VecOps::RVec<Float_t>     Dataset\n",
       "TkMu_eta        ROOT::VecOps::RVec<Float_t>     Dataset\n",
       "TkMu_hwCharge   ROOT::VecOps::RVec<Int_t>       Dataset\n",
       "TkMu_hwD0       ROOT::VecOps::RVec<Int_t>       Dataset\n",
       "TkMu_hwEta      ROOT::VecOps::RVec<Int_t>       Dataset\n",
       "TkMu_hwIsoSum   ROOT::VecOps::RVec<Int_t>       Dataset\n",
       "TkMu_hwIsoSumAp ROOT::VecOps::RVec<Int_t>       Dataset\n",
       "TkMu_hwPhi      ROOT::VecOps::RVec<Int_t>       Dataset\n",
       "TkMu_hwPt       ROOT::VecOps::RVec<Int_t>       Dataset\n",
       "TkMu_hwQual     ROOT::VecOps::RVec<Int_t>       Dataset\n",
       "TkMu_hwZ0       ROOT::VecOps::RVec<Int_t>       Dataset\n",
       "TkMu_mass       ROOT::VecOps::RVec<Float_t>     Dataset\n",
       "TkMu_phi        ROOT::VecOps::RVec<Float_t>     Dataset\n",
       "TkMu_pt         ROOT::VecOps::RVec<Float_t>     Dataset\n",
       "TkMu_quality    ROOT::VecOps::RVec<Int_t>       Dataset\n",
       "TkMu_vz         ROOT::VecOps::RVec<Float_t>     Dataset\n",
       "bunchCrossing   UInt_t                          Dataset\n",
       "event           ULong64_t                       Dataset\n",
       "luminosityBlock UInt_t                          Dataset\n",
       "nGenMu          UInt_t                          Dataset\n",
       "nTkMu           UInt_t                          Dataset\n",
       "run             UInt_t                          Dataset"
      ]
     },
     "execution_count": 4,
     "metadata": {},
     "output_type": "execute_result"
    },
    {
     "name": "stderr",
     "output_type": "stream",
     "text": [
      "Warning in <TClass::Init>: no dictionary for class edm::Hash<1> is available\n",
      "Warning in <TClass::Init>: no dictionary for class edm::ProcessHistory is available\n",
      "Warning in <TClass::Init>: no dictionary for class edm::ProcessConfiguration is available\n",
      "Warning in <TClass::Init>: no dictionary for class edm::ParameterSetBlob is available\n",
      "Warning in <TClass::Init>: no dictionary for class pair<edm::Hash<1>,edm::ParameterSetBlob> is available\n"
     ]
    }
   ],
   "source": [
    "rdf.Describe()"
   ]
  },
  {
   "cell_type": "code",
   "execution_count": 5,
   "id": "03a00790",
   "metadata": {},
   "outputs": [
    {
     "name": "stdout",
     "output_type": "stream",
     "text": [
      "+-----+--------------+\n",
      "| Row | TkMu_quality | \n",
      "+-----+--------------+\n",
      "| 0   |              | \n",
      "+-----+--------------+\n",
      "| 1   | 58           | \n",
      "|     | 112          | \n",
      "+-----+--------------+\n",
      "| 2   |              | \n",
      "+-----+--------------+\n",
      "| 3   | 186          | \n",
      "+-----+--------------+\n",
      "| 4   | 99           | \n",
      "+-----+--------------+\n",
      "| 5   |              | \n",
      "+-----+--------------+\n",
      "| 6   | 95           | \n",
      "+-----+--------------+\n",
      "| 7   | 64           | \n",
      "+-----+--------------+\n",
      "| 8   | 103          | \n",
      "+-----+--------------+\n",
      "| 9   | 192          | \n",
      "|     | 150          | \n",
      "+-----+--------------+\n",
      "| 10  |              | \n",
      "+-----+--------------+\n",
      "| 11  |              | \n",
      "+-----+--------------+\n",
      "| 12  |              | \n",
      "+-----+--------------+\n",
      "| 13  |              | \n",
      "+-----+--------------+\n",
      "| 14  |              | \n",
      "+-----+--------------+\n",
      "| 15  | 61           | \n",
      "|     | 64           | \n",
      "+-----+--------------+\n",
      "| 16  | 210          | \n",
      "|     | 239          | \n",
      "+-----+--------------+\n",
      "| 17  |              | \n",
      "+-----+--------------+\n",
      "| 18  |              | \n",
      "+-----+--------------+\n",
      "| 19  | 88           | \n",
      "|     | 81           | \n",
      "|     | 98           | \n",
      "|     | 92           | \n",
      "+-----+--------------+\n"
     ]
    }
   ],
   "source": [
    "rdf.Display([\"TkMu_quality\"],20).Print() #this is to display the dataset. this cannot happein wiht the implicitMT on"
   ]
  },
  {
   "cell_type": "code",
   "execution_count": 6,
   "id": "fb6c163c",
   "metadata": {},
   "outputs": [
    {
     "name": "stdout",
     "output_type": "stream",
     "text": [
      "Processed 400000 entries.\n"
     ]
    },
    {
     "data": {
      "image/png": "[encoded data removed]",
      "text/plain": [
       "<IPython.core.display.Image object>"
      ]
     },
     "metadata": {},
     "output_type": "display_data"
    }
   ],
   "source": [
    "hTkQuality = rdf.Histo1D((\"TKQyality\",\"Quality(#mu)_{Tk};\",30,0,275),\"TkMu_quality\")\n",
    "entries = rdf.Count().GetValue()\n",
    "print(f\"Processed {entries} entries.\")\n",
    "c1 = ROOT.TCanvas(\"c1\",\"c1\",1200,400)\n",
    "hTkQuality.Draw()\n",
    "c1.Draw()"
   ]
  },
  {
   "cell_type": "code",
   "execution_count": 7,
   "id": "66021e53",
   "metadata": {},
   "outputs": [
    {
     "name": "stdout",
     "output_type": "stream",
     "text": [
      "Processed 400000 entries.\n"
     ]
    },
    {
     "data": {
      "image/png": "[encoded data removed]",
      "text/plain": [
       "<IPython.core.display.Image object>"
      ]
     },
     "metadata": {},
     "output_type": "display_data"
    }
   ],
   "source": [
    "def makeDimuonPairs(name, rdf):\n",
    "    ## define 4-vectors in cartesian coordinates, for easier \n",
    "    rdf = rdf.Define(f\"{name}Mu_p4\", f\"ROOT::VecOps::Construct<ROOT::Math::XYZTVector>(ROOT::VecOps::Construct<ROOT::Math::PtEtaPhiMVector>({name}Mu_pt,{name}Mu_eta,{name}Mu_phi,{name}Mu_mass))\")\n",
    "    #rdf = rdf.Define(f\"{name}Mu_p4\", f\"(ROOT::VecOps::Construct<ROOT::Math::PtEtaPhiMVector>({name}Mu_pt,{name}Mu_eta,{name}Mu_phi,{name}Mu_mass))\") this is just he above line bu the conversion of cylindircal co-ordinates to carteshian coordinates hasnt been done and this significantly slows dowon the processing\n",
    "\n",
    "    ## make indices of all the pairs\n",
    "    rdf = rdf.Define(f\"{name}DiMu_indices\", f\"\"\"\n",
    "        std::vector<std::pair<int,int>> ret; \n",
    "        for (int i = 0, n = n{name}Mu; i < n; ++i) \n",
    "            for (int i2 = i+1; i2 < n; ++i2) \n",
    "                ret.emplace_back(i,i2);\n",
    "        return ret;\"\"\") \n",
    "\n",
    "    #emplace is used to append a avlue into a set in C++\n",
    "    # std::vector<std::pair<int,int>> ret;  std is used to define a set in C++\n",
    "    \n",
    "    \n",
    "    \n",
    "    ## Make the number of dimuons, for convenience later\n",
    "    rdf = rdf.Define(f\"n{name}DiMu\", f\"{name}DiMu_indices.size()\")\n",
    "    ## compute the mass, charge\n",
    "    rdf = rdf.Define(f\"{name}DiMu_mass\", f\"\"\"\n",
    "        ROOT::RVecF ret; \n",
    "        for (const auto & pair : {name}DiMu_indices) \n",
    "            ret.emplace_back(({name}Mu_p4[pair.first]+{name}Mu_p4[pair.second]).M());\n",
    "        return ret;\"\"\")\n",
    "    rdf = rdf.Define(f\"{name}DiMu_charge\", f\"\"\"\n",
    "        ROOT::RVecI ret; \n",
    "        for (const auto & pair : {name}DiMu_indices) \n",
    "            ret.emplace_back({name}Mu_charge[pair.first]+{name}Mu_charge[pair.second]);\n",
    "        return ret;\"\"\")\n",
    "    ## compute pt \n",
    "#     rdf= rdf.Define(f\"{name}DiMu_pt\",f\"\"\"ROOT::RVecF ret;\n",
    "#     for (const auto & pair : {name}DiMu_indices) \n",
    "#         ret.emplace_back({name}Mu_pt[pair.first]+{name}Mu_pt[pair.second]);\n",
    "#     return ret;\"\"\")\n",
    "    \n",
    "    return rdf; #RVecF impies to create a root vector of float type\n",
    "\n",
    "#what does for(const auto&pair mean)\n",
    "\n",
    "rdf_gendimu = makeDimuonPairs(\"Gen\", rdf)\n",
    "\n",
    "\n",
    "## Now we make a plot of the number of generated muons and the ones reconstructed by L1T\n",
    "hNGenPairs = rdf_gendimu.Histo1D((\"nGenDiMu\",\"N(#mu#mu)_{gen};N(#mu#mu)_{gen};Events\",7,-0.5,6.5), \"nGenDiMu\")\n",
    "hGenPairMass = rdf_gendimu.Histo1D((\"GenMass\",\"m(#mu#mu)_{gen};m (GeV);Pairs\",100,0.0,20.0), \"GenDiMu_mass\")\n",
    "hGenPairCharge = rdf_gendimu.Histo1D((\"GenCharge\",\"q(#mu#mu)_{gen};q(#mu_{1}) + q(#mu_{2});Pairs\",7,-3.5,3.5), \"GenDiMu_charge\")\n",
    "#hGenPairPt = rdf_gendimu.Histo1D((\"GenPt\",\"p_{T}(#mu#mu)_{gen};p_{T}(GeV);Pairs\",100,-10,60),\"GenDiMu_pt\")\n",
    "entries = rdf_gendimu.Count().GetValue()\n",
    "print(f\"Processed {entries} entries.\")\n",
    "## And plot it\n",
    "c2 = ROOT.TCanvas(\"c2\",\"c2\", 1500, 400)\n",
    "c2.Divide(3,1)\n",
    "for i, h in enumerate([hNGenPairs,hGenPairMass,hGenPairCharge]):\n",
    "    c2.cd(i+1)\n",
    "    h.Draw()\n",
    "c2.Draw()"
   ]
  },
  {
   "cell_type": "code",
   "execution_count": 8,
   "id": "a0b00d75",
   "metadata": {},
   "outputs": [
    {
     "name": "stdout",
     "output_type": "stream",
     "text": [
      "Processed 400000 entries.\n"
     ]
    },
    {
     "name": "stderr",
     "output_type": "stream",
     "text": [
      "Warning in <TCanvas::Constructor>: Deleting canvas with same name: c1\n"
     ]
    },
    {
     "data": {
      "image/png": "[encoded data removed]",
      "text/plain": [
       "<IPython.core.display.Image object>"
      ]
     },
     "metadata": {},
     "output_type": "display_data"
    }
   ],
   "source": [
    "rdf_tkdimu = makeDimuonPairs(\"Tk\", rdf_gendimu)\n",
    "\n",
    "hNTkPairs = rdf_tkdimu.Histo1D((\"NTKDiMu\",\"N(#mu#mu)_{Tk};;Events\",25,-4,70),\"nTkDiMu\")\n",
    "hTkPairMass = rdf_tkdimu.Histo1D((\"TKDiMu mass\",\"m(#mu#mu)_{Tk};m(GeV)\",7,0,6),\"TkDiMu_mass\")\n",
    "hTkPairCharge = rdf_tkdimu.Histo1D((\"TKDiMu Charge\",\"q(#mu#mu)_{Tk};q\",7,-3.5,3.5),\"TkDiMu_charge\")\n",
    "entries = rdf_tkdimu.Count().GetValue()\n",
    "print(f\"Processed {entries} entries.\")\n",
    "## And plot it\n",
    "c1 = ROOT.TCanvas(\"c1\",\"c1\", 1500, 400)\n",
    "c1.Divide(3,1)\n",
    "for i, h in enumerate([hNTkPairs,hTkPairMass,hTkPairCharge]):\n",
    "    c1.cd(i+1)\n",
    "    h.Draw()\n",
    "c1.Draw()"
   ]
  },
  {
   "cell_type": "code",
   "execution_count": 9,
   "id": "161914a1",
   "metadata": {},
   "outputs": [],
   "source": [
    "# #mass is not a good indicator to identify good/bad pairs and therrefore we will atart off with seeing charge of dimuon pairs\n",
    "# def makegoodpairs(name, rdf):\n",
    "#     rdf = rdf.Define(f\"{name}DiMU_rightind\",f\"\"\"\n",
    "#     std::vector<std::pair<int,int>> ret;\n",
    "#     for(int i = 0, n = n{name}Mu; i < n; ++i)\n",
    "#         for(int i2 =i+1; i2 < n; ++i2)\n",
    "#             cout<<i2;\n",
    "#             ret.emplace_back(i,i2);\n",
    "#         cout<<i;\n",
    "#     return ret;\"\"\")\n",
    "\n",
    "# rdf_randomcall = makegoodpairs(\"Gen\", rdf)\n",
    "# #if({name}Mu_charge)\n",
    "           "
   ]
  },
  {
   "cell_type": "code",
   "execution_count": null,
   "id": "7f3f5743",
   "metadata": {},
   "outputs": [],
   "source": []
  }
 ],
 "metadata": {
  "@webio": {
   "lastCommId": null,
   "lastKernelId": null
  },
  "kernelspec": {
   "display_name": "Python 3",
   "language": "python",
   "name": "python3"
  },
  "language_info": {
   "codemirror_mode": {
    "name": "ipython",
    "version": 3
   },
   "file_extension": ".py",
   "mimetype": "text/x-python",
   "name": "python",
   "nbconvert_exporter": "python",
   "pygments_lexer": "ipython3",
   "version": "3.9.12"
  }
 },
 "nbformat": 4,
 "nbformat_minor": 5
}
